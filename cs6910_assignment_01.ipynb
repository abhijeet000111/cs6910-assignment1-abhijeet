{
 "cells": [
  {
   "cell_type": "code",
   "execution_count": 1,
   "id": "ka5eSRLZNxsa",
   "metadata": {
    "id": "ka5eSRLZNxsa"
   },
   "outputs": [],
   "source": [
    "# !pip install wandb"
   ]
  },
  {
   "cell_type": "code",
   "execution_count": 2,
   "id": "Uw_NX1joN5Lx",
   "metadata": {
    "id": "Uw_NX1joN5Lx"
   },
   "outputs": [],
   "source": [
    "import wandb"
   ]
  },
  {
   "cell_type": "code",
   "execution_count": 3,
   "id": "k6OoRSl4N61K",
   "metadata": {
    "colab": {
     "base_uri": "https://localhost:8080/"
    },
    "id": "k6OoRSl4N61K",
    "outputId": "65554de5-bf69-42eb-8371-b2e20f0d1246"
   },
   "outputs": [
    {
     "name": "stderr",
     "output_type": "stream",
     "text": [
      "\u001b[34m\u001b[1mwandb\u001b[0m: Currently logged in as: \u001b[33mabhijeet001\u001b[0m. Use \u001b[1m`wandb login --relogin`\u001b[0m to force relogin\n"
     ]
    },
    {
     "data": {
      "text/plain": [
       "True"
      ]
     },
     "execution_count": 3,
     "metadata": {},
     "output_type": "execute_result"
    }
   ],
   "source": [
    "wandb.login()"
   ]
  },
  {
   "cell_type": "code",
   "execution_count": 4,
   "id": "S147T8IvN6_Y",
   "metadata": {
    "id": "S147T8IvN6_Y"
   },
   "outputs": [],
   "source": [
    "# my_project = CS6910_ASSIGNMENT_01"
   ]
  },
  {
   "cell_type": "code",
   "execution_count": 5,
   "id": "x0xzEgmWN7EY",
   "metadata": {
    "id": "x0xzEgmWN7EY"
   },
   "outputs": [],
   "source": [
    "# cs6910_assignment_01"
   ]
  },
  {
   "cell_type": "code",
   "execution_count": 6,
   "id": "e1d004a8",
   "metadata": {
    "id": "e1d004a8"
   },
   "outputs": [],
   "source": [
    "############################################################################################################################\n",
    "# %%writefile activation.py\n",
    "# ACTIVATION_FUNCTION\n",
    "\n",
    "import numpy as np\n",
    "import math\n",
    "\n",
    "def relu(pre_activation_vector):\n",
    "    \"\"\"\n",
    "    Calculate the ReLU activation of a pre-activation vector.\n",
    "\n",
    "    Args:\n",
    "    pre_activation_vector (numpy.ndarray): The input vector.\n",
    "\n",
    "    Returns:\n",
    "    numpy.ndarray: The ReLU activated vector.\n",
    "    \"\"\"\n",
    "    post_act = np.copy(pre_activation_vector)\n",
    "    post_act[post_act < 0] = 0\n",
    "    return post_act\n",
    "\n",
    "def sigmoid(pre_activation_vector):\n",
    "    \"\"\"\n",
    "    Calculate the sigmoid of a pre-activation layer.\n",
    "\n",
    "    Args:\n",
    "    pre_activation_vector (numpy.ndarray): The input vector.\n",
    "\n",
    "    Returns:\n",
    "    numpy.ndarray: The activated vector.\n",
    "    \"\"\"\n",
    "    activated_vector = np.empty_like(pre_activation_vector)\n",
    "    for i, elem in np.ndenumerate(pre_activation_vector):\n",
    "        activated_vector[i] = sigmoid_element_wise(elem)\n",
    "    return activated_vector\n",
    "\n",
    "def softmax(pre_activation_vector):\n",
    "    \"\"\"\n",
    "    Calculate the softmax of a pre-activation vector.\n",
    "\n",
    "    Args:\n",
    "    pre_activation_vector (numpy.ndarray): The input vector.\n",
    "\n",
    "    Returns:\n",
    "    numpy.ndarray: The softmax output.\n",
    "    \"\"\"\n",
    "    post_act = np.copy(pre_activation_vector)\n",
    "    max_exponent = np.max(post_act)\n",
    "    post_act = np.exp(post_act - max_exponent)\n",
    "    post_act = post_act / np.sum(post_act)\n",
    "    return post_act\n",
    "\n",
    "def sigmoid_element_wise(vector_component):\n",
    "    \"\"\"\n",
    "    Calculate the sigmoid function value of a component of a vector.\n",
    "\n",
    "    Args:\n",
    "    vector_component (float): The input value.\n",
    "\n",
    "    Returns:\n",
    "    float: The sigmoid value of the input.\n",
    "    \"\"\"\n",
    "    if vector_component >= 0:\n",
    "        return 1 / (1 + math.exp(-vector_component))\n",
    "    else:\n",
    "        return math.exp(vector_component) / (math.exp(vector_component) + 1)\n",
    "\n",
    "\n",
    "\n",
    "def activation_function(pre_activation_vector, context):\n",
    "    \"\"\"\n",
    "    Apply the specified activation function to the pre-activation vector.\n",
    "\n",
    "    Args:\n",
    "    pre_activation_vector (numpy.ndarray): The input vector.\n",
    "    context (str): The context specifying the activation function ('softmax', 'sigmoid', 'tanh', 'relu').\n",
    "\n",
    "    Returns:\n",
    "    numpy.ndarray: The activated vector.\n",
    "    \"\"\"\n",
    "    if context == 'softmax':\n",
    "        return softmax(pre_activation_vector)\n",
    "    elif context == 'sigmoid':\n",
    "        return sigmoid(pre_activation_vector)\n",
    "    elif context == 'tanh':\n",
    "        return np.copy(np.tanh(pre_activation_vector))\n",
    "    elif context == 'relu':\n",
    "        return relu(pre_activation_vector)\n",
    "    else:\n",
    "        return None\n"
   ]
  },
  {
   "cell_type": "code",
   "execution_count": 7,
   "id": "c2fdd301",
   "metadata": {
    "id": "c2fdd301"
   },
   "outputs": [],
   "source": [
    "############################################################################################################################\n",
    "# %%writefile loss.py\n",
    "# LOSS_TYPE\n",
    "\n",
    "\"\"\"This file contains various methods for calculating loss functions.\"\"\"\n",
    "import numpy as np\n",
    "def squared_error(label, softmax_output):\n",
    "    \"\"\"\n",
    "    Calculate the squared error loss.\n",
    "\n",
    "    Args:\n",
    "    label (int): The true label index.\n",
    "    softmax_output (numpy.ndarray): The softmax output vector.\n",
    "\n",
    "    Returns:\n",
    "    float: The squared error loss.\n",
    "    \"\"\"\n",
    "    true_vector = np.zeros_like(softmax_output)\n",
    "    true_vector[label] = 1\n",
    "    size = float(len(softmax_output))\n",
    "    return np.array([(np.linalg.norm(true_vector - softmax_output) ** 2) / size]).reshape((1, 1))\n",
    "\n",
    "def cross_entropy(label, softmax_output):\n",
    "    \"\"\"\n",
    "    Calculate the cross-entropy loss.\n",
    "\n",
    "    Args:\n",
    "    label (int): The true label index.\n",
    "    softmax_output (numpy.ndarray): The softmax output vector.\n",
    "\n",
    "    Returns:\n",
    "    float: The cross-entropy loss.\n",
    "    \"\"\"\n",
    "    if softmax_output[label] < 1e-8:\n",
    "        return -np.log(1e-8)\n",
    "    return -np.log(softmax_output[label])\n"
   ]
  },
  {
   "cell_type": "code",
   "execution_count": 8,
   "id": "123c2ef3",
   "metadata": {
    "id": "123c2ef3"
   },
   "outputs": [],
   "source": [
    "# %%writefile grad.py\n",
    "# GRADIENT\n",
    "\n",
    "import numpy as np\n",
    "\n",
    "def squared_error_grad(y_hat, label):\n",
    "    \"\"\"\n",
    "    Calculate the gradient of squared error loss with respect to the output activations.\n",
    "\n",
    "    Args:\n",
    "    y_hat (numpy.ndarray): The predicted output vector.\n",
    "    label (int): The true label index.\n",
    "\n",
    "    Returns:\n",
    "    numpy.ndarray: The gradient of the loss with respect to the output activations.\n",
    "    \"\"\"\n",
    "    temp = np.copy(y_hat)\n",
    "    temp[label] -= 1\n",
    "    temp = 2 * temp / len(y_hat)\n",
    "    norm = np.linalg.norm(temp)\n",
    "    if norm > 100.0:\n",
    "        return temp * 100.0 / norm\n",
    "    else:\n",
    "        return temp\n",
    "    \n",
    "def cross_entropy_grad(y_hat, label):\n",
    "    \"\"\"\n",
    "    Calculate the gradient of cross-entropy loss with respect to the output activations.\n",
    "\n",
    "    Args:\n",
    "    y_hat (numpy.ndarray): The predicted output vector.\n",
    "    label (int): The true label index.\n",
    "\n",
    "    Returns:\n",
    "    numpy.ndarray: The gradient of the loss with respect to the output activations.\n",
    "    \"\"\"\n",
    "    temp = np.zeros_like(y_hat)\n",
    "    if y_hat[label] < 1e-8:\n",
    "        y_hat[label] = 1e-8\n",
    "    temp[label] = -1 / (y_hat[label])\n",
    "    norm = np.linalg.norm(temp)\n",
    "    if norm > 100.0:\n",
    "        return temp * 100.0 / norm\n",
    "    else:\n",
    "        return temp\n",
    "\n",
    "\n",
    "def output_grad(y_hat, label, loss_type):\n",
    "    \"\"\"\n",
    "    Calculate the gradient of the specified loss function with respect to the output activations.\n",
    "\n",
    "    Args:\n",
    "    y_hat (numpy.ndarray): The predicted output vector.\n",
    "    label (int): The true label index.\n",
    "    loss_type (str): The type of loss function ('cross_entropy' or 'squared_error').\n",
    "\n",
    "    Returns:\n",
    "    numpy.ndarray: The gradient of the loss with respect to the output activations.\n",
    "    \"\"\"\n",
    "    if loss_type == 'cross_entropy':\n",
    "        return cross_entropy_grad(y_hat, label)\n",
    "    elif loss_type == 'squared_error':\n",
    "        return squared_error_grad(y_hat, label)\n",
    "\n",
    "def last_grad(y_hat, label):\n",
    "    \"\"\"\n",
    "    Calculate the gradient of the last layer's activations with respect to the output activations.\n",
    "\n",
    "    Args:\n",
    "    y_hat (numpy.ndarray): The predicted output vector.\n",
    "    label (int): The true label index.\n",
    "\n",
    "    Returns:\n",
    "    numpy.ndarray: The gradient of the last layer's activations with respect to the output activations.\n",
    "    \"\"\"\n",
    "    temp = np.copy(y_hat)\n",
    "    temp[label] = temp[label] - 1\n",
    "    norm = np.linalg.norm(temp)\n",
    "    if norm > 100.0:\n",
    "        return temp * 100.0 / norm\n",
    "    else:\n",
    "        return temp\n",
    "\n",
    "def tanh_grad(post_activation):\n",
    "    \"\"\"\n",
    "    Calculate the gradient of the hyperbolic tangent activation function.\n",
    "\n",
    "    Args:\n",
    "    post_activation (numpy.ndarray): The post-activation vector.\n",
    "\n",
    "    Returns:\n",
    "    numpy.ndarray: The gradient of the hyperbolic tangent activation function.\n",
    "    \"\"\"\n",
    "    return 1 - np.power(post_activation, 2)\n",
    "\n",
    "def relu_grad(pre_activation_vector):\n",
    "    \"\"\"\n",
    "    Calculate the gradient of the ReLU activation function.\n",
    "\n",
    "    Args:\n",
    "    pre_activation_vector (numpy.ndarray): The pre-activation vector.\n",
    "\n",
    "    Returns:\n",
    "    numpy.ndarray: The gradient of the ReLU activation function.\n",
    "    \"\"\"\n",
    "    grad = np.copy(pre_activation_vector)\n",
    "    grad[grad >= 0] = 1\n",
    "    grad[grad < 0] = 0\n",
    "    return grad\n",
    "\n",
    "def sigmoid_grad(post_activation):\n",
    "    \"\"\"\n",
    "    Calculate the gradient of the sigmoid activation function.\n",
    "\n",
    "    Args:\n",
    "    post_activation (numpy.ndarray): The post-activation vector.\n",
    "\n",
    "    Returns:\n",
    "    numpy.ndarray: The gradient of the sigmoid activation function.\n",
    "    \"\"\"\n",
    "    return np.multiply(post_activation, 1 - post_activation)\n",
    "\n",
    "def w_grad(network, transient_gradient, layer, x):\n",
    "    \"\"\"\n",
    "    Calculate the gradient of the weights with respect to the pre-activation values.\n",
    "\n",
    "    Args:\n",
    "    network (list): The network configuration.\n",
    "    transient_gradient (dict): The transient gradients.\n",
    "    layer (int): The layer index.\n",
    "    x (numpy.ndarray): The input vector.\n",
    "\n",
    "    Returns:\n",
    "    numpy.ndarray: The gradient of the weights with respect to the pre-activation values.\n",
    "    \"\"\"\n",
    "    if layer == 0:\n",
    "        temp = transient_gradient[layer]['a'] @ x.transpose()\n",
    "    else:\n",
    "        temp = transient_gradient[layer]['a'] @ network[layer - 1]['h'].transpose()\n",
    "    norm = np.linalg.norm(temp)\n",
    "    if norm > 10000.0:\n",
    "        return temp * 10000.0 / norm\n",
    "    else:\n",
    "        return temp\n",
    "\n",
    "def a_grad(network, transient_gradient, layer):\n",
    "    \"\"\"\n",
    "    Calculate the gradient of the activation values with respect to the pre-activation values.\n",
    "\n",
    "    Args:\n",
    "    network (list): The network configuration.\n",
    "    transient_gradient (dict): The transient gradients.\n",
    "    layer (int): The layer index.\n",
    "\n",
    "    Returns:\n",
    "    numpy.ndarray: The gradient of the activation values with respect to the pre-activation values.\n",
    "    \"\"\"\n",
    "    if network[layer]['context'] == 'sigmoid':\n",
    "        active_grad_ = sigmoid_grad(network[layer]['h'])\n",
    "    elif network[layer]['context'] == 'tanh':\n",
    "        active_grad_ = tanh_grad(network[layer]['h'])\n",
    "    elif network[layer]['context'] == 'relu':\n",
    "        active_grad_ = relu_grad(network[layer]['a'])\n",
    "    temp = np.multiply(transient_gradient[layer]['h'], active_grad_)\n",
    "    norm = np.linalg.norm(temp)\n",
    "    if norm > 100.0:\n",
    "        return temp * 100.0 / norm\n",
    "    else:\n",
    "        return temp\n",
    "\n",
    "def h_grad(network, transient_gradient, layer):\n",
    "    \"\"\"\n",
    "    Calculate the gradient of the hidden layer activations with respect to the pre-activation values.\n",
    "\n",
    "    Args:\n",
    "    network (list): The network configuration.\n",
    "    transient_gradient (dict): The transient gradients.\n",
    "    layer (int): The layer index.\n",
    "\n",
    "    Returns:\n",
    "    numpy.ndarray: The gradient of the hidden layer activations with respect to the pre-activation values.\n",
    "    \"\"\"\n",
    "    network[layer]['weight'].transpose()\n",
    "    temp = network[layer + 1]['weight'].transpose() @ transient_gradient[layer + 1]['a']\n",
    "    norm = np.linalg.norm(temp)\n",
    "    if norm > 100.0:\n",
    "        return temp * 100.0 / norm\n",
    "    else:\n",
    "        return temp\n"
   ]
  },
  {
   "cell_type": "code",
   "execution_count": 9,
   "id": "e14cdd88",
   "metadata": {
    "id": "e14cdd88"
   },
   "outputs": [],
   "source": [
    "############################################################################################################################\n",
    "# %%writefile optimiser.py\n",
    "# OPTIMISER\n",
    "\n",
    "import sys\n",
    "import copy\n",
    "import math\n",
    "import numpy as np\n",
    "\n",
    "\n",
    "class SimpleGradientDescent:\n",
    "    \"\"\"\n",
    "    Class for simple gradient descent optimiser.\n",
    "\n",
    "    Attributes:\n",
    "    eta (float): Learning rate.\n",
    "    layers (int): Number of layers in the network.\n",
    "    weight_decay (float): Weight decay coefficient.\n",
    "    calls (int): Number of optimiser calls.\n",
    "    lrc (float): Learning rate controller.\n",
    "    \"\"\"\n",
    "\n",
    "    def __init__(self, eta, layers, weight_decay=0.0):\n",
    "        self.eta = eta\n",
    "        self.layers = layers\n",
    "        self.calls = 1\n",
    "        self.lrc = 1.0\n",
    "        self.weight_decay = weight_decay\n",
    "\n",
    "    def descent(self, network, gradient):\n",
    "        for i in range(self.layers):\n",
    "            network[i]['weight'] = network[i]['weight'] - ((self.eta / self.lrc) * gradient[i]['weight']) - (\n",
    "                        self.eta * self.weight_decay * network[i]['weight'])\n",
    "            network[i]['bias'] -= ((self.eta / self.lrc) * gradient[i]['bias'])\n",
    "        self.calls += 1\n",
    "        if self.calls % 10 == 0:\n",
    "            self.lrc += 1.0\n",
    "\n",
    "class MomentumGradientDescent:\n",
    "    \"\"\"\n",
    "    Class for Momentum gradient descent optimiser.\n",
    "\n",
    "    Attributes:\n",
    "    eta (float): Learning rate.\n",
    "    gamma (float): Momentum coefficient.\n",
    "    layers (int): Number of layers in the network.\n",
    "    weight_decay (float): Weight decay coefficient.\n",
    "    calls (int): Number of optimiser calls.\n",
    "    lrc (float): Learning rate controller.\n",
    "    momentum (dict): Historical momentum.\n",
    "    \"\"\"\n",
    "\n",
    "    def __init__(self, eta, layers, gamma, weight_decay=0.0):\n",
    "        self.eta = eta\n",
    "        self.gamma = gamma\n",
    "        self.layers = layers\n",
    "        self.calls = 1\n",
    "        self.lrc = 1\n",
    "        self.momentum = None\n",
    "        self.weight_decay = weight_decay\n",
    "\n",
    "    def descent(self, network, gradient):\n",
    "        gamma = min(1 - 2 ** (-1 - math.log((self.calls / 250.0) + 1, 2)), self.gamma)\n",
    "\n",
    "        if self.momentum is None:\n",
    "            self.momentum = copy.deepcopy(gradient)\n",
    "            for i in range(self.layers):\n",
    "                self.momentum[i]['weight'] = (self.eta / self.lrc) * gradient[i]['weight']\n",
    "                self.momentum[i]['bias'] = (self.eta / self.lrc) * gradient[i]['bias']\n",
    "        else:\n",
    "            for i in range(self.layers):\n",
    "                self.momentum[i]['weight'] = gamma * self.momentum[i]['weight'] + (self.eta / self.lrc) * gradient[i][\n",
    "                    'weight']\n",
    "                self.momentum[i]['bias'] = gamma * self.momentum[i]['bias'] + (self.eta / self.lrc) * gradient[i][\n",
    "                    'bias']\n",
    "        for i in range(self.layers):\n",
    "            network[i]['weight'] = network[i]['weight'] - self.momentum[i]['weight'] - (\n",
    "                        (self.eta / self.lrc) * self.weight_decay * network[i]['weight'])\n",
    "            network[i]['bias'] -= self.momentum[i]['bias']\n",
    "\n",
    "        self.calls += 1\n",
    "        if self.calls % 10 == 0:\n",
    "            self.lrc += 1.0\n",
    "\n",
    "class NAG:\n",
    "    \"\"\"\n",
    "    Class for Nesterov Accelerated Gradient (NAG) optimiser.\n",
    "\n",
    "    Attributes:\n",
    "    eta (float): Learning rate.\n",
    "    gamma (float): NAG coefficient.\n",
    "    layers (int): Number of layers in the network.\n",
    "    weight_decay (float): Weight decay coefficient.\n",
    "    calls (int): Number of optimiser calls.\n",
    "    momentum (dict): Historical momentum.\n",
    "    lrc (float): Learning rate controller.\n",
    "    \"\"\"\n",
    "\n",
    "    def __init__(self, eta, layers, gamma, weight_decay=0.0):\n",
    "        self.eta = eta\n",
    "        self.gamma = gamma\n",
    "        self.layers = layers\n",
    "        self.calls = 1\n",
    "        self.momentum = None\n",
    "        self.lrc = 1.0\n",
    "        self.weight_decay = weight_decay\n",
    "\n",
    "    def lookahead(self, network):\n",
    "        if self.momentum is None:\n",
    "            pass\n",
    "        else:\n",
    "            for i in range(self.layers):\n",
    "                network[i]['weight'] -= self.gamma * self.momentum[i]['weight']\n",
    "                network[i]['bias'] -= self.gamma * self.momentum[i]['bias']\n",
    "\n",
    "    def descent(self, network, gradient):\n",
    "        for i in range(self.layers):\n",
    "            network[i]['weight'] = network[i]['weight'] - ((self.eta / self.lrc) * gradient[i]['weight']) - (\n",
    "                        (self.eta / self.lrc) * self.weight_decay * network[i]['weight'])\n",
    "            network[i]['bias'] -= self.eta * gradient[i]['bias']\n",
    "\n",
    "        gamma = min(1 - 2 ** (-1 - math.log((self.calls / 250.0) + 1, 2)), self.gamma)\n",
    "\n",
    "        if self.momentum is None:\n",
    "            self.momentum = copy.deepcopy(gradient)\n",
    "            for i in range(self.layers):\n",
    "                self.momentum[i]['weight'] = (self.eta / self.lrc) * gradient[i]['weight']\n",
    "                self.momentum[i]['bias'] = (self.eta / self.lrc) * gradient[i]['bias']\n",
    "        else:\n",
    "            for i in range(self.layers):\n",
    "                self.momentum[i]['weight'] = gamma * self.momentum[i]['weight'] + ((self.eta / self.lrc) * gradient[i][\n",
    "                    'weight'])\n",
    "                self.momentum[i]['bias'] = gamma * self.momentum[i]['bias'] + ((self.eta / self.lrc) * gradient[i][\n",
    "                    'bias'])\n",
    "\n",
    "        self.calls += 1\n",
    "        if self.calls % 10 == 0:\n",
    "            self.lrc += 1.0\n",
    "\n",
    "class RMSProp:\n",
    "    \"\"\"\n",
    "    Class for RMSProp optimiser.\n",
    "\n",
    "    Attributes:\n",
    "    eta (float): Learning rate.\n",
    "    beta (float): Decay parameter for denominator.\n",
    "    layers (int): Number of layers in the network.\n",
    "    calls (int): Number of optimiser calls.\n",
    "    epsilon (float): Epsilon value.\n",
    "    update (dict): Update rule for RMSProp.\n",
    "    weight_decay (float): Weight decay coefficient.\n",
    "    \"\"\"\n",
    "\n",
    "    def __init__(self, eta, layers, beta, weight_decay=0.0):\n",
    "        self.eta = eta\n",
    "        self.beta = beta\n",
    "        self.layers = layers\n",
    "        self.calls = 1\n",
    "        self.epsilon = 0.001\n",
    "        self.update = None\n",
    "        self.weight_decay = weight_decay\n",
    "\n",
    "    def descent(self, network, gradient):\n",
    "        if self.update is None:\n",
    "            self.update = copy.deepcopy(gradient)\n",
    "            for i in range(self.layers):\n",
    "                self.update[i]['weight'] = (1 - self.beta) * (gradient[i]['weight']) ** 2\n",
    "                self.update[i]['bias'] = (1 - self.beta) * (gradient[i]['bias']) ** 2\n",
    "        else:\n",
    "            for i in range(self.layers):\n",
    "                self.update[i]['weight'] = self.beta * self.update[i]['weight'] + (1 - self.beta) * (gradient[i][\n",
    "                    'weight']) ** 2\n",
    "                self.update[i]['bias'] = self.beta * self.update[i]['bias'] + (1 - self.beta) * (\n",
    "                    gradient[i]['bias']) ** 2\n",
    "\n",
    "        for i in range(self.layers):\n",
    "            network[i]['weight'] = network[i]['weight'] - np.multiply(\n",
    "                (self.eta / np.sqrt(self.update[i]['weight'] + self.epsilon)),\n",
    "                gradient[i]['weight']) - self.weight_decay * network[i]['weight']\n",
    "            network[i]['bias'] = network[i]['bias'] - np.multiply(\n",
    "                (self.eta / np.sqrt(self.update[i]['bias'] + self.epsilon)), gradient[i]['bias'])\n",
    "\n",
    "        self.calls += 1\n",
    "\n",
    "class ADAM:\n",
    "    \"\"\"\n",
    "    Class for ADAM optimiser.\n",
    "\n",
    "    Attributes:\n",
    "    eta (float): Learning rate.\n",
    "    layers (int): Number of layers in the network.\n",
    "    weight_decay (float): Weight decay coefficient.\n",
    "    beta1 (float): Exponential decay rate for the first moment estimates.\n",
    "    beta2 (float): Exponential decay rate for the second moment estimates.\n",
    "    eps (float): Epsilon value.\n",
    "    calls (int): Number of optimiser calls.\n",
    "    momentum (dict): First moment vector.\n",
    "    t_momentum (dict): Biased corrected first moment vector.\n",
    "    second_momentum (dict): Second moment vector.\n",
    "    t_second_momentum (dict): Biased corrected second moment vector.\n",
    "    \"\"\"\n",
    "\n",
    "    def __init__(self, eta, layers, weight_decay=0.0, beta1=0.9, beta2=0.999, eps=1e-8):\n",
    "        self.eta = eta\n",
    "        self.beta1 = beta1\n",
    "        self.beta2 = beta2\n",
    "        self.layers = layers\n",
    "        self.calls = 1\n",
    "        self.momentum = None\n",
    "        self.t_momentum = None\n",
    "        self.second_momentum = None\n",
    "        self.t_second_momentum = None\n",
    "        self.eps = eps\n",
    "        self.weight_decay = weight_decay\n",
    "\n",
    "    def descent(self, network, gradient):\n",
    "        if self.momentum is None:\n",
    "            self.momentum = copy.deepcopy(gradient)\n",
    "            self.second_momentum = copy.deepcopy(gradient)\n",
    "            for i in range(self.layers):\n",
    "                self.momentum[i]['weight'][:] = np.zeros_like(gradient[i]['weight'])\n",
    "                self.momentum[i]['bias'][:] = np.zeros_like(gradient[i]['bias'])\n",
    "                self.second_momentum[i]['weight'][:] = np.zeros_like(gradient[i]['weight'])\n",
    "                self.second_momentum[i]['bias'][:] = np.zeros_like(gradient[i]['bias'])\n",
    "            self.t_momentum = copy.deepcopy(self.momentum)\n",
    "            self.t_second_momentum = copy.deepcopy(self.second_momentum)\n",
    "\n",
    "        for i in range(self.layers):\n",
    "            self.momentum[i]['weight'] = self.beta1 * self.momentum[i]['weight'] + (1 - self.beta1) * gradient[i][\n",
    "                'weight']\n",
    "            self.momentum[i]['bias'] = self.beta1 * self.momentum[i]['bias'] + (1 - self.beta1) * gradient[i]['bias'\n",
    "            ]\n",
    "\n",
    "            self.second_momentum[i]['weight'] = self.beta2 * self.second_momentum[i]['weight'] + (\n",
    "                    1 - self.beta2) * np.power(gradient[i][\n",
    "                                                   'weight'], 2)\n",
    "            self.second_momentum[i]['bias'] = self.beta2 * self.second_momentum[i]['bias'] + (\n",
    "                    1 - self.beta2) * np.power(gradient[i]['bias'\n",
    "                                               ], 2)\n",
    "\n",
    "        for i in range(self.layers):\n",
    "            self.t_momentum[i]['weight'][:] = (1 / (1 - (self.beta1 ** self.calls))) * self.momentum[i]['weight']\n",
    "            self.t_momentum[i]['bias'][:] = (1 / (1 - (self.beta1 ** self.calls))) * self.momentum[i]['bias']\n",
    "\n",
    "            self.t_second_momentum[i]['weight'][:] = (1 / (1 - (self.beta2 ** self.calls))) * \\\n",
    "                                                     self.second_momentum[i][\n",
    "                                                         'weight']\n",
    "            self.t_second_momentum[i]['bias'][:] = (1 / (1 - (self.beta2 ** self.calls))) * self.second_momentum[i][\n",
    "                'bias']\n",
    "\n",
    "        for i in range(self.layers):\n",
    "            temp = np.sqrt(self.t_second_momentum[i]['weight'])\n",
    "            temp_eps = temp + self.eps\n",
    "            temp_inv = 1 / temp_eps\n",
    "            network[i]['weight'] = network[i]['weight'] - self.eta * (\n",
    "                np.multiply(temp_inv, self.t_momentum[i]['weight'])) - (\n",
    "                                               self.eta * self.weight_decay * network[i]['weight'])\n",
    "\n",
    "            temp = np.sqrt(self.t_second_momentum[i]['bias'])\n",
    "            temp_eps = temp + self.eps\n",
    "            temp_inv = 1 / temp_eps\n",
    "            network[i]['bias'] -= self.eta * np.multiply(temp_inv, self.t_momentum[i]['bias'])\n",
    "\n",
    "        self.calls += 1\n",
    "\n",
    "class NADAM:\n",
    "    \"\"\"\n",
    "    Class for Nesterov Accelerated ADAM (NADAM) optimiser.\n",
    "\n",
    "    Attributes:\n",
    "    eta (float): Learning rate.\n",
    "    layers (int): Number of layers in the network.\n",
    "    weight_decay (float): Weight decay coefficient.\n",
    "    beta1 (float): Exponential decay rate for the first moment estimates.\n",
    "    beta2 (float): Exponential decay rate for the second moment estimates.\n",
    "    eps (float): Epsilon value.\n",
    "    calls (int): Number of optimiser calls.\n",
    "    momentum (dict): First moment vector.\n",
    "    second_momentum (dict): Second moment vector.\n",
    "    \"\"\"\n",
    "\n",
    "    def __init__(self, eta, layers, weight_decay=0.0, beta1=0.9, beta2=0.999, eps=1e-8):\n",
    "        self.eta = eta\n",
    "        self.beta1 = beta1\n",
    "        self.beta2 = beta2\n",
    "        self.layers = layers\n",
    "        self.calls = 1\n",
    "        self.momentum = None\n",
    "        self.second_momentum = None\n",
    "        self.eps = eps\n",
    "        self.weight_decay = weight_decay\n",
    "\n",
    "    def descent(self, network, gradient):\n",
    "        if self.momentum is None:\n",
    "            self.momentum = copy.deepcopy(gradient)\n",
    "            self.second_momentum = copy.deepcopy(gradient)\n",
    "            for i in range(self.layers):\n",
    "                self.momentum[i]['weight'] = (1 - self.beta1) * gradient[i]['weight']\n",
    "                self.momentum[i]['bias'] = (1 - self.beta1) * gradient[i]['bias']\n",
    "                self.second_momentum[i]['weight'] = (1 - self.beta2) * np.power(gradient[i]['weight'], 2)\n",
    "                self.second_momentum[i]['bias'] = (1 - self.beta2) * np.power(gradient[i]['bias'], 2)\n",
    "        else:\n",
    "            for i in range(self.layers):\n",
    "                self.momentum[i]['weight'] = self.beta1 * self.momentum[i]['weight'] + (1 - self.beta1) * \\\n",
    "                                             gradient[i][\n",
    "                                                 'weight']\n",
    "                self.momentum[i]['bias'] = self.beta1 * self.momentum[i]['bias'] + (1 - self.beta1) * gradient[i][\n",
    "                    'bias'\n",
    "                ]\n",
    "                self.second_momentum[i]['weight'] = self.beta2 * self.second_momentum[i]['weight'] + (\n",
    "                        1 - self.beta2) * np.power(gradient[i][\n",
    "                                                       'weight'], 2)\n",
    "                self.second_momentum[i]['bias'] = self.beta2 * self.second_momentum[i]['bias'] + (\n",
    "                        1 - self.beta2) * np.power(gradient[i]['bias'\n",
    "                                                   ], 2)\n",
    "\n",
    "        m_t_hat = copy.deepcopy(self.momentum)\n",
    "        v_t_hat = copy.deepcopy(self.second_momentum)\n",
    "        for i in range(self.layers):\n",
    "            m_t_hat[i]['weight'] = (self.beta1 / (1 - (self.beta1 ** self.calls))) * self.momentum[i][\n",
    "                'weight'] + ((1 - self.beta1) / (1 - (self.beta1 ** self.calls))) * gradient[i]['weight']\n",
    "            m_t_hat[i]['bias'] = (self.beta1 / (1 - (self.beta1 ** self.calls))) * self.momentum[i]['bias'] + (\n",
    "                    (1 - self.beta1) / (1 - (self.beta1 ** self.calls))) * gradient[i]['bias']\n",
    "\n",
    "            v_t_hat[i]['weight'] = (self.beta2 / (1 - (self.beta2 ** self.calls))) * \\\n",
    "                                   self.second_momentum[i][\n",
    "                                       'weight']\n",
    "            v_t_hat[i]['bias'] = (self.beta2 / (1 - (self.beta2 ** self.calls))) * self.second_momentum[i][\n",
    "                'bias']\n",
    "\n",
    "        for i in range(self.layers):\n",
    "            temp = np.sqrt(self.second_momentum[i]['weight'] + self.eps)\n",
    "            temp_inv = 1 / temp\n",
    "            network[i]['weight'] = network[i]['weight'] - self.eta * (\n",
    "                np.multiply(temp_inv, m_t_hat[i]['weight'])) - (self.eta * self.weight_decay * network[i]['weight'])\n",
    "\n",
    "            temp = np.sqrt(self.second_momentum[i]['bias']) + self.eps\n",
    "            temp_inv = 1 / temp\n",
    "            network[i]['bias'] -= self.eta * np.multiply(temp_inv, v_t_hat[i]['bias'])\n",
    "\n",
    "        self.calls += 1\n"
   ]
  },
  {
   "cell_type": "code",
   "execution_count": 10,
   "id": "c43a22c0",
   "metadata": {
    "id": "c43a22c0"
   },
   "outputs": [],
   "source": [
    "############################################################################################################################\n",
    "# %%writefile main.py\n",
    "# MAIN\n",
    "\n",
    "\"\"\"Implement Feed Forward neural network where the parameters are\n",
    "   number of hidden layers and number of neurons in each hidden layer\"\"\"\n",
    "# from loss import *\n",
    "# from grad import *\n",
    "# from activation import *\n",
    "# from optimiser import *\n",
    "import copy\n",
    "from keras.datasets import fashion_mnist\n",
    "from keras.preprocessing.image import ImageDataGenerator\n",
    "import numpy as np\n",
    "import wandb\n",
    "\n",
    "\"\"\" get training and testing vectors\n",
    "    Number of Training Images = 60000\n",
    "    Number of Testing Images = 10000 \"\"\"\n",
    "(trainX, trainY), (testX, testY) = fashion_mnist.load_data()\n",
    "\n",
    "last = 2\n",
    "# network is a list of all the learning parameters in every layer and gradient is its copy\n",
    "network = []\n",
    "gradient = []\n",
    "# store gradient w.r.t a single datapoint\n",
    "transient_gradient = []\n",
    "# will contain the total amount of loss for each timestep(1). One timestep is defined as one update of the parameters.\n",
    "loss = 0\n",
    "\n",
    "\n",
    "def forward_propagation(n, x):\n",
    "    for i in range(n):\n",
    "        if i == 0:\n",
    "            network[i]['a'] = network[i]['weight'] @ x + network[i]['bias']\n",
    "        else:\n",
    "            network[i]['a'] = network[i]['weight'] @ network[i - 1]['h'] + network[i]['bias']\n",
    "\n",
    "        network[i]['h'] = activation_function(network[i]['a'], context=network[i]['context'])\n",
    "\n",
    "\n",
    "def backward_propagation(number_of_layers, x, y, number_of_datapoint, loss_type, clean=False):\n",
    "    transient_gradient[number_of_layers - 1]['h'] = output_grad(network[number_of_layers - 1]['h'], y,\n",
    "                                                                loss_type=loss_type)\n",
    "    transient_gradient[number_of_layers - 1]['a'] = last_grad(network[number_of_layers - 1]['h'], y)\n",
    "    for i in range(number_of_layers - 2, -1, -1):\n",
    "        transient_gradient[i]['h'] = h_grad(network=network, transient_gradient=transient_gradient, layer=i)\n",
    "        transient_gradient[i]['a'] = a_grad(network=network, transient_gradient=transient_gradient, layer=i)\n",
    "    for i in range(number_of_layers - 1, -1, -1):\n",
    "        transient_gradient[i]['weight'] = w_grad(network=network, transient_gradient=transient_gradient, layer=i, x=x)\n",
    "        transient_gradient[i]['bias'] = gradient[i]['a']\n",
    "    if clean:\n",
    "        gradient[number_of_layers - 1]['h'] = transient_gradient[number_of_layers - 1]['h'] / float(number_of_datapoint)\n",
    "        gradient[number_of_layers - 1]['a'] = transient_gradient[number_of_layers - 1]['a'] / float(number_of_datapoint)\n",
    "        for i in range(number_of_layers - 2, -1, -1):\n",
    "            gradient[i]['h'] = transient_gradient[i]['h'] / float(number_of_datapoint)\n",
    "            gradient[i]['a'] = transient_gradient[i]['a'] / float(number_of_datapoint)\n",
    "        for i in range(number_of_layers - 1, -1, -1):\n",
    "            gradient[i]['weight'] = transient_gradient[i]['weight'] / float(number_of_datapoint)\n",
    "            gradient[i]['bias'] = transient_gradient[i]['bias'] / float(number_of_datapoint)\n",
    "    else:\n",
    "\n",
    "        gradient[number_of_layers - 1]['h'] += transient_gradient[number_of_layers - 1]['h'] / float(\n",
    "            number_of_datapoint)\n",
    "        gradient[number_of_layers - 1]['a'] += transient_gradient[number_of_layers - 1]['a'] / float(\n",
    "            number_of_datapoint)\n",
    "        for i in range(number_of_layers - 2, -1, -1):\n",
    "            gradient[i]['h'] += transient_gradient[i]['h'] / float(number_of_datapoint)\n",
    "            gradient[i]['a'] += transient_gradient[i]['a'] / float(number_of_datapoint)\n",
    "        for i in range(number_of_layers - 1, -1, -1):\n",
    "            gradient[i]['weight'] += transient_gradient[i]['weight'] / float(number_of_datapoint)\n",
    "            gradient[i]['bias'] += transient_gradient[i]['bias'] / float(number_of_datapoint)\n",
    "\n",
    "def augment_my_data(datapoints, labels, d, newSize):\n",
    "    dataGenerator = ImageDataGenerator(rotation_range=15, shear_range=0.1, zoom_range=0.2, width_shift_range=0.1,\n",
    "                                       height_shift_range=0.1, horizontal_flip=True, fill_mode='nearest')\n",
    "    new_data = []\n",
    "    new_label = []\n",
    "    datapoints = datapoints.reshape((d, 28, 28, 1))\n",
    "    i = 0\n",
    "    for (data, label) in dataGenerator.flow(datapoints, labels, batch_size=1):\n",
    "        new_data.append(data.reshape(28, 28))\n",
    "        new_label.append(label)\n",
    "        i += 1\n",
    "        if i > newSize:\n",
    "            break\n",
    "\n",
    "    return np.array(new_data), np.array(new_label), newSize\n",
    "            \n",
    "            \n",
    "# this function is used for validation, useful during hyperparameter tuning or model change.\n",
    "def validate(number_of_layer, validateX, validateY, loss_type):\n",
    "    loss_local = 0\n",
    "    acc = 0\n",
    "    if loss_type == 'cross_entropy':\n",
    "        for x, y in zip(validateX, validateY):\n",
    "            forward_propagation(number_of_layer, x.reshape(784, 1) / 255.0)\n",
    "            # adding loss w.r.t to a single datapoint\n",
    "            loss_local += cross_entropy(label=y, softmax_output=network[number_of_layer - 1]['h'])\n",
    "            max_prob = np.argmax(network[number_of_layer - 1]['h'])\n",
    "            if max_prob == y:\n",
    "                acc += 1\n",
    "    elif loss_type == 'squared_error':\n",
    "        for x, y in zip(validateX, validateY):\n",
    "            forward_propagation(number_of_layer, x.reshape(784, 1) / 255.0)\n",
    "            # adding loss w.r.t to a single datapoint\n",
    "            loss_local += squared_error(label=y, softmax_output=network[number_of_layer - 1]['h'])\n",
    "            max_prob = np.argmax(network[number_of_layer - 1]['h'])\n",
    "            if max_prob == y:\n",
    "                acc += 1\n",
    "    average_loss = loss_local / float(len(validateX))\n",
    "    acc = acc / float(len(validateX))\n",
    "    return [average_loss, acc]\n",
    "\n",
    "\n",
    "# 1 epoch = 1 pass over the data\n",
    "def fit(datapoints, batch, epochs, labels, opt, loss_type, augment):\n",
    "    n = len(network)  # number of layers\n",
    "    d = len(datapoints)  # number of data points\n",
    "    \"\"\"        \n",
    "    This variable will be employed to distinguish the training and validation sets:\n",
    "    1. To follow the question's suggestion, we reserve 10% of the data: int(d * .1).\n",
    "    2. Additionally, any remaining data is appended to the validation set to ensure that the training data can be evenly divided by the batch size: ((d - int(d * .1)) % batch).\n",
    "    \"\"\"\n",
    "    border = d - ((d - int(d * .1)) % batch + int(d * .1))\n",
    "    # separating the validation data\n",
    "    validateX = datapoints[border:]\n",
    "    validateY = labels[border:]\n",
    "    # deleting copied datapoints\n",
    "    datapoints = datapoints[:border]\n",
    "    labels = labels[:border]\n",
    "    # updating d\n",
    "    d = border\n",
    "    # augmenting my datapoints\n",
    "    if augment is not None:\n",
    "        (datapoints, labels, d) = augment_my_data(datapoints=datapoints, labels=labels, d=d, newSize=d + augment * batch)\n",
    "\n",
    "    # is used to stochastically select our data.\n",
    "    shuffler = np.arange(0, d)\n",
    "    # creating simple gradient descent optimiser\n",
    "\n",
    "    # loop for epoch iteration\n",
    "    for k in range(epochs):\n",
    "        # iteration for different starting point for epoch\n",
    "        # shuffler at the start of each epoch\n",
    "        np.random.shuffle(shuffler)\n",
    "        for i in range(0, d - batch + 1, batch):\n",
    "            clean = True\n",
    "            # initiating loss for current epoch\n",
    "            global loss\n",
    "            loss = 0\n",
    "            if isinstance(opt, NAG):\n",
    "                opt.lookahead(network=network)\n",
    "            # iterate over a batch\n",
    "            for j in range(i, i + batch, 1):\n",
    "                # creating a single data vector and normalising color values between 0 to 1\n",
    "                x = datapoints[shuffler[j]].reshape(784, 1) / 255.0\n",
    "                y = labels[shuffler[j]]\n",
    "                forward_propagation(n, x)\n",
    "\n",
    "                backward_propagation(n, x, y, number_of_datapoint=batch, loss_type=loss_type, clean=clean)\n",
    "                clean = False\n",
    "\n",
    "            opt.descent(network=network, gradient=gradient)\n",
    "\n",
    "        # for wandb logging\n",
    "        validation_result = validate(number_of_layer=n, validateX=validateX, validateY=validateY,\n",
    "                                     loss_type=loss_type)\n",
    "        training_result = validate(number_of_layer=n, validateX=datapoints,\n",
    "                                   validateY=labels, loss_type=loss_type)\n",
    "\n",
    "        # printing average loss.\n",
    "        wandb.log({\"val_accuracy\": validation_result[1], 'val_loss': validation_result[0][0],\n",
    "                   'train_accuracy': training_result[1], 'train_loss': training_result[0][0], 'epochs': k + 1})  # EPOCH -> EPOCHES\n",
    "\n",
    "        if np.isnan(validation_result[0])[0]:\n",
    "            return\n",
    "\n",
    "\n",
    "\"\"\" Adding a specific layer on top of the previous one, the layers are constructed incrementally. \n",
    "    The context determines the type of layer we have, such as Sigmoid or Tanh. \n",
    "    When any number is passed to input_dim, it is considered as the first layer.\n",
    " \"\"\"\n",
    "\n",
    "\n",
    "def add_layer(number_of_neurons, context, weight_init, input_dim=None):\n",
    "    # Initialize an Empty Dictionary: layer\n",
    "    layer = {}\n",
    "    if weight_init == 'random':\n",
    "        if input_dim is not None:\n",
    "            layer['weight'] = np.random.rand(number_of_neurons, input_dim)\n",
    "        else:\n",
    "            # get number of neurons in the previous layer\n",
    "            previous_lay_neuron_num = network[-1]['h'].shape[0]\n",
    "            layer['weight'] = np.random.rand(number_of_neurons, previous_lay_neuron_num)\n",
    "\n",
    "    elif weight_init == 'xavier':\n",
    "        if input_dim is not None:\n",
    "            layer['weight'] = np.random.normal(size=(number_of_neurons, input_dim))\n",
    "            xavier = input_dim\n",
    "        else:\n",
    "            # get number of neurons in the previous layer\n",
    "            previous_lay_neuron_num = network[-1]['h'].shape[0]\n",
    "            layer['weight'] = np.random.normal(size=(number_of_neurons, previous_lay_neuron_num))\n",
    "            xavier = previous_lay_neuron_num\n",
    "        if context == 'relu':\n",
    "            # relu has different optimal weight initialization.\n",
    "            layer['weight'] = layer['weight'] * math.sqrt(2 / float(xavier))\n",
    "        else:\n",
    "            layer['weight'] = layer['weight'] * math.sqrt(1 / float(xavier))\n",
    "    # initialise a 1-D array of size n with random samples from a uniform distribution over [0, 1).\n",
    "    layer['bias'] = np.zeros((number_of_neurons, 1))\n",
    "    # initialises a 2-D array of size [n*1] and type float with element having value as 1.\n",
    "    layer['h'] = np.zeros((number_of_neurons, 1))\n",
    "    layer['a'] = np.zeros((number_of_neurons, 1))\n",
    "    layer['context'] = context\n",
    "    network.append(layer)\n",
    "\n",
    "\n",
    "\"\"\"master() is used to initialise all the learning parameters in every layer and then start the training process\"\"\"\n",
    "\n",
    "def master(batch, epochs, output_dim, activation, opt, layer_1, layer_2, layer_3, weight_init='xavier',loss_type='cross_entropy',\n",
    "           augment=None):\n",
    "    \n",
    "    \"\"\"initializing number of input features per datapoint as 784, since dataset consists of 28x28 pixel grayscale images\n",
    "       :param augment: \"\"\"\n",
    "    \n",
    "    n_features = 784\n",
    "    global network\n",
    "    global gradient\n",
    "    global transient_gradient\n",
    "    network = []\n",
    "    gradient = []\n",
    "    transient_gradient = []\n",
    "    # adding layers\n",
    "    add_layer(number_of_neurons=layer_1, context=activation, input_dim=784, weight_init=weight_init)\n",
    "    # creating hidden layers\n",
    "    add_layer(number_of_neurons=layer_2, context=activation, weight_init=weight_init)\n",
    "    add_layer(number_of_neurons=layer_3, context=activation, weight_init=weight_init)\n",
    "    add_layer(number_of_neurons=output_dim, context='softmax', weight_init=weight_init)\n",
    "\n",
    "    \"\"\"Copying the structure of network.\"\"\"\n",
    "    gradient = copy.deepcopy(network)\n",
    "    transient_gradient = copy.deepcopy(network)\n",
    "    fit(datapoints=trainX, labels=trainY, batch=batch, epochs=epochs, opt=opt,\n",
    "        loss_type=loss_type,augment=augment)\n",
    "    return network\n",
    "\n",
    "\n",
    "def train():\n",
    "    run = wandb.init()\n",
    "    opti = None\n",
    "    \n",
    "    # Overwrite the random run names chosen by wandb\n",
    "    \n",
    "    name_str = f'act:{run.config.activation}_opt:{run.config.optimiser}_bs:{run.config.batch_size}_winit:{run.config.weight_init}_epoc:{run.config.epochs}_numlayers:{run.config.num_layers}_l1:{run.config.layer_1}_l2:{run.config.layer_2}_l3:{run.config.layer_3}_lr:{run.config.learning_rate}_wtDec:{run.config.weight_decay}'\n",
    "\n",
    "    run.name = name_str\n",
    "\n",
    "    if run.config.optimiser == 'nag':\n",
    "        opti = NAG(layers=4, eta=run.config.learning_rate, gamma=.90, weight_decay=run.config.weight_decay)\n",
    "    elif run.config.optimiser == 'rmsprop':\n",
    "        opti = RMSProp(layers=4, eta=run.config.learning_rate, beta=.90, weight_decay=run.config.weight_decay)\n",
    "    elif run.config.optimiser == 'sgd':\n",
    "        opti = SimpleGradientDescent(layers=4, eta=run.config.learning_rate, weight_decay=run.config.weight_decay)\n",
    "    elif run.config.optimiser == 'mom':\n",
    "        opti = MomentumGradientDescent(layers=4, eta=run.config.learning_rate, gamma=.99,\n",
    "                                       weight_decay=run.config.weight_decay)\n",
    "    elif run.config.optimiser == 'adam':\n",
    "        opti = ADAM(layers=4, eta=run.config.learning_rate, weight_decay=run.config.weight_decay)\n",
    "    elif run.config.optimiser == 'nadam':\n",
    "        opti = NADAM(layers=4, eta=run.config.learning_rate, weight_decay=run.config.weight_decay)\n",
    "\n",
    "    master(epochs=run.config.epochs, batch=run.config.batch_size, output_dim=10,\n",
    "           opt=opti, weight_init=run.config.weight_init, activation=run.config.activation, layer_1=run.config.layer_1,\n",
    "           layer_3=run.config.layer_3, layer_2=run.config.layer_2, loss_type=run.config.loss_type, augment=100)\n",
    "\n",
    "    # exit intt # abhi\n",
    "    wandb.finish()\n",
    "\n",
    "\n"
   ]
  },
  {
   "cell_type": "code",
   "execution_count": 11,
   "id": "e8e0079d",
   "metadata": {
    "id": "e8e0079d"
   },
   "outputs": [
    {
     "data": {
      "text/html": [
       "Tracking run with wandb version 0.16.4"
      ],
      "text/plain": [
       "<IPython.core.display.HTML object>"
      ]
     },
     "metadata": {},
     "output_type": "display_data"
    },
    {
     "data": {
      "text/html": [
       "Run data is saved locally in <code>C:\\Users\\OM\\Desktop\\ABHIJEET\\IITM\\FoDL\\Assignments FoDL\\wandb\\run-20240317_185104-pwe2bgy5</code>"
      ],
      "text/plain": [
       "<IPython.core.display.HTML object>"
      ]
     },
     "metadata": {},
     "output_type": "display_data"
    },
    {
     "data": {
      "text/html": [
       "Syncing run <strong><a href='https://wandb.ai/abhijeet001/Assignments%20FoDL-Desktop_ABHIJEET_IITM_FoDL_Assignments%20FoDL/runs/pwe2bgy5' target=\"_blank\">stellar-donkey-1</a></strong> to <a href='https://wandb.ai/abhijeet001/Assignments%20FoDL-Desktop_ABHIJEET_IITM_FoDL_Assignments%20FoDL' target=\"_blank\">Weights & Biases</a> (<a href='https://wandb.me/run' target=\"_blank\">docs</a>)<br/>"
      ],
      "text/plain": [
       "<IPython.core.display.HTML object>"
      ]
     },
     "metadata": {},
     "output_type": "display_data"
    },
    {
     "data": {
      "text/html": [
       " View project at <a href='https://wandb.ai/abhijeet001/Assignments%20FoDL-Desktop_ABHIJEET_IITM_FoDL_Assignments%20FoDL' target=\"_blank\">https://wandb.ai/abhijeet001/Assignments%20FoDL-Desktop_ABHIJEET_IITM_FoDL_Assignments%20FoDL</a>"
      ],
      "text/plain": [
       "<IPython.core.display.HTML object>"
      ]
     },
     "metadata": {},
     "output_type": "display_data"
    },
    {
     "data": {
      "text/html": [
       " View run at <a href='https://wandb.ai/abhijeet001/Assignments%20FoDL-Desktop_ABHIJEET_IITM_FoDL_Assignments%20FoDL/runs/pwe2bgy5' target=\"_blank\">https://wandb.ai/abhijeet001/Assignments%20FoDL-Desktop_ABHIJEET_IITM_FoDL_Assignments%20FoDL/runs/pwe2bgy5</a>"
      ],
      "text/plain": [
       "<IPython.core.display.HTML object>"
      ]
     },
     "metadata": {},
     "output_type": "display_data"
    },
    {
     "name": "stdout",
     "output_type": "stream",
     "text": [
      "4\n",
      "[{'weight': array([[ 0.19502595,  0.01211132, -0.00480943, ...,  0.02476413,\n",
      "        -0.04652002, -0.05005601],\n",
      "       [ 0.1800186 ,  0.2239034 ,  0.27458638, ..., -0.04183376,\n",
      "        -0.07158895, -0.03900338],\n",
      "       [-0.2579293 , -0.09768549, -0.15734176, ...,  0.10025528,\n",
      "         0.14108419,  0.18857144],\n",
      "       ...,\n",
      "       [-0.1638252 , -0.2572115 , -0.2776543 , ..., -0.08969656,\n",
      "        -0.28201108, -0.38767931],\n",
      "       [ 0.03648884,  0.00468217, -0.09329301, ...,  0.0477461 ,\n",
      "        -0.0173473 ,  0.00400683],\n",
      "       [-0.00596808, -0.07865618, -0.12670345, ..., -0.03873641,\n",
      "        -0.05109659,  0.05638049]]), 'bias': array([[-0.28890544],\n",
      "       [ 0.18570619],\n",
      "       [-0.17202514],\n",
      "       [ 0.03826581],\n",
      "       [ 0.48949124],\n",
      "       [ 0.32627915],\n",
      "       [-0.26219181],\n",
      "       [-0.37090338],\n",
      "       [ 0.21487285],\n",
      "       [-0.46781464],\n",
      "       [-0.47703629],\n",
      "       [-0.26717351],\n",
      "       [ 0.23594334],\n",
      "       [ 0.01725083],\n",
      "       [-0.10588567],\n",
      "       [ 0.41078956],\n",
      "       [ 0.27584817],\n",
      "       [-0.05342646],\n",
      "       [-0.22971032],\n",
      "       [ 0.28352484],\n",
      "       [ 0.4039316 ],\n",
      "       [-0.42732236],\n",
      "       [ 0.45763135],\n",
      "       [-0.0476102 ],\n",
      "       [ 0.14938593],\n",
      "       [ 0.03360024],\n",
      "       [-0.04655217],\n",
      "       [-0.19136543],\n",
      "       [ 0.10296695],\n",
      "       [ 0.04694112],\n",
      "       [-0.5394611 ],\n",
      "       [-0.08313159]]), 'h': array([[ 0.82081843],\n",
      "       [ 0.9623904 ],\n",
      "       [-0.99999998],\n",
      "       [-0.9995824 ],\n",
      "       [-0.96493174],\n",
      "       [ 0.99998188],\n",
      "       [ 0.97745264],\n",
      "       [ 0.99344794],\n",
      "       [ 0.61192026],\n",
      "       [ 0.9999974 ],\n",
      "       [ 0.80948404],\n",
      "       [-1.        ],\n",
      "       [ 0.9999929 ],\n",
      "       [-0.98467984],\n",
      "       [ 1.        ],\n",
      "       [-0.99997093],\n",
      "       [-0.95799184],\n",
      "       [ 1.        ],\n",
      "       [-0.99999839],\n",
      "       [-0.0400052 ],\n",
      "       [-0.92356937],\n",
      "       [ 0.98388733],\n",
      "       [-0.99770434],\n",
      "       [-0.99998181],\n",
      "       [-0.99999999],\n",
      "       [ 0.96481585],\n",
      "       [-0.75490298],\n",
      "       [-0.99095743],\n",
      "       [ 0.99999992],\n",
      "       [-0.99999998],\n",
      "       [ 0.9244782 ],\n",
      "       [-1.        ]]), 'a': array([[  1.15932084],\n",
      "       [  1.97732969],\n",
      "       [ -9.16732563],\n",
      "       [ -4.23696731],\n",
      "       [ -2.01295814],\n",
      "       [  5.80576763],\n",
      "       [  2.23697349],\n",
      "       [  2.85892097],\n",
      "       [  0.71198531],\n",
      "       [  6.77666938],\n",
      "       [  1.12553054],\n",
      "       [ -9.93053238],\n",
      "       [  6.27435809],\n",
      "       [ -2.43202153],\n",
      "       [ 16.95666633],\n",
      "       [ -5.56944283],\n",
      "       [ -1.92090544],\n",
      "       [ 10.20982202],\n",
      "       [ -7.01600435],\n",
      "       [ -0.04002656],\n",
      "       [ -1.61277714],\n",
      "       [  2.40660381],\n",
      "       [ -3.38436678],\n",
      "       [ -5.80384876],\n",
      "       [ -9.70019314],\n",
      "       [  2.01127909],\n",
      "       [ -0.98425737],\n",
      "       [ -2.69721349],\n",
      "       [  8.54311537],\n",
      "       [ -9.34305283],\n",
      "       [  1.61899438],\n",
      "       [-14.18082862]]), 'context': 'tanh'}, {'weight': array([[ 0.20540215, -0.21565362,  0.1247019 , ...,  0.03907362,\n",
      "         0.08858737,  0.29862254],\n",
      "       [-0.03417556,  0.02688547,  0.00324853, ..., -0.04633809,\n",
      "         0.0936071 ,  0.15051119],\n",
      "       [ 0.08625946,  0.00915783,  0.17881898, ..., -0.01530818,\n",
      "         0.17904352,  0.14038955],\n",
      "       ...,\n",
      "       [ 0.01898145,  0.01229974, -0.05266384, ...,  0.03982384,\n",
      "        -0.07603432,  0.04820345],\n",
      "       [-0.00168055,  0.0290511 ,  0.00578657, ..., -0.11591875,\n",
      "        -0.03382883,  0.09171645],\n",
      "       [ 0.12222573, -0.10372621, -0.00429118, ..., -0.14080768,\n",
      "        -0.23568068,  0.12424211]]), 'bias': array([[ 0.18902439],\n",
      "       [ 0.02095959],\n",
      "       [-0.30151227],\n",
      "       [-0.02735758],\n",
      "       [-0.29360538],\n",
      "       [-0.20720643],\n",
      "       [ 0.26285853],\n",
      "       [ 0.10289567],\n",
      "       [-0.11600258],\n",
      "       [ 0.07615456],\n",
      "       [ 0.09020282],\n",
      "       [ 0.08933566],\n",
      "       [ 0.25611139],\n",
      "       [-0.13179642],\n",
      "       [ 0.36207893],\n",
      "       [ 0.00469101],\n",
      "       [ 0.00392683],\n",
      "       [ 0.05586825],\n",
      "       [ 0.18797065],\n",
      "       [-0.28001644],\n",
      "       [ 0.05572824],\n",
      "       [-0.23565801],\n",
      "       [ 0.17030009],\n",
      "       [-0.02226862],\n",
      "       [ 0.20625745],\n",
      "       [-0.14429714],\n",
      "       [ 0.10105279],\n",
      "       [ 0.00349974],\n",
      "       [ 0.08537188],\n",
      "       [-0.21593245],\n",
      "       [-0.025092  ],\n",
      "       [ 0.27335368],\n",
      "       [-0.28040963],\n",
      "       [-0.17204322],\n",
      "       [ 0.06261274],\n",
      "       [-0.1543592 ],\n",
      "       [-0.13527433],\n",
      "       [ 0.25872502],\n",
      "       [-0.04013609],\n",
      "       [-0.06509449],\n",
      "       [ 0.22835527],\n",
      "       [-0.17423393],\n",
      "       [ 0.19392188],\n",
      "       [-0.04374551],\n",
      "       [ 0.35735477],\n",
      "       [-0.06704628],\n",
      "       [-0.21387011],\n",
      "       [-0.34278619],\n",
      "       [-0.04109461],\n",
      "       [ 0.08117282],\n",
      "       [-0.1549981 ],\n",
      "       [-0.16378995],\n",
      "       [-0.18488316],\n",
      "       [ 0.37301984],\n",
      "       [ 0.03963359],\n",
      "       [-0.14103844],\n",
      "       [-0.0964551 ],\n",
      "       [ 0.10977641],\n",
      "       [-0.03558465],\n",
      "       [ 0.09579063],\n",
      "       [-0.11723778],\n",
      "       [ 0.20829505],\n",
      "       [ 0.30920626],\n",
      "       [ 0.09527316]]), 'h': array([[ 0.27526879],\n",
      "       [ 0.62079387],\n",
      "       [ 0.38014152],\n",
      "       [ 0.35320292],\n",
      "       [ 0.59634685],\n",
      "       [-0.74594403],\n",
      "       [ 0.91753653],\n",
      "       [ 0.57544317],\n",
      "       [-0.59465873],\n",
      "       [ 0.02681884],\n",
      "       [-0.49572074],\n",
      "       [-0.42217898],\n",
      "       [ 0.25678615],\n",
      "       [-0.92440251],\n",
      "       [ 0.59180381],\n",
      "       [-0.78277088],\n",
      "       [-0.82961197],\n",
      "       [ 0.11375046],\n",
      "       [ 0.2931865 ],\n",
      "       [ 0.69318181],\n",
      "       [-0.52819143],\n",
      "       [ 0.18517298],\n",
      "       [ 0.64325666],\n",
      "       [ 0.50197949],\n",
      "       [-0.11706942],\n",
      "       [ 0.281947  ],\n",
      "       [ 0.18572335],\n",
      "       [-0.0118871 ],\n",
      "       [-0.49345658],\n",
      "       [ 0.25442686],\n",
      "       [ 0.14140802],\n",
      "       [-0.02810885],\n",
      "       [ 0.00523276],\n",
      "       [ 0.20678352],\n",
      "       [ 0.14857772],\n",
      "       [ 0.55885987],\n",
      "       [-0.98209447],\n",
      "       [ 0.97608508],\n",
      "       [ 0.50011515],\n",
      "       [ 0.50158427],\n",
      "       [-0.16552326],\n",
      "       [-0.95493093],\n",
      "       [ 0.79566925],\n",
      "       [ 0.96655797],\n",
      "       [ 0.79582035],\n",
      "       [ 0.50702017],\n",
      "       [-0.69026037],\n",
      "       [ 0.24032257],\n",
      "       [-0.70065792],\n",
      "       [-0.44614079],\n",
      "       [-0.56394857],\n",
      "       [-0.45869197],\n",
      "       [-0.27757087],\n",
      "       [ 0.87810039],\n",
      "       [-0.44173375],\n",
      "       [-0.11478481],\n",
      "       [ 0.49931007],\n",
      "       [ 0.56006597],\n",
      "       [-0.69985891],\n",
      "       [-0.60107643],\n",
      "       [ 0.26746151],\n",
      "       [ 0.50643063],\n",
      "       [ 0.6093879 ],\n",
      "       [ 0.33516964]]), 'a': array([[ 0.28255571],\n",
      "       [ 0.72629571],\n",
      "       [ 0.40022506],\n",
      "       [ 0.36909849],\n",
      "       [ 0.68745856],\n",
      "       [-0.96374804],\n",
      "       [ 1.5732206 ],\n",
      "       [ 0.65562302],\n",
      "       [-0.68484284],\n",
      "       [ 0.02682528],\n",
      "       [-0.54361664],\n",
      "       [-0.45034065],\n",
      "       [ 0.26266462],\n",
      "       [-1.61847384],\n",
      "       [ 0.68043761],\n",
      "       [-1.05248573],\n",
      "       [-1.18689042],\n",
      "       [ 0.11424492],\n",
      "       [ 0.30204889],\n",
      "       [ 0.8540547 ],\n",
      "       [-0.58763346],\n",
      "       [ 0.18733408],\n",
      "       [ 0.76370936],\n",
      "       [ 0.55194896],\n",
      "       [-0.11760868],\n",
      "       [ 0.28979596],\n",
      "       [ 0.18790406],\n",
      "       [-0.01188766],\n",
      "       [-0.54061926],\n",
      "       [ 0.26014042],\n",
      "       [ 0.14236203],\n",
      "       [-0.02811625],\n",
      "       [ 0.00523281],\n",
      "       [ 0.20980884],\n",
      "       [ 0.14968573],\n",
      "       [ 0.63117369],\n",
      "       [-2.35339987],\n",
      "       [ 2.20718525],\n",
      "       [ 0.54945969],\n",
      "       [ 0.55142074],\n",
      "       [-0.16706028],\n",
      "       [-1.88495696],\n",
      "       [ 1.08669652],\n",
      "       [ 2.03711323],\n",
      "       [ 1.0871085 ],\n",
      "       [ 0.55871066],\n",
      "       [-0.8484529 ],\n",
      "       [ 0.24511643],\n",
      "       [-0.86859173],\n",
      "       [-0.47987162],\n",
      "       [-0.63860442],\n",
      "       [-0.49565346],\n",
      "       [-0.28504823],\n",
      "       [ 1.36740914],\n",
      "       [-0.47438283],\n",
      "       [-0.11529295],\n",
      "       [ 0.54838666],\n",
      "       [ 0.6329293 ],\n",
      "       [-0.86702394],\n",
      "       [-0.6948308 ],\n",
      "       [ 0.27412774],\n",
      "       [ 0.55791745],\n",
      "       [ 0.7079471 ],\n",
      "       [ 0.34864086]]), 'context': 'tanh'}, {'weight': array([[ 1.68729707e-01, -2.37233860e-01, -4.57530530e-02, ...,\n",
      "        -6.92544092e-02,  3.26396021e-01,  2.48595779e-01],\n",
      "       [ 1.39201945e-01, -1.01352910e-01,  2.83005175e-04, ...,\n",
      "        -1.76241577e-01, -6.90441075e-03,  1.76725735e-02],\n",
      "       [ 7.94877372e-02, -2.10744123e-02,  1.40085400e-01, ...,\n",
      "         1.59759663e-01, -1.47957478e-01,  3.05527830e-02],\n",
      "       ...,\n",
      "       [ 1.39207745e-02,  1.87816298e-01,  2.09182164e-02, ...,\n",
      "         2.09675167e-02,  2.95842646e-01,  3.49427596e-02],\n",
      "       [ 5.72025375e-02, -3.24680543e-02,  5.68874131e-02, ...,\n",
      "         1.12632182e-01,  1.32655008e-01, -7.56727547e-02],\n",
      "       [-7.99782433e-03,  1.49674774e-01,  6.32250234e-01, ...,\n",
      "        -1.22530175e-01, -5.10464395e-02, -6.15182466e-02]]), 'bias': array([[ 0.18776688],\n",
      "       [-0.11946554],\n",
      "       [-0.15028929],\n",
      "       [-0.13060578],\n",
      "       [ 0.05607776],\n",
      "       [-0.34541639],\n",
      "       [-0.07219162],\n",
      "       [-0.06654024],\n",
      "       [-0.146525  ],\n",
      "       [-0.12788502],\n",
      "       [-0.12536189],\n",
      "       [ 0.03355637],\n",
      "       [ 0.01267603],\n",
      "       [ 0.28591916],\n",
      "       [-0.09268701],\n",
      "       [-0.1358215 ]]), 'h': array([[ 0.98911215],\n",
      "       [ 0.9109714 ],\n",
      "       [ 0.55017719],\n",
      "       [-0.97731216],\n",
      "       [ 0.97735036],\n",
      "       [-0.99960438],\n",
      "       [-0.94295074],\n",
      "       [-0.70681503],\n",
      "       [-0.34764171],\n",
      "       [ 0.87954544],\n",
      "       [-0.93281288],\n",
      "       [ 0.75955144],\n",
      "       [-0.8816352 ],\n",
      "       [ 0.99509447],\n",
      "       [ 0.95634381],\n",
      "       [ 0.82771886]]), 'a': array([[ 2.60389828],\n",
      "       [ 1.53320466],\n",
      "       [ 0.61863539],\n",
      "       [-2.23383225],\n",
      "       [ 2.23468445],\n",
      "       [-4.26399776],\n",
      "       [-1.76402398],\n",
      "       [-0.88079032],\n",
      "       [-0.36275876],\n",
      "       [ 1.37375635],\n",
      "       [-1.67962506],\n",
      "       [ 0.99515401],\n",
      "       [-1.38306253],\n",
      "       [ 3.00404172],\n",
      "       [ 1.90124375],\n",
      "       [ 1.18084815]]), 'context': 'tanh'}, {'weight': array([[-0.33443579, -0.28563115,  0.34319781,  0.28205471, -0.34634108,\n",
      "         0.22957385,  0.64088965, -0.57337009,  0.1939453 ,  0.4735463 ,\n",
      "        -0.14164565, -0.58387848,  0.35299001, -0.35612797, -0.15444071,\n",
      "        -0.80256604],\n",
      "       [-0.59372889, -0.34184408, -0.41606051, -1.05521443, -0.45030449,\n",
      "         0.34780946,  0.51351962, -0.65643879,  0.16904112,  0.32932675,\n",
      "         0.45402287,  0.63997657, -0.34320797,  0.95258198, -0.23260555,\n",
      "         0.38755042],\n",
      "       [-0.37108338,  0.43838901,  0.40896882,  0.22407325, -0.56507617,\n",
      "         0.40479252, -0.48477822,  0.53187721,  0.20782854, -0.14850222,\n",
      "        -0.3139158 ,  0.41591947,  0.37012559, -0.28654578, -0.09517849,\n",
      "         0.28418916],\n",
      "       [ 0.70782041, -0.315764  , -0.59077784,  0.36733658, -0.27021487,\n",
      "         0.24071714,  0.46850205,  0.15650993,  0.34610846,  0.30297025,\n",
      "         0.49952241, -0.50851674, -0.2944206 , -0.19442332, -0.34755589,\n",
      "         0.2348555 ],\n",
      "       [-0.38040411,  0.30535173,  0.14781852,  0.31364051,  0.60330573,\n",
      "         0.30718986, -0.15379831,  0.31167558,  0.20909304, -0.48943865,\n",
      "         0.73682817,  0.3399135 , -0.01732114, -0.35325409, -0.25652712,\n",
      "         0.23644193],\n",
      "       [ 0.48879031,  0.26072866, -0.86334403, -0.18929899,  0.22045738,\n",
      "        -0.52143171, -0.19525216,  0.76820496, -0.3471955 , -0.31475945,\n",
      "        -0.17528318,  0.40463681,  0.11167585,  0.72471784,  0.43904065,\n",
      "        -1.04107737],\n",
      "       [-0.38914438, -0.43713005,  0.3273055 ,  0.41804013, -0.20291354,\n",
      "         0.23846759, -0.14451508, -0.2266309 ,  0.31182929, -0.19973908,\n",
      "        -0.04469506,  0.03872187,  0.5790722 , -0.39623294, -0.27319231,\n",
      "        -0.26505702],\n",
      "       [ 0.23200552,  0.60678082, -0.39616082, -0.7086424 ,  0.39412282,\n",
      "        -0.33741883, -0.28756758, -0.88366546, -0.48169782, -0.35512711,\n",
      "        -0.32251176, -0.66001056, -0.49206497,  0.52357247, -0.04398058,\n",
      "        -0.11623471],\n",
      "       [ 0.28826831, -0.63538394,  0.62616433,  0.31974627,  0.25906699,\n",
      "        -0.63155632,  0.16761873,  0.13463095, -0.86001257, -0.53599575,\n",
      "        -0.37557449, -0.70283583,  0.2572923 , -0.6501121 ,  0.74854472,\n",
      "         0.27710855],\n",
      "       [ 0.40539303,  0.54786029,  0.57485677, -0.61718647,  0.42596982,\n",
      "        -0.60205239, -0.33457742, -0.05141218,  0.10297197,  1.02681074,\n",
      "        -0.13144011,  0.60849308, -0.50139742,  0.54315735,  0.65132016,\n",
      "         0.47420327]]), 'bias': array([[ 0.07197563],\n",
      "       [-0.31468525],\n",
      "       [-0.27349089],\n",
      "       [ 0.13393616],\n",
      "       [ 0.03984443],\n",
      "       [ 0.28825891],\n",
      "       [ 0.1643823 ],\n",
      "       [ 0.21493486],\n",
      "       [-0.28494743],\n",
      "       [-0.08639408]]), 'h': array([[8.06166138e-05],\n",
      "       [2.05030621e-03],\n",
      "       [4.15798439e-04],\n",
      "       [1.86750613e-04],\n",
      "       [3.32995473e-04],\n",
      "       [6.60185570e-03],\n",
      "       [1.01144710e-04],\n",
      "       [4.72718390e-02],\n",
      "       [1.09953906e-03],\n",
      "       [9.41859154e-01]]), 'a': array([[-2.81275865],\n",
      "       [ 0.42328103],\n",
      "       [-1.17226278],\n",
      "       [-1.9726893 ],\n",
      "       [-1.39433451],\n",
      "       [ 1.59264265],\n",
      "       [-2.58591114],\n",
      "       [ 3.56120662],\n",
      "       [-0.19981707],\n",
      "       [ 6.55314762]]), 'context': 'softmax'}]\n"
     ]
    },
    {
     "data": {
      "application/vnd.jupyter.widget-view+json": {
       "model_id": "",
       "version_major": 2,
       "version_minor": 0
      },
      "text/plain": [
       "VBox(children=(Label(value='0.001 MB of 0.001 MB uploaded\\r'), FloatProgress(value=1.0, max=1.0)))"
      ]
     },
     "metadata": {},
     "output_type": "display_data"
    },
    {
     "data": {
      "text/html": [
       "<style>\n",
       "    table.wandb td:nth-child(1) { padding: 0 10px; text-align: left ; width: auto;} td:nth-child(2) {text-align: left ; width: 100%}\n",
       "    .wandb-row { display: flex; flex-direction: row; flex-wrap: wrap; justify-content: flex-start; width: 100% }\n",
       "    .wandb-col { display: flex; flex-direction: column; flex-basis: 100%; flex: 1; padding: 10px; }\n",
       "    </style>\n",
       "<div class=\"wandb-row\"><div class=\"wandb-col\"><h3>Run history:</h3><br/><table class=\"wandb\"><tr><td>epochs</td><td>▁▂▃▅▆▇█</td></tr><tr><td>train_accuracy</td><td>▁▅▆▆▆█▇</td></tr><tr><td>train_loss</td><td>█▄▃▃▂▁▁</td></tr><tr><td>val_accuracy</td><td>▁█▆▆▇█▇</td></tr><tr><td>val_loss</td><td>█▃▃▃▃▁▁</td></tr></table><br/></div><div class=\"wandb-col\"><h3>Run summary:</h3><br/><table class=\"wandb\"><tr><td>epochs</td><td>7</td></tr><tr><td>train_accuracy</td><td>0.73752</td></tr><tr><td>train_loss</td><td>0.69824</td></tr><tr><td>val_accuracy</td><td>0.77883</td></tr><tr><td>val_loss</td><td>0.58249</td></tr></table><br/></div></div>"
      ],
      "text/plain": [
       "<IPython.core.display.HTML object>"
      ]
     },
     "metadata": {},
     "output_type": "display_data"
    },
    {
     "data": {
      "text/html": [
       " View run <strong style=\"color:#cdcd00\">stellar-donkey-1</strong> at: <a href='https://wandb.ai/abhijeet001/Assignments%20FoDL-Desktop_ABHIJEET_IITM_FoDL_Assignments%20FoDL/runs/pwe2bgy5' target=\"_blank\">https://wandb.ai/abhijeet001/Assignments%20FoDL-Desktop_ABHIJEET_IITM_FoDL_Assignments%20FoDL/runs/pwe2bgy5</a><br/> View job at <a href='https://wandb.ai/abhijeet001/Assignments%20FoDL-Desktop_ABHIJEET_IITM_FoDL_Assignments%20FoDL/jobs/QXJ0aWZhY3RDb2xsZWN0aW9uOjE0OTcxMDQ4NA==/version_details/v0' target=\"_blank\">https://wandb.ai/abhijeet001/Assignments%20FoDL-Desktop_ABHIJEET_IITM_FoDL_Assignments%20FoDL/jobs/QXJ0aWZhY3RDb2xsZWN0aW9uOjE0OTcxMDQ4NA==/version_details/v0</a><br/>Synced 6 W&B file(s), 0 media file(s), 2 artifact file(s) and 0 other file(s)"
      ],
      "text/plain": [
       "<IPython.core.display.HTML object>"
      ]
     },
     "metadata": {},
     "output_type": "display_data"
    },
    {
     "data": {
      "text/html": [
       "Find logs at: <code>.\\wandb\\run-20240317_185104-pwe2bgy5\\logs</code>"
      ],
      "text/plain": [
       "<IPython.core.display.HTML object>"
      ]
     },
     "metadata": {},
     "output_type": "display_data"
    }
   ],
   "source": [
    "# #############################################################################################################################\n",
    "# # %%writefile save_model.py\n",
    "# # from main import master, ADAM\n",
    "\n",
    "import pickle\n",
    "import wandb\n",
    "\n",
    "# Initialize Wandb\n",
    "wandb.init()\n",
    "\n",
    "network = master(batch=495, epochs=7, output_dim=10, activation='tanh',\n",
    "                 opt=ADAM(eta=0.003576466933615937, layers=4, weight_decay=0.31834976996809683),\n",
    "                 layer_1=32, layer_2=64, layer_3=16, weight_init='xavier', loss_type='cross_entropy', augment=100)\n",
    "print(len(network))\n",
    "print(network)\n",
    "\n",
    "filename_model = 'neural_network.object'\n",
    "pickle.dump(network, open(filename_model, 'wb'))  # store best model's object to disk\n",
    "\n",
    "# Finish Wandb run\n",
    "wandb.finish()\n"
   ]
  },
  {
   "cell_type": "code",
   "execution_count": 12,
   "id": "76f9b11b",
   "metadata": {
    "id": "76f9b11b"
   },
   "outputs": [
    {
     "name": "stdout",
     "output_type": "stream",
     "text": [
      "Accuracy:  76.68 %\n",
      "            Top  Trouser  Pullover  Dress  Coat  Sandal  Shirt  Sneaker  Bag  \\\n",
      "Top         817       12        10     87     7       2     58        0    7   \n",
      "Trouser       3      936         8     45     6       0      0        0    2   \n",
      "Pullover      9        3       656     10   237       1     81        0    3   \n",
      "Dress        63       23        12    801    49       0     49        0    2   \n",
      "Coat          2        1       142     28   787       0     34        0    5   \n",
      "Sandal        1        0         1      2     0     808      0       91    1   \n",
      "Shirt       243        6       233     79   198       0    226        0   15   \n",
      "Sneaker       0        0         0      0     0      41      0      747    0   \n",
      "Bag           1        1        18      4     6      13     38        7  910   \n",
      "Ankle boot    0        0         1      1     0      11      0        7    0   \n",
      "\n",
      "            Ankle boot  \n",
      "Top                  0  \n",
      "Trouser              0  \n",
      "Pullover             0  \n",
      "Dress                1  \n",
      "Coat                 1  \n",
      "Sandal              96  \n",
      "Shirt                0  \n",
      "Sneaker            212  \n",
      "Bag                  2  \n",
      "Ankle boot         980  \n"
     ]
    },
    {
     "data": {
      "image/png": "[encoded data removed]",
      "text/plain": [
       "<Figure size 1000x1000 with 2 Axes>"
      ]
     },
     "metadata": {},
     "output_type": "display_data"
    }
   ],
   "source": [
    "############################################################################################################################\n",
    "# %%writefile confusion_matrix_plot.py\n",
    "# Plot confusion matrix\n",
    "\n",
    "import pickle\n",
    "from keras.datasets import fashion_mnist\n",
    "from sklearn import metrics\n",
    "import numpy as np\n",
    "import math\n",
    "import seaborn as sn\n",
    "import pandas as pd\n",
    "import matplotlib.pyplot as plt\n",
    "\n",
    "# Load the trained network\n",
    "filename_model = 'neural_network.object'\n",
    "network = pickle.load(open(filename_model, 'rb'))\n",
    "\n",
    "(trainX, trainy), (testX, testy) = fashion_mnist.load_data()\n",
    "\n",
    "def softmax(pre_activation_vector):\n",
    "    post_act = np.copy(pre_activation_vector)\n",
    "    max_exponent = np.max(post_act)\n",
    "    post_act = np.exp(post_act - max_exponent)\n",
    "    post_act = post_act / np.sum(post_act)\n",
    "    return post_act\n",
    "\n",
    "def relu(pre_activation_vector):\n",
    "    post_act = np.copy(pre_activation_vector)\n",
    "    post_act[post_act < 0] = 0\n",
    "    return post_act\n",
    "\n",
    "def sigmoid_element_wise(vector_component):\n",
    "    if vector_component >= 0:\n",
    "        return 1 / (1 + math.exp(-vector_component))\n",
    "    else:\n",
    "        return math.exp(vector_component) / (math.exp(vector_component) + 1)\n",
    "\n",
    "def sigmoid(pre_activation_vector):\n",
    "    activated_vector = np.empty_like(pre_activation_vector)\n",
    "    for i, elem in np.ndenumerate(pre_activation_vector):\n",
    "        activated_vector[i] = sigmoid_element_wise(elem)\n",
    "    return activated_vector\n",
    "\n",
    "def activation_function(pre_activation_vector, context):\n",
    "    if context == 'softmax':\n",
    "        return softmax(pre_activation_vector)\n",
    "    elif context == 'sigmoid':\n",
    "        return sigmoid(pre_activation_vector)\n",
    "    elif context == 'tanh':\n",
    "        return np.copy(np.tanh(pre_activation_vector))\n",
    "    elif context == 'relu':\n",
    "        return relu(pre_activation_vector)\n",
    "    else:\n",
    "        return None\n",
    "\n",
    "def forward_propagation(n, x):\n",
    "    for i in range(n):\n",
    "        if i == 0:\n",
    "            network[i]['a'] = network[i]['weight'] @ x + network[i]['bias']\n",
    "        else:\n",
    "            network[i]['a'] = network[i]['weight'] @ network[i - 1]['h'] + network[i]['bias']\n",
    "        network[i]['h'] = activation_function(network[i]['a'], context=network[i]['context'])\n",
    "\n",
    "cm_plot_labels = ['Top', 'Trouser', 'Pullover', 'Dress', 'Coat', 'Sandal', 'Shirt', 'Sneaker', 'Bag', 'Ankle boot']\n",
    "\n",
    "def predict_label(number_of_layer):\n",
    "    acc = 0\n",
    "    y_pred = []\n",
    "    for x, y in zip(testX, testy):\n",
    "        forward_propagation(number_of_layer, x.reshape(784, 1) / 255.0)\n",
    "        max_prob = np.argmax(network[number_of_layer - 1]['h'])\n",
    "        if max_prob == y:\n",
    "            acc += 1\n",
    "        y_pred.append(max_prob)\n",
    "    print(\"Accuracy: \", str((acc / len(testy)) * 100), \"%\")\n",
    "    cm = metrics.confusion_matrix(y_true=testy, y_pred=y_pred)\n",
    "    df_cm = pd.DataFrame(cm, index=[i for i in cm_plot_labels], columns=[i for i in cm_plot_labels])\n",
    "    print(df_cm)\n",
    "    plt.figure(figsize=(10, 10))\n",
    "    ax = sn.heatmap(df_cm, annot=True, cmap='Blues', fmt='d', linewidths=3, linecolor='black')\n",
    "    ax.set_yticklabels(cm_plot_labels, rotation=0)\n",
    "    plt.xlabel(\"True Class\")\n",
    "    plt.ylabel(\"Predicted Class\")\n",
    "    plt.title('Confusion Matrix of FASHION-MNIST Dataset', fontsize=20)\n",
    "    plt.show()\n",
    "\n",
    "predict_label(len(network))\n"
   ]
  },
  {
   "cell_type": "code",
   "execution_count": 13,
   "id": "55b8b419",
   "metadata": {
    "colab": {
     "base_uri": "https://localhost:8080/",
     "height": 104
    },
    "id": "55b8b419",
    "outputId": "ae8bec45-56ae-44bb-aa19-cb92715f0a11"
   },
   "outputs": [
    {
     "data": {
      "text/html": [
       "Tracking run with wandb version 0.16.4"
      ],
      "text/plain": [
       "<IPython.core.display.HTML object>"
      ]
     },
     "metadata": {},
     "output_type": "display_data"
    },
    {
     "data": {
      "text/html": [
       "Run data is saved locally in <code>C:\\Users\\OM\\Desktop\\ABHIJEET\\IITM\\FoDL\\Assignments FoDL\\wandb\\run-20240317_190204-Question-1</code>"
      ],
      "text/plain": [
       "<IPython.core.display.HTML object>"
      ]
     },
     "metadata": {},
     "output_type": "display_data"
    },
    {
     "data": {
      "text/html": [
       "Syncing run <strong><a href='https://wandb.ai/abhijeet001/Fashion-MNIST-Images/runs/Question-1' target=\"_blank\">Question-1</a></strong> to <a href='https://wandb.ai/abhijeet001/Fashion-MNIST-Images' target=\"_blank\">Weights & Biases</a> (<a href='https://wandb.me/run' target=\"_blank\">docs</a>)<br/>"
      ],
      "text/plain": [
       "<IPython.core.display.HTML object>"
      ]
     },
     "metadata": {},
     "output_type": "display_data"
    },
    {
     "data": {
      "text/html": [
       " View project at <a href='https://wandb.ai/abhijeet001/Fashion-MNIST-Images' target=\"_blank\">https://wandb.ai/abhijeet001/Fashion-MNIST-Images</a>"
      ],
      "text/plain": [
       "<IPython.core.display.HTML object>"
      ]
     },
     "metadata": {},
     "output_type": "display_data"
    },
    {
     "data": {
      "text/html": [
       " View run at <a href='https://wandb.ai/abhijeet001/Fashion-MNIST-Images/runs/Question-1' target=\"_blank\">https://wandb.ai/abhijeet001/Fashion-MNIST-Images/runs/Question-1</a>"
      ],
      "text/plain": [
       "<IPython.core.display.HTML object>"
      ]
     },
     "metadata": {},
     "output_type": "display_data"
    }
   ],
   "source": [
    "# # ############################################################################################################################\n",
    "# # # %%writefile plot_images_fashion_mnist.py\n",
    "\n",
    "from keras.datasets import fashion_mnist\n",
    "import wandb\n",
    "\n",
    "# Initialize Weights & Biases\n",
    "wandb.init(project=\"Fashion-MNIST-Images\", id=\"Question-1\")\n",
    "\n",
    "# Define class names for Fashion MNIST dataset\n",
    "class_names = ['T-shirt/top', 'Trouser/pants', 'Pullover shirt', 'Dress', 'Coat', 'Sandal', 'Shirt', 'Sneaker', 'Bag', 'Ankle boot']\n",
    "\n",
    "# Load the Fashion MNIST dataset\n",
    "(trainX, trainy), (testX, testy) = fashion_mnist.load_data()\n",
    "\n",
    "# Normalize pixel values to the range 0-1\n",
    "trainX = trainX / 255.0\n",
    "testX = testX / 255.0\n",
    "\n",
    "def log_images():\n",
    "    # Initialize lists to store images and their corresponding labels\n",
    "    set_images = []\n",
    "    set_labels = []\n",
    "    count = 0  # Counter to keep track of how many images per class have been added\n",
    "    for d in range(len(trainy)):\n",
    "        if trainy[d] == count:\n",
    "            # Add the image and its label to the respective lists\n",
    "            set_images.append(trainX[d])\n",
    "            set_labels.append(class_names[trainy[d]])\n",
    "            count += 1\n",
    "        else:\n",
    "            pass\n",
    "        if count == 10:\n",
    "            break  # If images for all 10 classes have been collected, exit the loop\n",
    "\n",
    "    # Log the images and their labels to Weights & Biases\n",
    "    wandb.log({\"Plot\": [wandb.Image(img, caption=caption) for img, caption in zip(set_images, set_labels)]})\n",
    "\n",
    "# Call the function to log images\n",
    "log_images()\n"
   ]
  },
  {
   "cell_type": "code",
   "execution_count": null,
   "id": "670a417a",
   "metadata": {
    "colab": {
     "base_uri": "https://localhost:8080/",
     "height": 1000,
     "referenced_widgets": [
      "89feea43ea0e4696842018ef28531c78",
      "813d3f2082ec43ddb8aaf05a2d6da429",
      "aee11f09703f4e01a4b17b713122720c",
      "a66cd0ce3be24472baf73f420175d597",
      "58dcc778515f40f0a7446fe03c0b8e41",
      "6828ce65b20a41e5a700ee51a4630998",
      "10f519e655c14182ba936048dbb2a6e2",
      "40b7e57e2b674987b1b3053de9d2cbf7",
      "73cfc9605c634a39aa345d6c8c387d3d",
      "76a3c5ec07114bfc8db8bb2eeb160534",
      "cf7dc96080be4d268ba6fd6714b9fc57",
      "6c212a2ee65440b38eb107e2a35f54de",
      "c97ed9cd6a1948fc9c09df3116c39119",
      "6d4336fd8c9b41beb75782c7d77a1a4a",
      "64cc2882a3a445d6aa2c648aa5c18530",
      "8b36b1d5fce443eda54d0970b82301dd",
      "b30216c23a8743a890af7847e10efebf",
      "a9f46cfef3814b72abc389114d5262b3",
      "5bf8bb51e3dc49319fc8ca11e7f2e69f",
      "9d1c8dfda8384ac7808b574fc829a635",
      "f1d2404065fc491798760600a6d7b8ea",
      "2dbec2bb4f3d47e290fb9ada5b3fa75a",
      "6d1ce18b769d4494ac31bda679d4472e",
      "4f5c19fdad4e47f89986dce3a008b89d"
     ]
    },
    "id": "670a417a",
    "outputId": "6792c6d1-b481-4e27-baa1-5de66ec1a7ee"
   },
   "outputs": [
    {
     "name": "stderr",
     "output_type": "stream",
     "text": [
      "\u001b[34m\u001b[1mwandb\u001b[0m: \u001b[33mWARNING\u001b[0m Calling wandb.login() after wandb.init() has no effect.\n"
     ]
    },
    {
     "name": "stdout",
     "output_type": "stream",
     "text": [
      "Create sweep with ID: alultgo3\n",
      "Sweep URL: https://wandb.ai/abhijeet001/CS6910_ASSIGNMENT_01/sweeps/alultgo3\n"
     ]
    },
    {
     "name": "stderr",
     "output_type": "stream",
     "text": [
      "\u001b[34m\u001b[1mwandb\u001b[0m: Agent Starting Run: gpkwfztd with config:\n",
      "\u001b[34m\u001b[1mwandb\u001b[0m: \tactivation: relu\n",
      "\u001b[34m\u001b[1mwandb\u001b[0m: \tbatch_size: 16\n",
      "\u001b[34m\u001b[1mwandb\u001b[0m: \tepochs: 7\n",
      "\u001b[34m\u001b[1mwandb\u001b[0m: \tlayer_1: 64\n",
      "\u001b[34m\u001b[1mwandb\u001b[0m: \tlayer_2: 64\n",
      "\u001b[34m\u001b[1mwandb\u001b[0m: \tlayer_3: 64\n",
      "\u001b[34m\u001b[1mwandb\u001b[0m: \tlearning_rate: 0.01\n",
      "\u001b[34m\u001b[1mwandb\u001b[0m: \tloss_type: cross_entropy\n",
      "\u001b[34m\u001b[1mwandb\u001b[0m: \tnum_layers: 3\n",
      "\u001b[34m\u001b[1mwandb\u001b[0m: \toptimiser: rmsprop\n",
      "\u001b[34m\u001b[1mwandb\u001b[0m: \tweight_decay: 0.0005\n",
      "\u001b[34m\u001b[1mwandb\u001b[0m: \tweight_init: random\n",
      "Exception in thread NetStatThr:\n",
      "Traceback (most recent call last):\n",
      "  File \"C:\\Users\\OM\\anaconda3\\lib\\threading.py\", line 980, in _bootstrap_inner\n",
      "Exception in thread ChkStopThr:\n",
      "Traceback (most recent call last):\n",
      "  File \"C:\\Users\\OM\\anaconda3\\lib\\threading.py\", line 980, in _bootstrap_inner\n",
      "        self.run()self.run()\n",
      "\n",
      "  File \"C:\\Users\\OM\\anaconda3\\lib\\threading.py\", line 917, in run\n",
      "  File \"C:\\Users\\OM\\anaconda3\\lib\\threading.py\", line 917, in run\n",
      "    self._target(*self._args, **self._kwargs)    \n",
      "self._target(*self._args, **self._kwargs)  File \"C:\\Users\\OM\\anaconda3\\lib\\site-packages\\wandb\\sdk\\wandb_run.py\", line 268, in check_network_status\n",
      "\n",
      "  File \"C:\\Users\\OM\\anaconda3\\lib\\site-packages\\wandb\\sdk\\wandb_run.py\", line 286, in check_stop_status\n",
      "    self._loop_check_status(\n",
      "  File \"C:\\Users\\OM\\anaconda3\\lib\\site-packages\\wandb\\sdk\\wandb_run.py\", line 224, in _loop_check_status\n",
      "    self._loop_check_status(\n",
      "  File \"C:\\Users\\OM\\anaconda3\\lib\\site-packages\\wandb\\sdk\\wandb_run.py\", line 224, in _loop_check_status\n",
      "    local_handle = request()\n",
      "  File \"C:\\Users\\OM\\anaconda3\\lib\\site-packages\\wandb\\sdk\\interface\\interface.py\", line 787, in deliver_stop_status\n",
      "    local_handle = request()\n",
      "  File \"C:\\Users\\OM\\anaconda3\\lib\\site-packages\\wandb\\sdk\\interface\\interface.py\", line 795, in deliver_network_status\n",
      "        return self._deliver_stop_status(status)return self._deliver_network_status(status)\n",
      "\n",
      "  File \"C:\\Users\\OM\\anaconda3\\lib\\site-packages\\wandb\\sdk\\interface\\interface_shared.py\", line 484, in _deliver_stop_status\n",
      "  File \"C:\\Users\\OM\\anaconda3\\lib\\site-packages\\wandb\\sdk\\interface\\interface_shared.py\", line 500, in _deliver_network_status\n",
      "        return self._deliver_record(record)return self._deliver_record(record)\n",
      "\n",
      "  File \"C:\\Users\\OM\\anaconda3\\lib\\site-packages\\wandb\\sdk\\interface\\interface_shared.py\", line 449, in _deliver_record\n",
      "  File \"C:\\Users\\OM\\anaconda3\\lib\\site-packages\\wandb\\sdk\\interface\\interface_shared.py\", line 449, in _deliver_record\n",
      "    handle = mailbox._deliver_record(record, interface=self)\n",
      "  File \"C:\\Users\\OM\\anaconda3\\lib\\site-packages\\wandb\\sdk\\lib\\mailbox.py\", line 455, in _deliver_record\n",
      "    handle = mailbox._deliver_record(record, interface=self)\n",
      "  File \"C:\\Users\\OM\\anaconda3\\lib\\site-packages\\wandb\\sdk\\lib\\mailbox.py\", line 455, in _deliver_record\n",
      "Exception in thread IntMsgThr:\n",
      "Traceback (most recent call last):\n",
      "  File \"C:\\Users\\OM\\anaconda3\\lib\\threading.py\", line 980, in _bootstrap_inner\n",
      "    interface._publish(record)\n",
      "  File \"C:\\Users\\OM\\anaconda3\\lib\\site-packages\\wandb\\sdk\\interface\\interface_sock.py\", line 51, in _publish\n",
      "    interface._publish(record)\n",
      "  File \"C:\\Users\\OM\\anaconda3\\lib\\site-packages\\wandb\\sdk\\interface\\interface_sock.py\", line 51, in _publish\n",
      "        self._sock_client.send_record_publish(record)self.run()    \n",
      "\n",
      "self._sock_client.send_record_publish(record)  File \"C:\\Users\\OM\\anaconda3\\lib\\site-packages\\wandb\\sdk\\lib\\sock_client.py\", line 221, in send_record_publish\n",
      "  File \"C:\\Users\\OM\\anaconda3\\lib\\threading.py\", line 917, in run\n",
      "\n",
      "  File \"C:\\Users\\OM\\anaconda3\\lib\\site-packages\\wandb\\sdk\\lib\\sock_client.py\", line 221, in send_record_publish\n",
      "        self.send_server_request(server_req)    self.send_server_request(server_req)\n",
      "self._target(*self._args, **self._kwargs)\n",
      "  File \"C:\\Users\\OM\\anaconda3\\lib\\site-packages\\wandb\\sdk\\lib\\sock_client.py\", line 155, in send_server_request\n",
      "\n",
      "  File \"C:\\Users\\OM\\anaconda3\\lib\\site-packages\\wandb\\sdk\\lib\\sock_client.py\", line 155, in send_server_request\n",
      "  File \"C:\\Users\\OM\\anaconda3\\lib\\site-packages\\wandb\\sdk\\wandb_run.py\", line 300, in check_internal_messages\n",
      "    self._send_message(msg)\n",
      "  File \"C:\\Users\\OM\\anaconda3\\lib\\site-packages\\wandb\\sdk\\lib\\sock_client.py\", line 152, in _send_message\n",
      "    self._send_message(msg)\n",
      "  File \"C:\\Users\\OM\\anaconda3\\lib\\site-packages\\wandb\\sdk\\lib\\sock_client.py\", line 152, in _send_message\n",
      "    self._loop_check_status(\n",
      "  File \"C:\\Users\\OM\\anaconda3\\lib\\site-packages\\wandb\\sdk\\wandb_run.py\", line 224, in _loop_check_status\n",
      "        self._sendall_with_error_handle(header + data)self._sendall_with_error_handle(header + data)    \n",
      "\n",
      "local_handle = request()  File \"C:\\Users\\OM\\anaconda3\\lib\\site-packages\\wandb\\sdk\\lib\\sock_client.py\", line 130, in _sendall_with_error_handle\n",
      "  File \"C:\\Users\\OM\\anaconda3\\lib\\site-packages\\wandb\\sdk\\lib\\sock_client.py\", line 130, in _sendall_with_error_handle\n",
      "\n",
      "  File \"C:\\Users\\OM\\anaconda3\\lib\\site-packages\\wandb\\sdk\\interface\\interface.py\", line 803, in deliver_internal_messages\n",
      "    sent = self._sock.send(data)\n",
      "ConnectionAbortedError: [WinError 10053] An established connection was aborted by the software in your host machine\n",
      "    sent = self._sock.send(data)\n",
      "ConnectionAbortedError: [WinError 10053] An established connection was aborted by the software in your host machine\n",
      "    return self._deliver_internal_messages(internal_message)\n",
      "  File \"C:\\Users\\OM\\anaconda3\\lib\\site-packages\\wandb\\sdk\\interface\\interface_shared.py\", line 506, in _deliver_internal_messages\n",
      "    return self._deliver_record(record)\n",
      "  File \"C:\\Users\\OM\\anaconda3\\lib\\site-packages\\wandb\\sdk\\interface\\interface_shared.py\", line 449, in _deliver_record\n",
      "    handle = mailbox._deliver_record(record, interface=self)\n",
      "  File \"C:\\Users\\OM\\anaconda3\\lib\\site-packages\\wandb\\sdk\\lib\\mailbox.py\", line 455, in _deliver_record\n",
      "    interface._publish(record)\n",
      "  File \"C:\\Users\\OM\\anaconda3\\lib\\site-packages\\wandb\\sdk\\interface\\interface_sock.py\", line 51, in _publish\n",
      "    self._sock_client.send_record_publish(record)\n",
      "  File \"C:\\Users\\OM\\anaconda3\\lib\\site-packages\\wandb\\sdk\\lib\\sock_client.py\", line 221, in send_record_publish\n",
      "    self.send_server_request(server_req)\n",
      "  File \"C:\\Users\\OM\\anaconda3\\lib\\site-packages\\wandb\\sdk\\lib\\sock_client.py\", line 155, in send_server_request\n",
      "    self._send_message(msg)\n",
      "  File \"C:\\Users\\OM\\anaconda3\\lib\\site-packages\\wandb\\sdk\\lib\\sock_client.py\", line 152, in _send_message\n",
      "    self._sendall_with_error_handle(header + data)\n",
      "  File \"C:\\Users\\OM\\anaconda3\\lib\\site-packages\\wandb\\sdk\\lib\\sock_client.py\", line 130, in _sendall_with_error_handle\n",
      "    sent = self._sock.send(data)\n",
      "ConnectionAbortedError: [WinError 10053] An established connection was aborted by the software in your host machine\n"
     ]
    },
    {
     "data": {
      "text/html": [
       "Tracking run with wandb version 0.16.4"
      ],
      "text/plain": [
       "<IPython.core.display.HTML object>"
      ]
     },
     "metadata": {},
     "output_type": "display_data"
    },
    {
     "data": {
      "text/html": [
       "Run data is saved locally in <code>C:\\Users\\OM\\Desktop\\ABHIJEET\\IITM\\FoDL\\Assignments FoDL\\wandb\\run-20240317_190242-gpkwfztd</code>"
      ],
      "text/plain": [
       "<IPython.core.display.HTML object>"
      ]
     },
     "metadata": {},
     "output_type": "display_data"
    },
    {
     "data": {
      "text/html": [
       "Syncing run <strong><a href='https://wandb.ai/abhijeet001/CS6910_ASSIGNMENT_01/runs/gpkwfztd' target=\"_blank\">kind-sweep-1</a></strong> to <a href='https://wandb.ai/abhijeet001/CS6910_ASSIGNMENT_01' target=\"_blank\">Weights & Biases</a> (<a href='https://wandb.me/run' target=\"_blank\">docs</a>)<br/>Sweep page: <a href='https://wandb.ai/abhijeet001/CS6910_ASSIGNMENT_01/sweeps/alultgo3' target=\"_blank\">https://wandb.ai/abhijeet001/CS6910_ASSIGNMENT_01/sweeps/alultgo3</a>"
      ],
      "text/plain": [
       "<IPython.core.display.HTML object>"
      ]
     },
     "metadata": {},
     "output_type": "display_data"
    },
    {
     "data": {
      "text/html": [
       " View project at <a href='https://wandb.ai/abhijeet001/CS6910_ASSIGNMENT_01' target=\"_blank\">https://wandb.ai/abhijeet001/CS6910_ASSIGNMENT_01</a>"
      ],
      "text/plain": [
       "<IPython.core.display.HTML object>"
      ]
     },
     "metadata": {},
     "output_type": "display_data"
    },
    {
     "data": {
      "text/html": [
       " View sweep at <a href='https://wandb.ai/abhijeet001/CS6910_ASSIGNMENT_01/sweeps/alultgo3' target=\"_blank\">https://wandb.ai/abhijeet001/CS6910_ASSIGNMENT_01/sweeps/alultgo3</a>"
      ],
      "text/plain": [
       "<IPython.core.display.HTML object>"
      ]
     },
     "metadata": {},
     "output_type": "display_data"
    },
    {
     "data": {
      "text/html": [
       " View run at <a href='https://wandb.ai/abhijeet001/CS6910_ASSIGNMENT_01/runs/gpkwfztd' target=\"_blank\">https://wandb.ai/abhijeet001/CS6910_ASSIGNMENT_01/runs/gpkwfztd</a>"
      ],
      "text/plain": [
       "<IPython.core.display.HTML object>"
      ]
     },
     "metadata": {},
     "output_type": "display_data"
    },
    {
     "data": {
      "application/vnd.jupyter.widget-view+json": {
       "model_id": "",
       "version_major": 2,
       "version_minor": 0
      },
      "text/plain": [
       "VBox(children=(Label(value='0.024 MB of 0.024 MB uploaded\\r'), FloatProgress(value=1.0, max=1.0)))"
      ]
     },
     "metadata": {},
     "output_type": "display_data"
    },
    {
     "data": {
      "text/html": [
       "<style>\n",
       "    table.wandb td:nth-child(1) { padding: 0 10px; text-align: left ; width: auto;} td:nth-child(2) {text-align: left ; width: 100%}\n",
       "    .wandb-row { display: flex; flex-direction: row; flex-wrap: wrap; justify-content: flex-start; width: 100% }\n",
       "    .wandb-col { display: flex; flex-direction: column; flex-basis: 100%; flex: 1; padding: 10px; }\n",
       "    </style>\n",
       "<div class=\"wandb-row\"><div class=\"wandb-col\"><h3>Run history:</h3><br/><table class=\"wandb\"><tr><td>epochs</td><td>▁▂▃▅▆▇█</td></tr><tr><td>train_accuracy</td><td>█▆█▁▆▁█</td></tr><tr><td>train_loss</td><td>▂▅▄▃▁█▆</td></tr><tr><td>val_accuracy</td><td>▁▄▁█▄█▁</td></tr><tr><td>val_loss</td><td>▂▁▇▃▃▇█</td></tr></table><br/></div><div class=\"wandb-col\"><h3>Run summary:</h3><br/><table class=\"wandb\"><tr><td>epochs</td><td>7</td></tr><tr><td>train_accuracy</td><td>0.1003</td></tr><tr><td>train_loss</td><td>2.30422</td></tr><tr><td>val_accuracy</td><td>0.09733</td></tr><tr><td>val_loss</td><td>2.30555</td></tr></table><br/></div></div>"
      ],
      "text/plain": [
       "<IPython.core.display.HTML object>"
      ]
     },
     "metadata": {},
     "output_type": "display_data"
    },
    {
     "data": {
      "text/html": [
       " View run <strong style=\"color:#cdcd00\">kind-sweep-1</strong> at: <a href='https://wandb.ai/abhijeet001/CS6910_ASSIGNMENT_01/runs/gpkwfztd' target=\"_blank\">https://wandb.ai/abhijeet001/CS6910_ASSIGNMENT_01/runs/gpkwfztd</a><br/>Synced 5 W&B file(s), 0 media file(s), 0 artifact file(s) and 0 other file(s)"
      ],
      "text/plain": [
       "<IPython.core.display.HTML object>"
      ]
     },
     "metadata": {},
     "output_type": "display_data"
    },
    {
     "data": {
      "text/html": [
       "Find logs at: <code>.\\wandb\\run-20240317_190242-gpkwfztd\\logs</code>"
      ],
      "text/plain": [
       "<IPython.core.display.HTML object>"
      ]
     },
     "metadata": {},
     "output_type": "display_data"
    },
    {
     "name": "stderr",
     "output_type": "stream",
     "text": [
      "\u001b[34m\u001b[1mwandb\u001b[0m: Agent Starting Run: k1viq9hc with config:\n",
      "\u001b[34m\u001b[1mwandb\u001b[0m: \tactivation: relu\n",
      "\u001b[34m\u001b[1mwandb\u001b[0m: \tbatch_size: 16\n",
      "\u001b[34m\u001b[1mwandb\u001b[0m: \tepochs: 7\n",
      "\u001b[34m\u001b[1mwandb\u001b[0m: \tlayer_1: 64\n",
      "\u001b[34m\u001b[1mwandb\u001b[0m: \tlayer_2: 64\n",
      "\u001b[34m\u001b[1mwandb\u001b[0m: \tlayer_3: 64\n",
      "\u001b[34m\u001b[1mwandb\u001b[0m: \tlearning_rate: 0.01\n",
      "\u001b[34m\u001b[1mwandb\u001b[0m: \tloss_type: cross_entropy\n",
      "\u001b[34m\u001b[1mwandb\u001b[0m: \tnum_layers: 3\n",
      "\u001b[34m\u001b[1mwandb\u001b[0m: \toptimiser: rmsprop\n",
      "\u001b[34m\u001b[1mwandb\u001b[0m: \tweight_decay: 0.0005\n",
      "\u001b[34m\u001b[1mwandb\u001b[0m: \tweight_init: xavier\n"
     ]
    },
    {
     "data": {
      "text/html": [
       "Tracking run with wandb version 0.16.4"
      ],
      "text/plain": [
       "<IPython.core.display.HTML object>"
      ]
     },
     "metadata": {},
     "output_type": "display_data"
    },
    {
     "data": {
      "text/html": [
       "Run data is saved locally in <code>C:\\Users\\OM\\Desktop\\ABHIJEET\\IITM\\FoDL\\Assignments FoDL\\wandb\\run-20240317_191104-k1viq9hc</code>"
      ],
      "text/plain": [
       "<IPython.core.display.HTML object>"
      ]
     },
     "metadata": {},
     "output_type": "display_data"
    },
    {
     "data": {
      "text/html": [
       "Syncing run <strong><a href='https://wandb.ai/abhijeet001/CS6910_ASSIGNMENT_01/runs/k1viq9hc' target=\"_blank\">astral-sweep-2</a></strong> to <a href='https://wandb.ai/abhijeet001/CS6910_ASSIGNMENT_01' target=\"_blank\">Weights & Biases</a> (<a href='https://wandb.me/run' target=\"_blank\">docs</a>)<br/>Sweep page: <a href='https://wandb.ai/abhijeet001/CS6910_ASSIGNMENT_01/sweeps/alultgo3' target=\"_blank\">https://wandb.ai/abhijeet001/CS6910_ASSIGNMENT_01/sweeps/alultgo3</a>"
      ],
      "text/plain": [
       "<IPython.core.display.HTML object>"
      ]
     },
     "metadata": {},
     "output_type": "display_data"
    },
    {
     "data": {
      "text/html": [
       " View project at <a href='https://wandb.ai/abhijeet001/CS6910_ASSIGNMENT_01' target=\"_blank\">https://wandb.ai/abhijeet001/CS6910_ASSIGNMENT_01</a>"
      ],
      "text/plain": [
       "<IPython.core.display.HTML object>"
      ]
     },
     "metadata": {},
     "output_type": "display_data"
    },
    {
     "data": {
      "text/html": [
       " View sweep at <a href='https://wandb.ai/abhijeet001/CS6910_ASSIGNMENT_01/sweeps/alultgo3' target=\"_blank\">https://wandb.ai/abhijeet001/CS6910_ASSIGNMENT_01/sweeps/alultgo3</a>"
      ],
      "text/plain": [
       "<IPython.core.display.HTML object>"
      ]
     },
     "metadata": {},
     "output_type": "display_data"
    },
    {
     "data": {
      "text/html": [
       " View run at <a href='https://wandb.ai/abhijeet001/CS6910_ASSIGNMENT_01/runs/k1viq9hc' target=\"_blank\">https://wandb.ai/abhijeet001/CS6910_ASSIGNMENT_01/runs/k1viq9hc</a>"
      ],
      "text/plain": [
       "<IPython.core.display.HTML object>"
      ]
     },
     "metadata": {},
     "output_type": "display_data"
    },
    {
     "data": {
      "application/vnd.jupyter.widget-view+json": {
       "model_id": "",
       "version_major": 2,
       "version_minor": 0
      },
      "text/plain": [
       "VBox(children=(Label(value='0.024 MB of 0.024 MB uploaded\\r'), FloatProgress(value=1.0, max=1.0)))"
      ]
     },
     "metadata": {},
     "output_type": "display_data"
    },
    {
     "data": {
      "text/html": [
       "<style>\n",
       "    table.wandb td:nth-child(1) { padding: 0 10px; text-align: left ; width: auto;} td:nth-child(2) {text-align: left ; width: 100%}\n",
       "    .wandb-row { display: flex; flex-direction: row; flex-wrap: wrap; justify-content: flex-start; width: 100% }\n",
       "    .wandb-col { display: flex; flex-direction: column; flex-basis: 100%; flex: 1; padding: 10px; }\n",
       "    </style>\n",
       "<div class=\"wandb-row\"><div class=\"wandb-col\"><h3>Run history:</h3><br/><table class=\"wandb\"><tr><td>epochs</td><td>▁▂▃▅▆▇█</td></tr><tr><td>train_accuracy</td><td>▂▅█▃▁▁▄</td></tr><tr><td>train_loss</td><td>▄█▂▁▅▇▂</td></tr><tr><td>val_accuracy</td><td>▆▅▁▆██▄</td></tr><tr><td>val_loss</td><td>▅█▃▃▁▂▂</td></tr></table><br/></div><div class=\"wandb-col\"><h3>Run summary:</h3><br/><table class=\"wandb\"><tr><td>epochs</td><td>7</td></tr><tr><td>train_accuracy</td><td>0.10029</td></tr><tr><td>train_loss</td><td>2.30359</td></tr><tr><td>val_accuracy</td><td>0.09733</td></tr><tr><td>val_loss</td><td>2.30408</td></tr></table><br/></div></div>"
      ],
      "text/plain": [
       "<IPython.core.display.HTML object>"
      ]
     },
     "metadata": {},
     "output_type": "display_data"
    },
    {
     "data": {
      "text/html": [
       " View run <strong style=\"color:#cdcd00\">astral-sweep-2</strong> at: <a href='https://wandb.ai/abhijeet001/CS6910_ASSIGNMENT_01/runs/k1viq9hc' target=\"_blank\">https://wandb.ai/abhijeet001/CS6910_ASSIGNMENT_01/runs/k1viq9hc</a><br/>Synced 5 W&B file(s), 0 media file(s), 0 artifact file(s) and 0 other file(s)"
      ],
      "text/plain": [
       "<IPython.core.display.HTML object>"
      ]
     },
     "metadata": {},
     "output_type": "display_data"
    },
    {
     "data": {
      "text/html": [
       "Find logs at: <code>.\\wandb\\run-20240317_191104-k1viq9hc\\logs</code>"
      ],
      "text/plain": [
       "<IPython.core.display.HTML object>"
      ]
     },
     "metadata": {},
     "output_type": "display_data"
    },
    {
     "name": "stderr",
     "output_type": "stream",
     "text": [
      "\u001b[34m\u001b[1mwandb\u001b[0m: Agent Starting Run: 94aynxxf with config:\n",
      "\u001b[34m\u001b[1mwandb\u001b[0m: \tactivation: relu\n",
      "\u001b[34m\u001b[1mwandb\u001b[0m: \tbatch_size: 16\n",
      "\u001b[34m\u001b[1mwandb\u001b[0m: \tepochs: 7\n",
      "\u001b[34m\u001b[1mwandb\u001b[0m: \tlayer_1: 64\n",
      "\u001b[34m\u001b[1mwandb\u001b[0m: \tlayer_2: 64\n",
      "\u001b[34m\u001b[1mwandb\u001b[0m: \tlayer_3: 64\n",
      "\u001b[34m\u001b[1mwandb\u001b[0m: \tlearning_rate: 0.01\n",
      "\u001b[34m\u001b[1mwandb\u001b[0m: \tloss_type: cross_entropy\n",
      "\u001b[34m\u001b[1mwandb\u001b[0m: \tnum_layers: 3\n",
      "\u001b[34m\u001b[1mwandb\u001b[0m: \toptimiser: rmsprop\n",
      "\u001b[34m\u001b[1mwandb\u001b[0m: \tweight_decay: 0.5\n",
      "\u001b[34m\u001b[1mwandb\u001b[0m: \tweight_init: random\n"
     ]
    },
    {
     "data": {
      "application/vnd.jupyter.widget-view+json": {
       "model_id": "699d442ec2564d05a4f9552eed7db9e2",
       "version_major": 2,
       "version_minor": 0
      },
      "text/plain": [
       "VBox(children=(Label(value='Waiting for wandb.init()...\\r'), FloatProgress(value=0.011111111111111112, max=1.0…"
      ]
     },
     "metadata": {},
     "output_type": "display_data"
    },
    {
     "data": {
      "text/html": [
       "Tracking run with wandb version 0.16.4"
      ],
      "text/plain": [
       "<IPython.core.display.HTML object>"
      ]
     },
     "metadata": {},
     "output_type": "display_data"
    },
    {
     "data": {
      "text/html": [
       "Run data is saved locally in <code>C:\\Users\\OM\\Desktop\\ABHIJEET\\IITM\\FoDL\\Assignments FoDL\\wandb\\run-20240317_191954-94aynxxf</code>"
      ],
      "text/plain": [
       "<IPython.core.display.HTML object>"
      ]
     },
     "metadata": {},
     "output_type": "display_data"
    },
    {
     "data": {
      "text/html": [
       "Syncing run <strong><a href='https://wandb.ai/abhijeet001/CS6910_ASSIGNMENT_01/runs/94aynxxf' target=\"_blank\">ruby-sweep-3</a></strong> to <a href='https://wandb.ai/abhijeet001/CS6910_ASSIGNMENT_01' target=\"_blank\">Weights & Biases</a> (<a href='https://wandb.me/run' target=\"_blank\">docs</a>)<br/>Sweep page: <a href='https://wandb.ai/abhijeet001/CS6910_ASSIGNMENT_01/sweeps/alultgo3' target=\"_blank\">https://wandb.ai/abhijeet001/CS6910_ASSIGNMENT_01/sweeps/alultgo3</a>"
      ],
      "text/plain": [
       "<IPython.core.display.HTML object>"
      ]
     },
     "metadata": {},
     "output_type": "display_data"
    },
    {
     "data": {
      "text/html": [
       " View project at <a href='https://wandb.ai/abhijeet001/CS6910_ASSIGNMENT_01' target=\"_blank\">https://wandb.ai/abhijeet001/CS6910_ASSIGNMENT_01</a>"
      ],
      "text/plain": [
       "<IPython.core.display.HTML object>"
      ]
     },
     "metadata": {},
     "output_type": "display_data"
    },
    {
     "data": {
      "text/html": [
       " View sweep at <a href='https://wandb.ai/abhijeet001/CS6910_ASSIGNMENT_01/sweeps/alultgo3' target=\"_blank\">https://wandb.ai/abhijeet001/CS6910_ASSIGNMENT_01/sweeps/alultgo3</a>"
      ],
      "text/plain": [
       "<IPython.core.display.HTML object>"
      ]
     },
     "metadata": {},
     "output_type": "display_data"
    },
    {
     "data": {
      "text/html": [
       " View run at <a href='https://wandb.ai/abhijeet001/CS6910_ASSIGNMENT_01/runs/94aynxxf' target=\"_blank\">https://wandb.ai/abhijeet001/CS6910_ASSIGNMENT_01/runs/94aynxxf</a>"
      ],
      "text/plain": [
       "<IPython.core.display.HTML object>"
      ]
     },
     "metadata": {},
     "output_type": "display_data"
    },
    {
     "data": {
      "application/vnd.jupyter.widget-view+json": {
       "model_id": "",
       "version_major": 2,
       "version_minor": 0
      },
      "text/plain": [
       "VBox(children=(Label(value='0.023 MB of 0.023 MB uploaded\\r'), FloatProgress(value=1.0, max=1.0)))"
      ]
     },
     "metadata": {},
     "output_type": "display_data"
    },
    {
     "data": {
      "text/html": [
       "<style>\n",
       "    table.wandb td:nth-child(1) { padding: 0 10px; text-align: left ; width: auto;} td:nth-child(2) {text-align: left ; width: 100%}\n",
       "    .wandb-row { display: flex; flex-direction: row; flex-wrap: wrap; justify-content: flex-start; width: 100% }\n",
       "    .wandb-col { display: flex; flex-direction: column; flex-basis: 100%; flex: 1; padding: 10px; }\n",
       "    </style>\n",
       "<div class=\"wandb-row\"><div class=\"wandb-col\"><h3>Run history:</h3><br/><table class=\"wandb\"><tr><td>epochs</td><td>▁▂▃▅▆▇█</td></tr><tr><td>train_accuracy</td><td>▁▃▄█▄█▃</td></tr><tr><td>train_loss</td><td>▅▁█▄█▂▅</td></tr><tr><td>val_accuracy</td><td>██▆▁▆▁█</td></tr><tr><td>val_loss</td><td>▂▂▆█▅▁▄</td></tr></table><br/></div><div class=\"wandb-col\"><h3>Run summary:</h3><br/><table class=\"wandb\"><tr><td>epochs</td><td>7</td></tr><tr><td>train_accuracy</td><td>0.09982</td></tr><tr><td>train_loss</td><td>2.30442</td></tr><tr><td>val_accuracy</td><td>0.10267</td></tr><tr><td>val_loss</td><td>2.30413</td></tr></table><br/></div></div>"
      ],
      "text/plain": [
       "<IPython.core.display.HTML object>"
      ]
     },
     "metadata": {},
     "output_type": "display_data"
    },
    {
     "data": {
      "text/html": [
       " View run <strong style=\"color:#cdcd00\">ruby-sweep-3</strong> at: <a href='https://wandb.ai/abhijeet001/CS6910_ASSIGNMENT_01/runs/94aynxxf' target=\"_blank\">https://wandb.ai/abhijeet001/CS6910_ASSIGNMENT_01/runs/94aynxxf</a><br/>Synced 5 W&B file(s), 0 media file(s), 0 artifact file(s) and 0 other file(s)"
      ],
      "text/plain": [
       "<IPython.core.display.HTML object>"
      ]
     },
     "metadata": {},
     "output_type": "display_data"
    },
    {
     "data": {
      "text/html": [
       "Find logs at: <code>.\\wandb\\run-20240317_191954-94aynxxf\\logs</code>"
      ],
      "text/plain": [
       "<IPython.core.display.HTML object>"
      ]
     },
     "metadata": {},
     "output_type": "display_data"
    },
    {
     "name": "stderr",
     "output_type": "stream",
     "text": [
      "\u001b[34m\u001b[1mwandb\u001b[0m: Agent Starting Run: 1rqqilzh with config:\n",
      "\u001b[34m\u001b[1mwandb\u001b[0m: \tactivation: relu\n",
      "\u001b[34m\u001b[1mwandb\u001b[0m: \tbatch_size: 16\n",
      "\u001b[34m\u001b[1mwandb\u001b[0m: \tepochs: 7\n",
      "\u001b[34m\u001b[1mwandb\u001b[0m: \tlayer_1: 64\n",
      "\u001b[34m\u001b[1mwandb\u001b[0m: \tlayer_2: 64\n",
      "\u001b[34m\u001b[1mwandb\u001b[0m: \tlayer_3: 64\n",
      "\u001b[34m\u001b[1mwandb\u001b[0m: \tlearning_rate: 0.01\n",
      "\u001b[34m\u001b[1mwandb\u001b[0m: \tloss_type: cross_entropy\n",
      "\u001b[34m\u001b[1mwandb\u001b[0m: \tnum_layers: 3\n",
      "\u001b[34m\u001b[1mwandb\u001b[0m: \toptimiser: rmsprop\n",
      "\u001b[34m\u001b[1mwandb\u001b[0m: \tweight_decay: 0.5\n",
      "\u001b[34m\u001b[1mwandb\u001b[0m: \tweight_init: xavier\n"
     ]
    },
    {
     "data": {
      "text/html": [
       "Tracking run with wandb version 0.16.4"
      ],
      "text/plain": [
       "<IPython.core.display.HTML object>"
      ]
     },
     "metadata": {},
     "output_type": "display_data"
    },
    {
     "data": {
      "text/html": [
       "Run data is saved locally in <code>C:\\Users\\OM\\Desktop\\ABHIJEET\\IITM\\FoDL\\Assignments FoDL\\wandb\\run-20240317_193027-1rqqilzh</code>"
      ],
      "text/plain": [
       "<IPython.core.display.HTML object>"
      ]
     },
     "metadata": {},
     "output_type": "display_data"
    },
    {
     "data": {
      "text/html": [
       "Syncing run <strong><a href='https://wandb.ai/abhijeet001/CS6910_ASSIGNMENT_01/runs/1rqqilzh' target=\"_blank\">jolly-sweep-4</a></strong> to <a href='https://wandb.ai/abhijeet001/CS6910_ASSIGNMENT_01' target=\"_blank\">Weights & Biases</a> (<a href='https://wandb.me/run' target=\"_blank\">docs</a>)<br/>Sweep page: <a href='https://wandb.ai/abhijeet001/CS6910_ASSIGNMENT_01/sweeps/alultgo3' target=\"_blank\">https://wandb.ai/abhijeet001/CS6910_ASSIGNMENT_01/sweeps/alultgo3</a>"
      ],
      "text/plain": [
       "<IPython.core.display.HTML object>"
      ]
     },
     "metadata": {},
     "output_type": "display_data"
    },
    {
     "data": {
      "text/html": [
       " View project at <a href='https://wandb.ai/abhijeet001/CS6910_ASSIGNMENT_01' target=\"_blank\">https://wandb.ai/abhijeet001/CS6910_ASSIGNMENT_01</a>"
      ],
      "text/plain": [
       "<IPython.core.display.HTML object>"
      ]
     },
     "metadata": {},
     "output_type": "display_data"
    },
    {
     "data": {
      "text/html": [
       " View sweep at <a href='https://wandb.ai/abhijeet001/CS6910_ASSIGNMENT_01/sweeps/alultgo3' target=\"_blank\">https://wandb.ai/abhijeet001/CS6910_ASSIGNMENT_01/sweeps/alultgo3</a>"
      ],
      "text/plain": [
       "<IPython.core.display.HTML object>"
      ]
     },
     "metadata": {},
     "output_type": "display_data"
    },
    {
     "data": {
      "text/html": [
       " View run at <a href='https://wandb.ai/abhijeet001/CS6910_ASSIGNMENT_01/runs/1rqqilzh' target=\"_blank\">https://wandb.ai/abhijeet001/CS6910_ASSIGNMENT_01/runs/1rqqilzh</a>"
      ],
      "text/plain": [
       "<IPython.core.display.HTML object>"
      ]
     },
     "metadata": {},
     "output_type": "display_data"
    },
    {
     "data": {
      "application/vnd.jupyter.widget-view+json": {
       "model_id": "",
       "version_major": 2,
       "version_minor": 0
      },
      "text/plain": [
       "VBox(children=(Label(value='0.001 MB of 0.023 MB uploaded\\r'), FloatProgress(value=0.051347250133289585, max=1…"
      ]
     },
     "metadata": {},
     "output_type": "display_data"
    },
    {
     "data": {
      "text/html": [
       "<style>\n",
       "    table.wandb td:nth-child(1) { padding: 0 10px; text-align: left ; width: auto;} td:nth-child(2) {text-align: left ; width: 100%}\n",
       "    .wandb-row { display: flex; flex-direction: row; flex-wrap: wrap; justify-content: flex-start; width: 100% }\n",
       "    .wandb-col { display: flex; flex-direction: column; flex-basis: 100%; flex: 1; padding: 10px; }\n",
       "    </style>\n",
       "<div class=\"wandb-row\"><div class=\"wandb-col\"><h3>Run history:</h3><br/><table class=\"wandb\"><tr><td>epochs</td><td>▁▂▃▅▆▇█</td></tr><tr><td>train_accuracy</td><td>█▂█▆▁▅█</td></tr><tr><td>train_loss</td><td>▃▁█▃▄▃▄</td></tr><tr><td>val_accuracy</td><td>▂▇▂▁█▄▂</td></tr><tr><td>val_loss</td><td>▅▂█▄▁▃▂</td></tr></table><br/></div><div class=\"wandb-col\"><h3>Run summary:</h3><br/><table class=\"wandb\"><tr><td>epochs</td><td>7</td></tr><tr><td>train_accuracy</td><td>0.10099</td></tr><tr><td>train_loss</td><td>2.3045</td></tr><tr><td>val_accuracy</td><td>0.09417</td></tr><tr><td>val_loss</td><td>2.30348</td></tr></table><br/></div></div>"
      ],
      "text/plain": [
       "<IPython.core.display.HTML object>"
      ]
     },
     "metadata": {},
     "output_type": "display_data"
    },
    {
     "data": {
      "text/html": [
       " View run <strong style=\"color:#cdcd00\">jolly-sweep-4</strong> at: <a href='https://wandb.ai/abhijeet001/CS6910_ASSIGNMENT_01/runs/1rqqilzh' target=\"_blank\">https://wandb.ai/abhijeet001/CS6910_ASSIGNMENT_01/runs/1rqqilzh</a><br/>Synced 5 W&B file(s), 0 media file(s), 0 artifact file(s) and 0 other file(s)"
      ],
      "text/plain": [
       "<IPython.core.display.HTML object>"
      ]
     },
     "metadata": {},
     "output_type": "display_data"
    },
    {
     "data": {
      "text/html": [
       "Find logs at: <code>.\\wandb\\run-20240317_193027-1rqqilzh\\logs</code>"
      ],
      "text/plain": [
       "<IPython.core.display.HTML object>"
      ]
     },
     "metadata": {},
     "output_type": "display_data"
    },
    {
     "name": "stderr",
     "output_type": "stream",
     "text": [
      "\u001b[34m\u001b[1mwandb\u001b[0m: Sweep Agent: Waiting for job.\n",
      "\u001b[34m\u001b[1mwandb\u001b[0m: Job received.\n",
      "\u001b[34m\u001b[1mwandb\u001b[0m: Agent Starting Run: kp4klgdf with config:\n",
      "\u001b[34m\u001b[1mwandb\u001b[0m: \tactivation: relu\n",
      "\u001b[34m\u001b[1mwandb\u001b[0m: \tbatch_size: 16\n",
      "\u001b[34m\u001b[1mwandb\u001b[0m: \tepochs: 7\n",
      "\u001b[34m\u001b[1mwandb\u001b[0m: \tlayer_1: 64\n",
      "\u001b[34m\u001b[1mwandb\u001b[0m: \tlayer_2: 64\n",
      "\u001b[34m\u001b[1mwandb\u001b[0m: \tlayer_3: 64\n",
      "\u001b[34m\u001b[1mwandb\u001b[0m: \tlearning_rate: 0.01\n",
      "\u001b[34m\u001b[1mwandb\u001b[0m: \tloss_type: cross_entropy\n",
      "\u001b[34m\u001b[1mwandb\u001b[0m: \tnum_layers: 3\n",
      "\u001b[34m\u001b[1mwandb\u001b[0m: \toptimiser: adam\n",
      "\u001b[34m\u001b[1mwandb\u001b[0m: \tweight_decay: 0.0005\n",
      "\u001b[34m\u001b[1mwandb\u001b[0m: \tweight_init: random\n"
     ]
    },
    {
     "data": {
      "text/html": [
       "Tracking run with wandb version 0.16.4"
      ],
      "text/plain": [
       "<IPython.core.display.HTML object>"
      ]
     },
     "metadata": {},
     "output_type": "display_data"
    },
    {
     "data": {
      "text/html": [
       "Run data is saved locally in <code>C:\\Users\\OM\\Desktop\\ABHIJEET\\IITM\\FoDL\\Assignments FoDL\\wandb\\run-20240317_194103-kp4klgdf</code>"
      ],
      "text/plain": [
       "<IPython.core.display.HTML object>"
      ]
     },
     "metadata": {},
     "output_type": "display_data"
    },
    {
     "data": {
      "text/html": [
       "Syncing run <strong><a href='https://wandb.ai/abhijeet001/CS6910_ASSIGNMENT_01/runs/kp4klgdf' target=\"_blank\">resilient-sweep-5</a></strong> to <a href='https://wandb.ai/abhijeet001/CS6910_ASSIGNMENT_01' target=\"_blank\">Weights & Biases</a> (<a href='https://wandb.me/run' target=\"_blank\">docs</a>)<br/>Sweep page: <a href='https://wandb.ai/abhijeet001/CS6910_ASSIGNMENT_01/sweeps/alultgo3' target=\"_blank\">https://wandb.ai/abhijeet001/CS6910_ASSIGNMENT_01/sweeps/alultgo3</a>"
      ],
      "text/plain": [
       "<IPython.core.display.HTML object>"
      ]
     },
     "metadata": {},
     "output_type": "display_data"
    },
    {
     "data": {
      "text/html": [
       " View project at <a href='https://wandb.ai/abhijeet001/CS6910_ASSIGNMENT_01' target=\"_blank\">https://wandb.ai/abhijeet001/CS6910_ASSIGNMENT_01</a>"
      ],
      "text/plain": [
       "<IPython.core.display.HTML object>"
      ]
     },
     "metadata": {},
     "output_type": "display_data"
    },
    {
     "data": {
      "text/html": [
       " View sweep at <a href='https://wandb.ai/abhijeet001/CS6910_ASSIGNMENT_01/sweeps/alultgo3' target=\"_blank\">https://wandb.ai/abhijeet001/CS6910_ASSIGNMENT_01/sweeps/alultgo3</a>"
      ],
      "text/plain": [
       "<IPython.core.display.HTML object>"
      ]
     },
     "metadata": {},
     "output_type": "display_data"
    },
    {
     "data": {
      "text/html": [
       " View run at <a href='https://wandb.ai/abhijeet001/CS6910_ASSIGNMENT_01/runs/kp4klgdf' target=\"_blank\">https://wandb.ai/abhijeet001/CS6910_ASSIGNMENT_01/runs/kp4klgdf</a>"
      ],
      "text/plain": [
       "<IPython.core.display.HTML object>"
      ]
     },
     "metadata": {},
     "output_type": "display_data"
    },
    {
     "data": {
      "application/vnd.jupyter.widget-view+json": {
       "model_id": "",
       "version_major": 2,
       "version_minor": 0
      },
      "text/plain": [
       "VBox(children=(Label(value='0.023 MB of 0.023 MB uploaded\\r'), FloatProgress(value=1.0, max=1.0)))"
      ]
     },
     "metadata": {},
     "output_type": "display_data"
    },
    {
     "data": {
      "text/html": [
       "<style>\n",
       "    table.wandb td:nth-child(1) { padding: 0 10px; text-align: left ; width: auto;} td:nth-child(2) {text-align: left ; width: 100%}\n",
       "    .wandb-row { display: flex; flex-direction: row; flex-wrap: wrap; justify-content: flex-start; width: 100% }\n",
       "    .wandb-col { display: flex; flex-direction: column; flex-basis: 100%; flex: 1; padding: 10px; }\n",
       "    </style>\n",
       "<div class=\"wandb-row\"><div class=\"wandb-col\"><h3>Run history:</h3><br/><table class=\"wandb\"><tr><td>epochs</td><td>▁▂▃▅▆▇█</td></tr><tr><td>train_accuracy</td><td>▁▅▅▄█▇▇</td></tr><tr><td>train_loss</td><td>█▄▄▄▁▁▂</td></tr><tr><td>val_accuracy</td><td>▁▆▇▂█▆▇</td></tr><tr><td>val_loss</td><td>█▄▃▄▁▁▂</td></tr></table><br/></div><div class=\"wandb-col\"><h3>Run summary:</h3><br/><table class=\"wandb\"><tr><td>epochs</td><td>7</td></tr><tr><td>train_accuracy</td><td>0.666</td></tr><tr><td>train_loss</td><td>0.90728</td></tr><tr><td>val_accuracy</td><td>0.7235</td></tr><tr><td>val_loss</td><td>0.73118</td></tr></table><br/></div></div>"
      ],
      "text/plain": [
       "<IPython.core.display.HTML object>"
      ]
     },
     "metadata": {},
     "output_type": "display_data"
    },
    {
     "data": {
      "text/html": [
       " View run <strong style=\"color:#cdcd00\">resilient-sweep-5</strong> at: <a href='https://wandb.ai/abhijeet001/CS6910_ASSIGNMENT_01/runs/kp4klgdf' target=\"_blank\">https://wandb.ai/abhijeet001/CS6910_ASSIGNMENT_01/runs/kp4klgdf</a><br/>Synced 5 W&B file(s), 0 media file(s), 0 artifact file(s) and 0 other file(s)"
      ],
      "text/plain": [
       "<IPython.core.display.HTML object>"
      ]
     },
     "metadata": {},
     "output_type": "display_data"
    },
    {
     "data": {
      "text/html": [
       "Find logs at: <code>.\\wandb\\run-20240317_194103-kp4klgdf\\logs</code>"
      ],
      "text/plain": [
       "<IPython.core.display.HTML object>"
      ]
     },
     "metadata": {},
     "output_type": "display_data"
    },
    {
     "name": "stderr",
     "output_type": "stream",
     "text": [
      "\u001b[34m\u001b[1mwandb\u001b[0m: Agent Starting Run: 677ql7e5 with config:\n",
      "\u001b[34m\u001b[1mwandb\u001b[0m: \tactivation: relu\n",
      "\u001b[34m\u001b[1mwandb\u001b[0m: \tbatch_size: 16\n",
      "\u001b[34m\u001b[1mwandb\u001b[0m: \tepochs: 7\n",
      "\u001b[34m\u001b[1mwandb\u001b[0m: \tlayer_1: 64\n",
      "\u001b[34m\u001b[1mwandb\u001b[0m: \tlayer_2: 64\n",
      "\u001b[34m\u001b[1mwandb\u001b[0m: \tlayer_3: 64\n",
      "\u001b[34m\u001b[1mwandb\u001b[0m: \tlearning_rate: 0.01\n",
      "\u001b[34m\u001b[1mwandb\u001b[0m: \tloss_type: cross_entropy\n",
      "\u001b[34m\u001b[1mwandb\u001b[0m: \tnum_layers: 3\n",
      "\u001b[34m\u001b[1mwandb\u001b[0m: \toptimiser: adam\n",
      "\u001b[34m\u001b[1mwandb\u001b[0m: \tweight_decay: 0.0005\n",
      "\u001b[34m\u001b[1mwandb\u001b[0m: \tweight_init: xavier\n"
     ]
    },
    {
     "data": {
      "text/html": [
       "Tracking run with wandb version 0.16.4"
      ],
      "text/plain": [
       "<IPython.core.display.HTML object>"
      ]
     },
     "metadata": {},
     "output_type": "display_data"
    },
    {
     "data": {
      "text/html": [
       "Run data is saved locally in <code>C:\\Users\\OM\\Desktop\\ABHIJEET\\IITM\\FoDL\\Assignments FoDL\\wandb\\run-20240317_195115-677ql7e5</code>"
      ],
      "text/plain": [
       "<IPython.core.display.HTML object>"
      ]
     },
     "metadata": {},
     "output_type": "display_data"
    },
    {
     "data": {
      "text/html": [
       "Syncing run <strong><a href='https://wandb.ai/abhijeet001/CS6910_ASSIGNMENT_01/runs/677ql7e5' target=\"_blank\">golden-sweep-6</a></strong> to <a href='https://wandb.ai/abhijeet001/CS6910_ASSIGNMENT_01' target=\"_blank\">Weights & Biases</a> (<a href='https://wandb.me/run' target=\"_blank\">docs</a>)<br/>Sweep page: <a href='https://wandb.ai/abhijeet001/CS6910_ASSIGNMENT_01/sweeps/alultgo3' target=\"_blank\">https://wandb.ai/abhijeet001/CS6910_ASSIGNMENT_01/sweeps/alultgo3</a>"
      ],
      "text/plain": [
       "<IPython.core.display.HTML object>"
      ]
     },
     "metadata": {},
     "output_type": "display_data"
    },
    {
     "data": {
      "text/html": [
       " View project at <a href='https://wandb.ai/abhijeet001/CS6910_ASSIGNMENT_01' target=\"_blank\">https://wandb.ai/abhijeet001/CS6910_ASSIGNMENT_01</a>"
      ],
      "text/plain": [
       "<IPython.core.display.HTML object>"
      ]
     },
     "metadata": {},
     "output_type": "display_data"
    },
    {
     "data": {
      "text/html": [
       " View sweep at <a href='https://wandb.ai/abhijeet001/CS6910_ASSIGNMENT_01/sweeps/alultgo3' target=\"_blank\">https://wandb.ai/abhijeet001/CS6910_ASSIGNMENT_01/sweeps/alultgo3</a>"
      ],
      "text/plain": [
       "<IPython.core.display.HTML object>"
      ]
     },
     "metadata": {},
     "output_type": "display_data"
    },
    {
     "data": {
      "text/html": [
       " View run at <a href='https://wandb.ai/abhijeet001/CS6910_ASSIGNMENT_01/runs/677ql7e5' target=\"_blank\">https://wandb.ai/abhijeet001/CS6910_ASSIGNMENT_01/runs/677ql7e5</a>"
      ],
      "text/plain": [
       "<IPython.core.display.HTML object>"
      ]
     },
     "metadata": {},
     "output_type": "display_data"
    },
    {
     "data": {
      "application/vnd.jupyter.widget-view+json": {
       "model_id": "",
       "version_major": 2,
       "version_minor": 0
      },
      "text/plain": [
       "VBox(children=(Label(value='0.001 MB of 0.023 MB uploaded\\r'), FloatProgress(value=0.051347250133289585, max=1…"
      ]
     },
     "metadata": {},
     "output_type": "display_data"
    },
    {
     "data": {
      "text/html": [
       "<style>\n",
       "    table.wandb td:nth-child(1) { padding: 0 10px; text-align: left ; width: auto;} td:nth-child(2) {text-align: left ; width: 100%}\n",
       "    .wandb-row { display: flex; flex-direction: row; flex-wrap: wrap; justify-content: flex-start; width: 100% }\n",
       "    .wandb-col { display: flex; flex-direction: column; flex-basis: 100%; flex: 1; padding: 10px; }\n",
       "    </style>\n",
       "<div class=\"wandb-row\"><div class=\"wandb-col\"><h3>Run history:</h3><br/><table class=\"wandb\"><tr><td>epochs</td><td>▁▂▃▅▆▇█</td></tr><tr><td>train_accuracy</td><td>▁▃▇█▆▆█</td></tr><tr><td>train_loss</td><td>█▅▂▁▂▃▁</td></tr><tr><td>val_accuracy</td><td>▁▃█▇▅██</td></tr><tr><td>val_loss</td><td>█▄▁▁▃▂▂</td></tr></table><br/></div><div class=\"wandb-col\"><h3>Run summary:</h3><br/><table class=\"wandb\"><tr><td>epochs</td><td>7</td></tr><tr><td>train_accuracy</td><td>0.70506</td></tr><tr><td>train_loss</td><td>0.78061</td></tr><tr><td>val_accuracy</td><td>0.76317</td></tr><tr><td>val_loss</td><td>0.64046</td></tr></table><br/></div></div>"
      ],
      "text/plain": [
       "<IPython.core.display.HTML object>"
      ]
     },
     "metadata": {},
     "output_type": "display_data"
    },
    {
     "data": {
      "text/html": [
       " View run <strong style=\"color:#cdcd00\">golden-sweep-6</strong> at: <a href='https://wandb.ai/abhijeet001/CS6910_ASSIGNMENT_01/runs/677ql7e5' target=\"_blank\">https://wandb.ai/abhijeet001/CS6910_ASSIGNMENT_01/runs/677ql7e5</a><br/>Synced 5 W&B file(s), 0 media file(s), 0 artifact file(s) and 0 other file(s)"
      ],
      "text/plain": [
       "<IPython.core.display.HTML object>"
      ]
     },
     "metadata": {},
     "output_type": "display_data"
    },
    {
     "data": {
      "text/html": [
       "Find logs at: <code>.\\wandb\\run-20240317_195115-677ql7e5\\logs</code>"
      ],
      "text/plain": [
       "<IPython.core.display.HTML object>"
      ]
     },
     "metadata": {},
     "output_type": "display_data"
    },
    {
     "name": "stderr",
     "output_type": "stream",
     "text": [
      "\u001b[34m\u001b[1mwandb\u001b[0m: Agent Starting Run: 8kgcaqo3 with config:\n",
      "\u001b[34m\u001b[1mwandb\u001b[0m: \tactivation: relu\n",
      "\u001b[34m\u001b[1mwandb\u001b[0m: \tbatch_size: 16\n",
      "\u001b[34m\u001b[1mwandb\u001b[0m: \tepochs: 7\n",
      "\u001b[34m\u001b[1mwandb\u001b[0m: \tlayer_1: 64\n",
      "\u001b[34m\u001b[1mwandb\u001b[0m: \tlayer_2: 64\n",
      "\u001b[34m\u001b[1mwandb\u001b[0m: \tlayer_3: 64\n",
      "\u001b[34m\u001b[1mwandb\u001b[0m: \tlearning_rate: 0.01\n",
      "\u001b[34m\u001b[1mwandb\u001b[0m: \tloss_type: cross_entropy\n",
      "\u001b[34m\u001b[1mwandb\u001b[0m: \tnum_layers: 3\n",
      "\u001b[34m\u001b[1mwandb\u001b[0m: \toptimiser: adam\n",
      "\u001b[34m\u001b[1mwandb\u001b[0m: \tweight_decay: 0.5\n",
      "\u001b[34m\u001b[1mwandb\u001b[0m: \tweight_init: random\n"
     ]
    },
    {
     "data": {
      "text/html": [
       "Tracking run with wandb version 0.16.4"
      ],
      "text/plain": [
       "<IPython.core.display.HTML object>"
      ]
     },
     "metadata": {},
     "output_type": "display_data"
    },
    {
     "data": {
      "text/html": [
       "Run data is saved locally in <code>C:\\Users\\OM\\Desktop\\ABHIJEET\\IITM\\FoDL\\Assignments FoDL\\wandb\\run-20240317_200139-8kgcaqo3</code>"
      ],
      "text/plain": [
       "<IPython.core.display.HTML object>"
      ]
     },
     "metadata": {},
     "output_type": "display_data"
    },
    {
     "data": {
      "text/html": [
       "Syncing run <strong><a href='https://wandb.ai/abhijeet001/CS6910_ASSIGNMENT_01/runs/8kgcaqo3' target=\"_blank\">cerulean-sweep-7</a></strong> to <a href='https://wandb.ai/abhijeet001/CS6910_ASSIGNMENT_01' target=\"_blank\">Weights & Biases</a> (<a href='https://wandb.me/run' target=\"_blank\">docs</a>)<br/>Sweep page: <a href='https://wandb.ai/abhijeet001/CS6910_ASSIGNMENT_01/sweeps/alultgo3' target=\"_blank\">https://wandb.ai/abhijeet001/CS6910_ASSIGNMENT_01/sweeps/alultgo3</a>"
      ],
      "text/plain": [
       "<IPython.core.display.HTML object>"
      ]
     },
     "metadata": {},
     "output_type": "display_data"
    },
    {
     "data": {
      "text/html": [
       " View project at <a href='https://wandb.ai/abhijeet001/CS6910_ASSIGNMENT_01' target=\"_blank\">https://wandb.ai/abhijeet001/CS6910_ASSIGNMENT_01</a>"
      ],
      "text/plain": [
       "<IPython.core.display.HTML object>"
      ]
     },
     "metadata": {},
     "output_type": "display_data"
    },
    {
     "data": {
      "text/html": [
       " View sweep at <a href='https://wandb.ai/abhijeet001/CS6910_ASSIGNMENT_01/sweeps/alultgo3' target=\"_blank\">https://wandb.ai/abhijeet001/CS6910_ASSIGNMENT_01/sweeps/alultgo3</a>"
      ],
      "text/plain": [
       "<IPython.core.display.HTML object>"
      ]
     },
     "metadata": {},
     "output_type": "display_data"
    },
    {
     "data": {
      "text/html": [
       " View run at <a href='https://wandb.ai/abhijeet001/CS6910_ASSIGNMENT_01/runs/8kgcaqo3' target=\"_blank\">https://wandb.ai/abhijeet001/CS6910_ASSIGNMENT_01/runs/8kgcaqo3</a>"
      ],
      "text/plain": [
       "<IPython.core.display.HTML object>"
      ]
     },
     "metadata": {},
     "output_type": "display_data"
    },
    {
     "data": {
      "application/vnd.jupyter.widget-view+json": {
       "model_id": "",
       "version_major": 2,
       "version_minor": 0
      },
      "text/plain": [
       "VBox(children=(Label(value='0.001 MB of 0.023 MB uploaded\\r'), FloatProgress(value=0.051353568498769486, max=1…"
      ]
     },
     "metadata": {},
     "output_type": "display_data"
    },
    {
     "data": {
      "text/html": [
       "<style>\n",
       "    table.wandb td:nth-child(1) { padding: 0 10px; text-align: left ; width: auto;} td:nth-child(2) {text-align: left ; width: 100%}\n",
       "    .wandb-row { display: flex; flex-direction: row; flex-wrap: wrap; justify-content: flex-start; width: 100% }\n",
       "    .wandb-col { display: flex; flex-direction: column; flex-basis: 100%; flex: 1; padding: 10px; }\n",
       "    </style>\n",
       "<div class=\"wandb-row\"><div class=\"wandb-col\"><h3>Run history:</h3><br/><table class=\"wandb\"><tr><td>epochs</td><td>▁▂▃▅▆▇█</td></tr><tr><td>train_accuracy</td><td>▃█▆▃▂▁▂</td></tr><tr><td>train_loss</td><td>▁▃▄█▄▇▁</td></tr><tr><td>val_accuracy</td><td>▆▁▄▅███</td></tr><tr><td>val_loss</td><td>▁▆▄█▁▅▁</td></tr></table><br/></div><div class=\"wandb-col\"><h3>Run summary:</h3><br/><table class=\"wandb\"><tr><td>epochs</td><td>7</td></tr><tr><td>train_accuracy</td><td>0.09937</td></tr><tr><td>train_loss</td><td>2.30355</td></tr><tr><td>val_accuracy</td><td>0.105</td></tr><tr><td>val_loss</td><td>2.30353</td></tr></table><br/></div></div>"
      ],
      "text/plain": [
       "<IPython.core.display.HTML object>"
      ]
     },
     "metadata": {},
     "output_type": "display_data"
    },
    {
     "data": {
      "text/html": [
       " View run <strong style=\"color:#cdcd00\">cerulean-sweep-7</strong> at: <a href='https://wandb.ai/abhijeet001/CS6910_ASSIGNMENT_01/runs/8kgcaqo3' target=\"_blank\">https://wandb.ai/abhijeet001/CS6910_ASSIGNMENT_01/runs/8kgcaqo3</a><br/>Synced 5 W&B file(s), 0 media file(s), 0 artifact file(s) and 0 other file(s)"
      ],
      "text/plain": [
       "<IPython.core.display.HTML object>"
      ]
     },
     "metadata": {},
     "output_type": "display_data"
    },
    {
     "data": {
      "text/html": [
       "Find logs at: <code>.\\wandb\\run-20240317_200139-8kgcaqo3\\logs</code>"
      ],
      "text/plain": [
       "<IPython.core.display.HTML object>"
      ]
     },
     "metadata": {},
     "output_type": "display_data"
    },
    {
     "name": "stderr",
     "output_type": "stream",
     "text": [
      "\u001b[34m\u001b[1mwandb\u001b[0m: Agent Starting Run: na54cpcc with config:\n",
      "\u001b[34m\u001b[1mwandb\u001b[0m: \tactivation: relu\n",
      "\u001b[34m\u001b[1mwandb\u001b[0m: \tbatch_size: 16\n",
      "\u001b[34m\u001b[1mwandb\u001b[0m: \tepochs: 7\n",
      "\u001b[34m\u001b[1mwandb\u001b[0m: \tlayer_1: 64\n",
      "\u001b[34m\u001b[1mwandb\u001b[0m: \tlayer_2: 64\n",
      "\u001b[34m\u001b[1mwandb\u001b[0m: \tlayer_3: 64\n",
      "\u001b[34m\u001b[1mwandb\u001b[0m: \tlearning_rate: 0.01\n",
      "\u001b[34m\u001b[1mwandb\u001b[0m: \tloss_type: cross_entropy\n",
      "\u001b[34m\u001b[1mwandb\u001b[0m: \tnum_layers: 3\n",
      "\u001b[34m\u001b[1mwandb\u001b[0m: \toptimiser: adam\n",
      "\u001b[34m\u001b[1mwandb\u001b[0m: \tweight_decay: 0.5\n",
      "\u001b[34m\u001b[1mwandb\u001b[0m: \tweight_init: xavier\n"
     ]
    },
    {
     "data": {
      "text/html": [
       "Tracking run with wandb version 0.16.4"
      ],
      "text/plain": [
       "<IPython.core.display.HTML object>"
      ]
     },
     "metadata": {},
     "output_type": "display_data"
    },
    {
     "data": {
      "text/html": [
       "Run data is saved locally in <code>C:\\Users\\OM\\Desktop\\ABHIJEET\\IITM\\FoDL\\Assignments FoDL\\wandb\\run-20240317_201249-na54cpcc</code>"
      ],
      "text/plain": [
       "<IPython.core.display.HTML object>"
      ]
     },
     "metadata": {},
     "output_type": "display_data"
    },
    {
     "data": {
      "text/html": [
       "Syncing run <strong><a href='https://wandb.ai/abhijeet001/CS6910_ASSIGNMENT_01/runs/na54cpcc' target=\"_blank\">earthy-sweep-8</a></strong> to <a href='https://wandb.ai/abhijeet001/CS6910_ASSIGNMENT_01' target=\"_blank\">Weights & Biases</a> (<a href='https://wandb.me/run' target=\"_blank\">docs</a>)<br/>Sweep page: <a href='https://wandb.ai/abhijeet001/CS6910_ASSIGNMENT_01/sweeps/alultgo3' target=\"_blank\">https://wandb.ai/abhijeet001/CS6910_ASSIGNMENT_01/sweeps/alultgo3</a>"
      ],
      "text/plain": [
       "<IPython.core.display.HTML object>"
      ]
     },
     "metadata": {},
     "output_type": "display_data"
    },
    {
     "data": {
      "text/html": [
       " View project at <a href='https://wandb.ai/abhijeet001/CS6910_ASSIGNMENT_01' target=\"_blank\">https://wandb.ai/abhijeet001/CS6910_ASSIGNMENT_01</a>"
      ],
      "text/plain": [
       "<IPython.core.display.HTML object>"
      ]
     },
     "metadata": {},
     "output_type": "display_data"
    },
    {
     "data": {
      "text/html": [
       " View sweep at <a href='https://wandb.ai/abhijeet001/CS6910_ASSIGNMENT_01/sweeps/alultgo3' target=\"_blank\">https://wandb.ai/abhijeet001/CS6910_ASSIGNMENT_01/sweeps/alultgo3</a>"
      ],
      "text/plain": [
       "<IPython.core.display.HTML object>"
      ]
     },
     "metadata": {},
     "output_type": "display_data"
    },
    {
     "data": {
      "text/html": [
       " View run at <a href='https://wandb.ai/abhijeet001/CS6910_ASSIGNMENT_01/runs/na54cpcc' target=\"_blank\">https://wandb.ai/abhijeet001/CS6910_ASSIGNMENT_01/runs/na54cpcc</a>"
      ],
      "text/plain": [
       "<IPython.core.display.HTML object>"
      ]
     },
     "metadata": {},
     "output_type": "display_data"
    },
    {
     "data": {
      "application/vnd.jupyter.widget-view+json": {
       "model_id": "",
       "version_major": 2,
       "version_minor": 0
      },
      "text/plain": [
       "VBox(children=(Label(value='0.001 MB of 0.023 MB uploaded\\r'), FloatProgress(value=0.050840575002030375, max=1…"
      ]
     },
     "metadata": {},
     "output_type": "display_data"
    },
    {
     "data": {
      "text/html": [
       "<style>\n",
       "    table.wandb td:nth-child(1) { padding: 0 10px; text-align: left ; width: auto;} td:nth-child(2) {text-align: left ; width: 100%}\n",
       "    .wandb-row { display: flex; flex-direction: row; flex-wrap: wrap; justify-content: flex-start; width: 100% }\n",
       "    .wandb-col { display: flex; flex-direction: column; flex-basis: 100%; flex: 1; padding: 10px; }\n",
       "    </style>\n",
       "<div class=\"wandb-row\"><div class=\"wandb-col\"><h3>Run history:</h3><br/><table class=\"wandb\"><tr><td>epochs</td><td>▁▂▃▅▆▇█</td></tr><tr><td>train_accuracy</td><td>▇▅▄█▄▃▁</td></tr><tr><td>train_loss</td><td>▂█▆▁▃▅▇</td></tr><tr><td>val_accuracy</td><td>█▄▅█▅▆▁</td></tr><tr><td>val_loss</td><td>▁█▆▁▃▄▇</td></tr></table><br/></div><div class=\"wandb-col\"><h3>Run summary:</h3><br/><table class=\"wandb\"><tr><td>epochs</td><td>7</td></tr><tr><td>train_accuracy</td><td>0.34066</td></tr><tr><td>train_loss</td><td>1.57574</td></tr><tr><td>val_accuracy</td><td>0.3515</td></tr><tr><td>val_loss</td><td>1.48681</td></tr></table><br/></div></div>"
      ],
      "text/plain": [
       "<IPython.core.display.HTML object>"
      ]
     },
     "metadata": {},
     "output_type": "display_data"
    },
    {
     "data": {
      "text/html": [
       " View run <strong style=\"color:#cdcd00\">earthy-sweep-8</strong> at: <a href='https://wandb.ai/abhijeet001/CS6910_ASSIGNMENT_01/runs/na54cpcc' target=\"_blank\">https://wandb.ai/abhijeet001/CS6910_ASSIGNMENT_01/runs/na54cpcc</a><br/>Synced 5 W&B file(s), 0 media file(s), 0 artifact file(s) and 0 other file(s)"
      ],
      "text/plain": [
       "<IPython.core.display.HTML object>"
      ]
     },
     "metadata": {},
     "output_type": "display_data"
    },
    {
     "data": {
      "text/html": [
       "Find logs at: <code>.\\wandb\\run-20240317_201249-na54cpcc\\logs</code>"
      ],
      "text/plain": [
       "<IPython.core.display.HTML object>"
      ]
     },
     "metadata": {},
     "output_type": "display_data"
    },
    {
     "name": "stderr",
     "output_type": "stream",
     "text": [
      "\u001b[34m\u001b[1mwandb\u001b[0m: Agent Starting Run: g1rx0v5v with config:\n",
      "\u001b[34m\u001b[1mwandb\u001b[0m: \tactivation: relu\n",
      "\u001b[34m\u001b[1mwandb\u001b[0m: \tbatch_size: 16\n",
      "\u001b[34m\u001b[1mwandb\u001b[0m: \tepochs: 7\n",
      "\u001b[34m\u001b[1mwandb\u001b[0m: \tlayer_1: 64\n",
      "\u001b[34m\u001b[1mwandb\u001b[0m: \tlayer_2: 64\n",
      "\u001b[34m\u001b[1mwandb\u001b[0m: \tlayer_3: 64\n",
      "\u001b[34m\u001b[1mwandb\u001b[0m: \tlearning_rate: 0.01\n",
      "\u001b[34m\u001b[1mwandb\u001b[0m: \tloss_type: cross_entropy\n",
      "\u001b[34m\u001b[1mwandb\u001b[0m: \tnum_layers: 3\n",
      "\u001b[34m\u001b[1mwandb\u001b[0m: \toptimiser: nadam\n",
      "\u001b[34m\u001b[1mwandb\u001b[0m: \tweight_decay: 0.0005\n",
      "\u001b[34m\u001b[1mwandb\u001b[0m: \tweight_init: random\n"
     ]
    },
    {
     "data": {
      "text/html": [
       "Tracking run with wandb version 0.16.4"
      ],
      "text/plain": [
       "<IPython.core.display.HTML object>"
      ]
     },
     "metadata": {},
     "output_type": "display_data"
    },
    {
     "data": {
      "text/html": [
       "Run data is saved locally in <code>C:\\Users\\OM\\Desktop\\ABHIJEET\\IITM\\FoDL\\Assignments FoDL\\wandb\\run-20240317_202334-g1rx0v5v</code>"
      ],
      "text/plain": [
       "<IPython.core.display.HTML object>"
      ]
     },
     "metadata": {},
     "output_type": "display_data"
    },
    {
     "data": {
      "text/html": [
       "Syncing run <strong><a href='https://wandb.ai/abhijeet001/CS6910_ASSIGNMENT_01/runs/g1rx0v5v' target=\"_blank\">rare-sweep-9</a></strong> to <a href='https://wandb.ai/abhijeet001/CS6910_ASSIGNMENT_01' target=\"_blank\">Weights & Biases</a> (<a href='https://wandb.me/run' target=\"_blank\">docs</a>)<br/>Sweep page: <a href='https://wandb.ai/abhijeet001/CS6910_ASSIGNMENT_01/sweeps/alultgo3' target=\"_blank\">https://wandb.ai/abhijeet001/CS6910_ASSIGNMENT_01/sweeps/alultgo3</a>"
      ],
      "text/plain": [
       "<IPython.core.display.HTML object>"
      ]
     },
     "metadata": {},
     "output_type": "display_data"
    },
    {
     "data": {
      "text/html": [
       " View project at <a href='https://wandb.ai/abhijeet001/CS6910_ASSIGNMENT_01' target=\"_blank\">https://wandb.ai/abhijeet001/CS6910_ASSIGNMENT_01</a>"
      ],
      "text/plain": [
       "<IPython.core.display.HTML object>"
      ]
     },
     "metadata": {},
     "output_type": "display_data"
    },
    {
     "data": {
      "text/html": [
       " View sweep at <a href='https://wandb.ai/abhijeet001/CS6910_ASSIGNMENT_01/sweeps/alultgo3' target=\"_blank\">https://wandb.ai/abhijeet001/CS6910_ASSIGNMENT_01/sweeps/alultgo3</a>"
      ],
      "text/plain": [
       "<IPython.core.display.HTML object>"
      ]
     },
     "metadata": {},
     "output_type": "display_data"
    },
    {
     "data": {
      "text/html": [
       " View run at <a href='https://wandb.ai/abhijeet001/CS6910_ASSIGNMENT_01/runs/g1rx0v5v' target=\"_blank\">https://wandb.ai/abhijeet001/CS6910_ASSIGNMENT_01/runs/g1rx0v5v</a>"
      ],
      "text/plain": [
       "<IPython.core.display.HTML object>"
      ]
     },
     "metadata": {},
     "output_type": "display_data"
    }
   ],
   "source": [
    "# Define the sweep configuration\n",
    "\n",
    "sweep_config = {\n",
    "    \n",
    "    \"name\": \"my_custom_sweep\",\n",
    "    'method': 'grid',\n",
    "    'parameters': {\n",
    "        'epochs': {'values': [7, 10]},  # Add epochs parameter\n",
    "        'num_layers': {'values': [3]},\n",
    "#         'num_layers': {'values': [3, 4, 5]},\n",
    "      \n",
    "        'layer_1': {'values': [64, 128]},\n",
    "        'layer_2': {'values': [64, 128]},\n",
    "        'layer_3': {'values': [64, 128]},\n",
    "#         'layer_4': {'values': [32, 64, 128]},\n",
    "#         'layer_5': {'values': [32, 64, 128]},\n",
    "        'weight_decay': {'values': [0.0005, 0.5]},\n",
    "        'learning_rate': {'values': [0.01, 0.001]},\n",
    "#        'optimiser': {'values': ['sgd', 'momentum', 'nesterov', 'rmsprop', 'adam', 'nadam']},\n",
    "        'optimiser': {'values': ['rmsprop', 'adam', 'nadam']},\n",
    "        'batch_size': {'values': [16, 32, 64, 128, 256, 512]},\n",
    "        'weight_init': {'values': ['random', 'xavier']},\n",
    "        'activation': {'values': ['relu']},\n",
    "#         'activation': {'values': ['sigmoid', 'tanh', 'relu']},\n",
    "        'loss_type':{'values': ['cross_entropy', 'squared_error']}\n",
    "    }\n",
    "}\n",
    "\n",
    "\n",
    "metric = {\n",
    "    'name': 'val_accuracy',\n",
    "    'goal': 'maximize'   \n",
    "    }\n",
    "\n",
    "sweep_config['metric'] = metric\n",
    "\n",
    "\n",
    "# Initialize a sweep\n",
    "sweep_id = wandb.sweep(sweep_config, project=\"CS6910_ASSIGNMENT_01\")\n",
    "\n",
    "# Define the sweep function\n",
    "# def sweep():\n",
    "#     with wandb.init() as run:\n",
    "#         config = run.config\n",
    "#         train()\n",
    "\n",
    "def sweep():\n",
    "    train()\n",
    "\n",
    "# Initialize the sweep agent\n",
    "\n",
    "wandb.agent(sweep_id, function=sweep, count=50)\n",
    "\n"
   ]
  },
  {
   "cell_type": "code",
   "execution_count": null,
   "id": "71d16de0",
   "metadata": {},
   "outputs": [],
   "source": []
  },
  {
   "cell_type": "code",
   "execution_count": null,
   "id": "aadf44d5",
   "metadata": {},
   "outputs": [],
   "source": []
  },
  {
   "cell_type": "code",
   "execution_count": null,
   "id": "904f515b",
   "metadata": {},
   "outputs": [],
   "source": []
  },
  {
   "cell_type": "code",
   "execution_count": null,
   "id": "9502987f",
   "metadata": {},
   "outputs": [],
   "source": []
  }
 ],
 "metadata": {
  "accelerator": "GPU",
  "colab": {
   "gpuType": "T4",
   "provenance": []
  },
  "kernelspec": {
   "display_name": "Python 3 (ipykernel)",
   "language": "python",
   "name": "python3"
  },
  "language_info": {
   "codemirror_mode": {
    "name": "ipython",
    "version": 3
   },
   "file_extension": ".py",
   "mimetype": "text/x-python",
   "name": "python",
   "nbconvert_exporter": "python",
   "pygments_lexer": "ipython3",
   "version": "3.9.13"
  },
  "widgets": {
   "application/vnd.jupyter.widget-state+json": {
    "10f519e655c14182ba936048dbb2a6e2": {
     "model_module": "@jupyter-widgets/base",
     "model_module_version": "1.2.0",
     "model_name": "LayoutModel",
     "state": {
      "_model_module": "@jupyter-widgets/base",
      "_model_module_version": "1.2.0",
      "_model_name": "LayoutModel",
      "_view_count": null,
      "_view_module": "@jupyter-widgets/base",
      "_view_module_version": "1.2.0",
      "_view_name": "LayoutView",
      "align_content": null,
      "align_items": null,
      "align_self": null,
      "border": null,
      "bottom": null,
      "display": null,
      "flex": null,
      "flex_flow": null,
      "grid_area": null,
      "grid_auto_columns": null,
      "grid_auto_flow": null,
      "grid_auto_rows": null,
      "grid_column": null,
      "grid_gap": null,
      "grid_row": null,
      "grid_template_areas": null,
      "grid_template_columns": null,
      "grid_template_rows": null,
      "height": null,
      "justify_content": null,
      "justify_items": null,
      "left": null,
      "margin": null,
      "max_height": null,
      "max_width": null,
      "min_height": null,
      "min_width": null,
      "object_fit": null,
      "object_position": null,
      "order": null,
      "overflow": null,
      "overflow_x": null,
      "overflow_y": null,
      "padding": null,
      "right": null,
      "top": null,
      "visibility": null,
      "width": null
     }
    },
    "2dbec2bb4f3d47e290fb9ada5b3fa75a": {
     "model_module": "@jupyter-widgets/controls",
     "model_module_version": "1.5.0",
     "model_name": "DescriptionStyleModel",
     "state": {
      "_model_module": "@jupyter-widgets/controls",
      "_model_module_version": "1.5.0",
      "_model_name": "DescriptionStyleModel",
      "_view_count": null,
      "_view_module": "@jupyter-widgets/base",
      "_view_module_version": "1.2.0",
      "_view_name": "StyleView",
      "description_width": ""
     }
    },
    "40b7e57e2b674987b1b3053de9d2cbf7": {
     "model_module": "@jupyter-widgets/controls",
     "model_module_version": "1.5.0",
     "model_name": "ProgressStyleModel",
     "state": {
      "_model_module": "@jupyter-widgets/controls",
      "_model_module_version": "1.5.0",
      "_model_name": "ProgressStyleModel",
      "_view_count": null,
      "_view_module": "@jupyter-widgets/base",
      "_view_module_version": "1.2.0",
      "_view_name": "StyleView",
      "bar_color": null,
      "description_width": ""
     }
    },
    "4f5c19fdad4e47f89986dce3a008b89d": {
     "model_module": "@jupyter-widgets/controls",
     "model_module_version": "1.5.0",
     "model_name": "ProgressStyleModel",
     "state": {
      "_model_module": "@jupyter-widgets/controls",
      "_model_module_version": "1.5.0",
      "_model_name": "ProgressStyleModel",
      "_view_count": null,
      "_view_module": "@jupyter-widgets/base",
      "_view_module_version": "1.2.0",
      "_view_name": "StyleView",
      "bar_color": null,
      "description_width": ""
     }
    },
    "58dcc778515f40f0a7446fe03c0b8e41": {
     "model_module": "@jupyter-widgets/base",
     "model_module_version": "1.2.0",
     "model_name": "LayoutModel",
     "state": {
      "_model_module": "@jupyter-widgets/base",
      "_model_module_version": "1.2.0",
      "_model_name": "LayoutModel",
      "_view_count": null,
      "_view_module": "@jupyter-widgets/base",
      "_view_module_version": "1.2.0",
      "_view_name": "LayoutView",
      "align_content": null,
      "align_items": null,
      "align_self": null,
      "border": null,
      "bottom": null,
      "display": null,
      "flex": null,
      "flex_flow": null,
      "grid_area": null,
      "grid_auto_columns": null,
      "grid_auto_flow": null,
      "grid_auto_rows": null,
      "grid_column": null,
      "grid_gap": null,
      "grid_row": null,
      "grid_template_areas": null,
      "grid_template_columns": null,
      "grid_template_rows": null,
      "height": null,
      "justify_content": null,
      "justify_items": null,
      "left": null,
      "margin": null,
      "max_height": null,
      "max_width": null,
      "min_height": null,
      "min_width": null,
      "object_fit": null,
      "object_position": null,
      "order": null,
      "overflow": null,
      "overflow_x": null,
      "overflow_y": null,
      "padding": null,
      "right": null,
      "top": null,
      "visibility": null,
      "width": null
     }
    },
    "5bf8bb51e3dc49319fc8ca11e7f2e69f": {
     "model_module": "@jupyter-widgets/controls",
     "model_module_version": "1.5.0",
     "model_name": "FloatProgressModel",
     "state": {
      "_dom_classes": [],
      "_model_module": "@jupyter-widgets/controls",
      "_model_module_version": "1.5.0",
      "_model_name": "FloatProgressModel",
      "_view_count": null,
      "_view_module": "@jupyter-widgets/controls",
      "_view_module_version": "1.5.0",
      "_view_name": "ProgressView",
      "bar_style": "",
      "description": "",
      "description_tooltip": null,
      "layout": "IPY_MODEL_6d1ce18b769d4494ac31bda679d4472e",
      "max": 1,
      "min": 0,
      "orientation": "horizontal",
      "style": "IPY_MODEL_4f5c19fdad4e47f89986dce3a008b89d",
      "value": 1
     }
    },
    "64cc2882a3a445d6aa2c648aa5c18530": {
     "model_module": "@jupyter-widgets/base",
     "model_module_version": "1.2.0",
     "model_name": "LayoutModel",
     "state": {
      "_model_module": "@jupyter-widgets/base",
      "_model_module_version": "1.2.0",
      "_model_name": "LayoutModel",
      "_view_count": null,
      "_view_module": "@jupyter-widgets/base",
      "_view_module_version": "1.2.0",
      "_view_name": "LayoutView",
      "align_content": null,
      "align_items": null,
      "align_self": null,
      "border": null,
      "bottom": null,
      "display": null,
      "flex": null,
      "flex_flow": null,
      "grid_area": null,
      "grid_auto_columns": null,
      "grid_auto_flow": null,
      "grid_auto_rows": null,
      "grid_column": null,
      "grid_gap": null,
      "grid_row": null,
      "grid_template_areas": null,
      "grid_template_columns": null,
      "grid_template_rows": null,
      "height": null,
      "justify_content": null,
      "justify_items": null,
      "left": null,
      "margin": null,
      "max_height": null,
      "max_width": null,
      "min_height": null,
      "min_width": null,
      "object_fit": null,
      "object_position": null,
      "order": null,
      "overflow": null,
      "overflow_x": null,
      "overflow_y": null,
      "padding": null,
      "right": null,
      "top": null,
      "visibility": null,
      "width": null
     }
    },
    "6828ce65b20a41e5a700ee51a4630998": {
     "model_module": "@jupyter-widgets/controls",
     "model_module_version": "1.5.0",
     "model_name": "DescriptionStyleModel",
     "state": {
      "_model_module": "@jupyter-widgets/controls",
      "_model_module_version": "1.5.0",
      "_model_name": "DescriptionStyleModel",
      "_view_count": null,
      "_view_module": "@jupyter-widgets/base",
      "_view_module_version": "1.2.0",
      "_view_name": "StyleView",
      "description_width": ""
     }
    },
    "6c212a2ee65440b38eb107e2a35f54de": {
     "model_module": "@jupyter-widgets/base",
     "model_module_version": "1.2.0",
     "model_name": "LayoutModel",
     "state": {
      "_model_module": "@jupyter-widgets/base",
      "_model_module_version": "1.2.0",
      "_model_name": "LayoutModel",
      "_view_count": null,
      "_view_module": "@jupyter-widgets/base",
      "_view_module_version": "1.2.0",
      "_view_name": "LayoutView",
      "align_content": null,
      "align_items": null,
      "align_self": null,
      "border": null,
      "bottom": null,
      "display": null,
      "flex": null,
      "flex_flow": null,
      "grid_area": null,
      "grid_auto_columns": null,
      "grid_auto_flow": null,
      "grid_auto_rows": null,
      "grid_column": null,
      "grid_gap": null,
      "grid_row": null,
      "grid_template_areas": null,
      "grid_template_columns": null,
      "grid_template_rows": null,
      "height": null,
      "justify_content": null,
      "justify_items": null,
      "left": null,
      "margin": null,
      "max_height": null,
      "max_width": null,
      "min_height": null,
      "min_width": null,
      "object_fit": null,
      "object_position": null,
      "order": null,
      "overflow": null,
      "overflow_x": null,
      "overflow_y": null,
      "padding": null,
      "right": null,
      "top": null,
      "visibility": null,
      "width": null
     }
    },
    "6d1ce18b769d4494ac31bda679d4472e": {
     "model_module": "@jupyter-widgets/base",
     "model_module_version": "1.2.0",
     "model_name": "LayoutModel",
     "state": {
      "_model_module": "@jupyter-widgets/base",
      "_model_module_version": "1.2.0",
      "_model_name": "LayoutModel",
      "_view_count": null,
      "_view_module": "@jupyter-widgets/base",
      "_view_module_version": "1.2.0",
      "_view_name": "LayoutView",
      "align_content": null,
      "align_items": null,
      "align_self": null,
      "border": null,
      "bottom": null,
      "display": null,
      "flex": null,
      "flex_flow": null,
      "grid_area": null,
      "grid_auto_columns": null,
      "grid_auto_flow": null,
      "grid_auto_rows": null,
      "grid_column": null,
      "grid_gap": null,
      "grid_row": null,
      "grid_template_areas": null,
      "grid_template_columns": null,
      "grid_template_rows": null,
      "height": null,
      "justify_content": null,
      "justify_items": null,
      "left": null,
      "margin": null,
      "max_height": null,
      "max_width": null,
      "min_height": null,
      "min_width": null,
      "object_fit": null,
      "object_position": null,
      "order": null,
      "overflow": null,
      "overflow_x": null,
      "overflow_y": null,
      "padding": null,
      "right": null,
      "top": null,
      "visibility": null,
      "width": null
     }
    },
    "6d4336fd8c9b41beb75782c7d77a1a4a": {
     "model_module": "@jupyter-widgets/controls",
     "model_module_version": "1.5.0",
     "model_name": "DescriptionStyleModel",
     "state": {
      "_model_module": "@jupyter-widgets/controls",
      "_model_module_version": "1.5.0",
      "_model_name": "DescriptionStyleModel",
      "_view_count": null,
      "_view_module": "@jupyter-widgets/base",
      "_view_module_version": "1.2.0",
      "_view_name": "StyleView",
      "description_width": ""
     }
    },
    "73cfc9605c634a39aa345d6c8c387d3d": {
     "model_module": "@jupyter-widgets/controls",
     "model_module_version": "1.5.0",
     "model_name": "VBoxModel",
     "state": {
      "_dom_classes": [],
      "_model_module": "@jupyter-widgets/controls",
      "_model_module_version": "1.5.0",
      "_model_name": "VBoxModel",
      "_view_count": null,
      "_view_module": "@jupyter-widgets/controls",
      "_view_module_version": "1.5.0",
      "_view_name": "VBoxView",
      "box_style": "",
      "children": [
       "IPY_MODEL_76a3c5ec07114bfc8db8bb2eeb160534",
       "IPY_MODEL_cf7dc96080be4d268ba6fd6714b9fc57"
      ],
      "layout": "IPY_MODEL_6c212a2ee65440b38eb107e2a35f54de"
     }
    },
    "76a3c5ec07114bfc8db8bb2eeb160534": {
     "model_module": "@jupyter-widgets/controls",
     "model_module_version": "1.5.0",
     "model_name": "LabelModel",
     "state": {
      "_dom_classes": [],
      "_model_module": "@jupyter-widgets/controls",
      "_model_module_version": "1.5.0",
      "_model_name": "LabelModel",
      "_view_count": null,
      "_view_module": "@jupyter-widgets/controls",
      "_view_module_version": "1.5.0",
      "_view_name": "LabelView",
      "description": "",
      "description_tooltip": null,
      "layout": "IPY_MODEL_c97ed9cd6a1948fc9c09df3116c39119",
      "placeholder": "​",
      "style": "IPY_MODEL_6d4336fd8c9b41beb75782c7d77a1a4a",
      "value": "0.010 MB of 0.010 MB uploaded\r"
     }
    },
    "813d3f2082ec43ddb8aaf05a2d6da429": {
     "model_module": "@jupyter-widgets/controls",
     "model_module_version": "1.5.0",
     "model_name": "LabelModel",
     "state": {
      "_dom_classes": [],
      "_model_module": "@jupyter-widgets/controls",
      "_model_module_version": "1.5.0",
      "_model_name": "LabelModel",
      "_view_count": null,
      "_view_module": "@jupyter-widgets/controls",
      "_view_module_version": "1.5.0",
      "_view_name": "LabelView",
      "description": "",
      "description_tooltip": null,
      "layout": "IPY_MODEL_58dcc778515f40f0a7446fe03c0b8e41",
      "placeholder": "​",
      "style": "IPY_MODEL_6828ce65b20a41e5a700ee51a4630998",
      "value": "0.010 MB of 0.010 MB uploaded\r"
     }
    },
    "89feea43ea0e4696842018ef28531c78": {
     "model_module": "@jupyter-widgets/controls",
     "model_module_version": "1.5.0",
     "model_name": "VBoxModel",
     "state": {
      "_dom_classes": [],
      "_model_module": "@jupyter-widgets/controls",
      "_model_module_version": "1.5.0",
      "_model_name": "VBoxModel",
      "_view_count": null,
      "_view_module": "@jupyter-widgets/controls",
      "_view_module_version": "1.5.0",
      "_view_name": "VBoxView",
      "box_style": "",
      "children": [
       "IPY_MODEL_813d3f2082ec43ddb8aaf05a2d6da429",
       "IPY_MODEL_aee11f09703f4e01a4b17b713122720c"
      ],
      "layout": "IPY_MODEL_a66cd0ce3be24472baf73f420175d597"
     }
    },
    "8b36b1d5fce443eda54d0970b82301dd": {
     "model_module": "@jupyter-widgets/controls",
     "model_module_version": "1.5.0",
     "model_name": "ProgressStyleModel",
     "state": {
      "_model_module": "@jupyter-widgets/controls",
      "_model_module_version": "1.5.0",
      "_model_name": "ProgressStyleModel",
      "_view_count": null,
      "_view_module": "@jupyter-widgets/base",
      "_view_module_version": "1.2.0",
      "_view_name": "StyleView",
      "bar_color": null,
      "description_width": ""
     }
    },
    "9d1c8dfda8384ac7808b574fc829a635": {
     "model_module": "@jupyter-widgets/base",
     "model_module_version": "1.2.0",
     "model_name": "LayoutModel",
     "state": {
      "_model_module": "@jupyter-widgets/base",
      "_model_module_version": "1.2.0",
      "_model_name": "LayoutModel",
      "_view_count": null,
      "_view_module": "@jupyter-widgets/base",
      "_view_module_version": "1.2.0",
      "_view_name": "LayoutView",
      "align_content": null,
      "align_items": null,
      "align_self": null,
      "border": null,
      "bottom": null,
      "display": null,
      "flex": null,
      "flex_flow": null,
      "grid_area": null,
      "grid_auto_columns": null,
      "grid_auto_flow": null,
      "grid_auto_rows": null,
      "grid_column": null,
      "grid_gap": null,
      "grid_row": null,
      "grid_template_areas": null,
      "grid_template_columns": null,
      "grid_template_rows": null,
      "height": null,
      "justify_content": null,
      "justify_items": null,
      "left": null,
      "margin": null,
      "max_height": null,
      "max_width": null,
      "min_height": null,
      "min_width": null,
      "object_fit": null,
      "object_position": null,
      "order": null,
      "overflow": null,
      "overflow_x": null,
      "overflow_y": null,
      "padding": null,
      "right": null,
      "top": null,
      "visibility": null,
      "width": null
     }
    },
    "a66cd0ce3be24472baf73f420175d597": {
     "model_module": "@jupyter-widgets/base",
     "model_module_version": "1.2.0",
     "model_name": "LayoutModel",
     "state": {
      "_model_module": "@jupyter-widgets/base",
      "_model_module_version": "1.2.0",
      "_model_name": "LayoutModel",
      "_view_count": null,
      "_view_module": "@jupyter-widgets/base",
      "_view_module_version": "1.2.0",
      "_view_name": "LayoutView",
      "align_content": null,
      "align_items": null,
      "align_self": null,
      "border": null,
      "bottom": null,
      "display": null,
      "flex": null,
      "flex_flow": null,
      "grid_area": null,
      "grid_auto_columns": null,
      "grid_auto_flow": null,
      "grid_auto_rows": null,
      "grid_column": null,
      "grid_gap": null,
      "grid_row": null,
      "grid_template_areas": null,
      "grid_template_columns": null,
      "grid_template_rows": null,
      "height": null,
      "justify_content": null,
      "justify_items": null,
      "left": null,
      "margin": null,
      "max_height": null,
      "max_width": null,
      "min_height": null,
      "min_width": null,
      "object_fit": null,
      "object_position": null,
      "order": null,
      "overflow": null,
      "overflow_x": null,
      "overflow_y": null,
      "padding": null,
      "right": null,
      "top": null,
      "visibility": null,
      "width": null
     }
    },
    "a9f46cfef3814b72abc389114d5262b3": {
     "model_module": "@jupyter-widgets/controls",
     "model_module_version": "1.5.0",
     "model_name": "LabelModel",
     "state": {
      "_dom_classes": [],
      "_model_module": "@jupyter-widgets/controls",
      "_model_module_version": "1.5.0",
      "_model_name": "LabelModel",
      "_view_count": null,
      "_view_module": "@jupyter-widgets/controls",
      "_view_module_version": "1.5.0",
      "_view_name": "LabelView",
      "description": "",
      "description_tooltip": null,
      "layout": "IPY_MODEL_f1d2404065fc491798760600a6d7b8ea",
      "placeholder": "​",
      "style": "IPY_MODEL_2dbec2bb4f3d47e290fb9ada5b3fa75a",
      "value": "0.010 MB of 0.010 MB uploaded\r"
     }
    },
    "aee11f09703f4e01a4b17b713122720c": {
     "model_module": "@jupyter-widgets/controls",
     "model_module_version": "1.5.0",
     "model_name": "FloatProgressModel",
     "state": {
      "_dom_classes": [],
      "_model_module": "@jupyter-widgets/controls",
      "_model_module_version": "1.5.0",
      "_model_name": "FloatProgressModel",
      "_view_count": null,
      "_view_module": "@jupyter-widgets/controls",
      "_view_module_version": "1.5.0",
      "_view_name": "ProgressView",
      "bar_style": "",
      "description": "",
      "description_tooltip": null,
      "layout": "IPY_MODEL_10f519e655c14182ba936048dbb2a6e2",
      "max": 1,
      "min": 0,
      "orientation": "horizontal",
      "style": "IPY_MODEL_40b7e57e2b674987b1b3053de9d2cbf7",
      "value": 1
     }
    },
    "b30216c23a8743a890af7847e10efebf": {
     "model_module": "@jupyter-widgets/controls",
     "model_module_version": "1.5.0",
     "model_name": "VBoxModel",
     "state": {
      "_dom_classes": [],
      "_model_module": "@jupyter-widgets/controls",
      "_model_module_version": "1.5.0",
      "_model_name": "VBoxModel",
      "_view_count": null,
      "_view_module": "@jupyter-widgets/controls",
      "_view_module_version": "1.5.0",
      "_view_name": "VBoxView",
      "box_style": "",
      "children": [
       "IPY_MODEL_a9f46cfef3814b72abc389114d5262b3",
       "IPY_MODEL_5bf8bb51e3dc49319fc8ca11e7f2e69f"
      ],
      "layout": "IPY_MODEL_9d1c8dfda8384ac7808b574fc829a635"
     }
    },
    "c97ed9cd6a1948fc9c09df3116c39119": {
     "model_module": "@jupyter-widgets/base",
     "model_module_version": "1.2.0",
     "model_name": "LayoutModel",
     "state": {
      "_model_module": "@jupyter-widgets/base",
      "_model_module_version": "1.2.0",
      "_model_name": "LayoutModel",
      "_view_count": null,
      "_view_module": "@jupyter-widgets/base",
      "_view_module_version": "1.2.0",
      "_view_name": "LayoutView",
      "align_content": null,
      "align_items": null,
      "align_self": null,
      "border": null,
      "bottom": null,
      "display": null,
      "flex": null,
      "flex_flow": null,
      "grid_area": null,
      "grid_auto_columns": null,
      "grid_auto_flow": null,
      "grid_auto_rows": null,
      "grid_column": null,
      "grid_gap": null,
      "grid_row": null,
      "grid_template_areas": null,
      "grid_template_columns": null,
      "grid_template_rows": null,
      "height": null,
      "justify_content": null,
      "justify_items": null,
      "left": null,
      "margin": null,
      "max_height": null,
      "max_width": null,
      "min_height": null,
      "min_width": null,
      "object_fit": null,
      "object_position": null,
      "order": null,
      "overflow": null,
      "overflow_x": null,
      "overflow_y": null,
      "padding": null,
      "right": null,
      "top": null,
      "visibility": null,
      "width": null
     }
    },
    "cf7dc96080be4d268ba6fd6714b9fc57": {
     "model_module": "@jupyter-widgets/controls",
     "model_module_version": "1.5.0",
     "model_name": "FloatProgressModel",
     "state": {
      "_dom_classes": [],
      "_model_module": "@jupyter-widgets/controls",
      "_model_module_version": "1.5.0",
      "_model_name": "FloatProgressModel",
      "_view_count": null,
      "_view_module": "@jupyter-widgets/controls",
      "_view_module_version": "1.5.0",
      "_view_name": "ProgressView",
      "bar_style": "",
      "description": "",
      "description_tooltip": null,
      "layout": "IPY_MODEL_64cc2882a3a445d6aa2c648aa5c18530",
      "max": 1,
      "min": 0,
      "orientation": "horizontal",
      "style": "IPY_MODEL_8b36b1d5fce443eda54d0970b82301dd",
      "value": 1
     }
    },
    "f1d2404065fc491798760600a6d7b8ea": {
     "model_module": "@jupyter-widgets/base",
     "model_module_version": "1.2.0",
     "model_name": "LayoutModel",
     "state": {
      "_model_module": "@jupyter-widgets/base",
      "_model_module_version": "1.2.0",
      "_model_name": "LayoutModel",
      "_view_count": null,
      "_view_module": "@jupyter-widgets/base",
      "_view_module_version": "1.2.0",
      "_view_name": "LayoutView",
      "align_content": null,
      "align_items": null,
      "align_self": null,
      "border": null,
      "bottom": null,
      "display": null,
      "flex": null,
      "flex_flow": null,
      "grid_area": null,
      "grid_auto_columns": null,
      "grid_auto_flow": null,
      "grid_auto_rows": null,
      "grid_column": null,
      "grid_gap": null,
      "grid_row": null,
      "grid_template_areas": null,
      "grid_template_columns": null,
      "grid_template_rows": null,
      "height": null,
      "justify_content": null,
      "justify_items": null,
      "left": null,
      "margin": null,
      "max_height": null,
      "max_width": null,
      "min_height": null,
      "min_width": null,
      "object_fit": null,
      "object_position": null,
      "order": null,
      "overflow": null,
      "overflow_x": null,
      "overflow_y": null,
      "padding": null,
      "right": null,
      "top": null,
      "visibility": null,
      "width": null
     }
    }
   }
  }
 },
 "nbformat": 4,
 "nbformat_minor": 5
}
