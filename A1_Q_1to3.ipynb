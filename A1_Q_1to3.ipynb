{
 "cells": [
  {
   "cell_type": "code",
   "execution_count": 47,
   "id": "5343f8f4",
   "metadata": {},
   "outputs": [],
   "source": [
    "## Importing Libraries and Downloading Data\n",
    "\n",
    "# Import libraries\n",
    "import numpy as np\n",
    "import pandas as pd\n",
    "import matplotlib.pyplot as plt\n",
    "from keras.datasets import mnist\n",
    "from sklearn.model_selection import train_test_split\n",
    "from sklearn.metrics import classification_report, accuracy_score, confusion_matrix\n",
    "import warnings\n",
    "warnings.filterwarnings(\"ignore\")\n",
    "#import wandb\n",
    "import seaborn as sns\n",
    "\n",
    "\n",
    "from keras.datasets import fashion_mnist"
   ]
  },
  {
   "cell_type": "code",
   "execution_count": 48,
   "id": "f9ba8e98",
   "metadata": {},
   "outputs": [],
   "source": [
    "########################################################################################\n",
    "# Download data\n",
    "(X, y), (X_test, y_test) = fashion_mnist.load_data()"
   ]
  },
  {
   "cell_type": "code",
   "execution_count": 49,
   "id": "6d354554",
   "metadata": {},
   "outputs": [
    {
     "data": {
      "text/plain": [
       "(60000, 28, 28)"
      ]
     },
     "execution_count": 49,
     "metadata": {},
     "output_type": "execute_result"
    }
   ],
   "source": [
    "X.shape"
   ]
  },
  {
   "cell_type": "code",
   "execution_count": 50,
   "id": "e58c22ca",
   "metadata": {},
   "outputs": [
    {
     "data": {
      "text/plain": [
       "(60000,)"
      ]
     },
     "execution_count": 50,
     "metadata": {},
     "output_type": "execute_result"
    }
   ],
   "source": [
    "y.shape"
   ]
  },
  {
   "cell_type": "code",
   "execution_count": 51,
   "id": "60f13759",
   "metadata": {},
   "outputs": [
    {
     "data": {
      "text/plain": [
       "60000"
      ]
     },
     "execution_count": 51,
     "metadata": {},
     "output_type": "execute_result"
    }
   ],
   "source": [
    "X.shape[0]"
   ]
  },
  {
   "cell_type": "code",
   "execution_count": 52,
   "id": "674681b4",
   "metadata": {},
   "outputs": [
    {
     "data": {
      "text/plain": [
       "28"
      ]
     },
     "execution_count": 52,
     "metadata": {},
     "output_type": "execute_result"
    }
   ],
   "source": [
    "X.shape[1]"
   ]
  },
  {
   "cell_type": "code",
   "execution_count": 53,
   "id": "8340f8d2",
   "metadata": {},
   "outputs": [
    {
     "data": {
      "text/plain": [
       "28"
      ]
     },
     "execution_count": 53,
     "metadata": {},
     "output_type": "execute_result"
    }
   ],
   "source": [
    "X.shape[2]"
   ]
  },
  {
   "cell_type": "code",
   "execution_count": 54,
   "id": "5a53942f",
   "metadata": {},
   "outputs": [],
   "source": [
    "# Reshaping the data matrices\n",
    "X = X.reshape(X.shape[0], 784)\n",
    "X_test = X_test.reshape(X_test.shape[0], 784)\n",
    "\n",
    "# Normalizing the pixel intensities\n",
    "X = X/255.0\n",
    "X_test = X_test/255.0\n",
    "\n",
    "# Split the X_train into a training set and validation set\n",
    "X_train, X_val, y_train, y_val = train_test_split(X, y, test_size=0.1, random_state=42)"
   ]
  },
  {
   "cell_type": "code",
   "execution_count": 55,
   "id": "1461ca24",
   "metadata": {},
   "outputs": [],
   "source": [
    "############################################################################\n",
    "# # Dataset Preprocessing\n",
    "# Number of training examples\n",
    "M = X_train.shape[0]\n",
    "\n",
    "# Number of validation samples\n",
    "Mval = X_val.shape[0]\n",
    "\n",
    "# Number of test examples\n",
    "Mtest = X_test.shape[0]\n",
    "\n",
    "# Number of features in the dataset\n",
    "num_features = 784\n",
    "\n",
    "# Number of classes\n",
    "num_classes = len(np.unique(y_train))"
   ]
  },
  {
   "cell_type": "code",
   "execution_count": 56,
   "id": "5b3ae257",
   "metadata": {},
   "outputs": [
    {
     "name": "stdout",
     "output_type": "stream",
     "text": [
      "Number of images in the training set = 54000\n",
      "Number of images in the validation set = 6000\n",
      "Number of images in the test set = 10000\n",
      "Number of classes = 10\n",
      "Number of features per example = 784\n"
     ]
    }
   ],
   "source": [
    "# One hot encoding for class labels\n",
    "y_train_one_hot = np.zeros((10, M))\n",
    "y_train_one_hot[y_train, np.array(list(range(M)))] = 1\n",
    "\n",
    "y_val_one_hot = np.zeros((10, Mval))\n",
    "y_val_one_hot[y_val, np.array(list(range(Mval)))] = 1\n",
    "\n",
    "y_test_one_hot = np.zeros((10, Mtest))\n",
    "y_test_one_hot[y_test, np.array(list(range(Mtest)))] = 1\n",
    "\n",
    "print(\"Number of images in the training set =\", M)\n",
    "print(\"Number of images in the validation set =\", Mval)\n",
    "print(\"Number of images in the test set =\", Mtest)\n",
    "print(\"Number of classes =\", num_classes)\n",
    "print(\"Number of features per example =\", num_features)\n",
    "##########################################################################"
   ]
  },
  {
   "cell_type": "code",
   "execution_count": 57,
   "id": "3921ba99",
   "metadata": {},
   "outputs": [],
   "source": [
    "# Modify shapes of the data matrices\n",
    "X_train = X_train.T\n",
    "X_val = X_val.T\n",
    "X_test = X_test.T\n",
    "X = X.T"
   ]
  },
  {
   "cell_type": "code",
   "execution_count": 40,
   "id": "cf16a05e",
   "metadata": {},
   "outputs": [],
   "source": [
    "#############################################################\n",
    "\n",
    "# Number of neurons in the input and output layers\n",
    "input_nodes = num_features\n",
    "output_nodes = num_classes"
   ]
  },
  {
   "cell_type": "code",
   "execution_count": 41,
   "id": "d20fc284",
   "metadata": {},
   "outputs": [],
   "source": [
    "# ########################################################################\n",
    "# # Class names\n",
    "\n",
    "# class_names = [0,1,2,3,4,5,6,7,8,9]"
   ]
  },
  {
   "cell_type": "code",
   "execution_count": 42,
   "id": "97f497d5",
   "metadata": {},
   "outputs": [],
   "source": [
    "# ########################################################################\n",
    "# # Print Sample Images\n",
    "# # Store the index of first occurrence of each class\n",
    "# example_indices = [list(y_train).index(i) for i in range(num_classes)]\n",
    "\n",
    "# fig=plt.figure()\n",
    "# count = 1\n",
    "# for index in example_indices:\n",
    "#     fig.add_subplot(2,5,count)\n",
    "#     plt.imshow(X_train.T[index].reshape((28, 28)))\n",
    "#     count+=1"
   ]
  },
  {
   "cell_type": "code",
   "execution_count": null,
   "id": "74f02d39",
   "metadata": {},
   "outputs": [],
   "source": []
  },
  {
   "cell_type": "code",
   "execution_count": 58,
   "id": "92b02709",
   "metadata": {},
   "outputs": [],
   "source": [
    "# # import numpy as np\n",
    "# # import matplotlib.pyplot as plt\n",
    "# # from tensorflow.keras.datasets import fashion_mnist\n",
    "# # from sklearn.model_selection import train_test_split\n",
    "\n",
    "# # ########################################################################################\n",
    "# # # Download data\n",
    "# # (X, y), (X_test, y_test) = fashion_mnist.load_data()\n",
    "\n",
    "# # # Reshaping the data matrices\n",
    "# # X = X.reshape(X.shape[0], 784)\n",
    "# # X_test = X_test.reshape(X_test.shape[0], 784)\n",
    "\n",
    "# # # Normalizing the pixel intensities\n",
    "# # X = X / 255.0\n",
    "# # X_test = X_test / 255.0\n",
    "\n",
    "# # # Split the X_train into a training set and validation set\n",
    "# # X_train, X_val, y_train, y_val = train_test_split(X, y, test_size=0.1, random_state=42)\n",
    "\n",
    "# # ############################################################################\n",
    "# # # Dataset Preprocessing\n",
    "# # # Number of training examples\n",
    "# # M = X_train.shape[0]\n",
    "\n",
    "# # # Number of validation samples\n",
    "# # Mval = X_val.shape[0]\n",
    "\n",
    "# # # Number of test examples\n",
    "# # Mtest = X_test.shape[0]\n",
    "\n",
    "# # # Number of features in the dataset\n",
    "# # num_features = 784\n",
    "\n",
    "# # # Number of classes\n",
    "# # num_classes = len(np.unique(y_train))\n",
    "\n",
    "# # # One hot encoding for class labels\n",
    "# # y_train_one_hot = np.zeros((10, M))\n",
    "# # y_train_one_hot[y_train, np.array(list(range(M)))] = 1\n",
    "\n",
    "# # y_val_one_hot = np.zeros((10, Mval))\n",
    "# # y_val_one_hot[y_val, np.array(list(range(Mval)))] = 1\n",
    "\n",
    "# # y_test_one_hot = np.zeros((10, Mtest))\n",
    "# # y_test_one_hot[y_test, np.array(list(range(Mtest)))] = 1\n",
    "\n",
    "# # print(\"Number of images in the training set =\", M)\n",
    "# # print(\"Number of images in the validation set =\", Mval)\n",
    "# # print(\"Number of images in the test set =\", Mtest)\n",
    "# # print(\"Number of classes =\", num_classes)\n",
    "# # print(\"Number of features per example =\", num_features)\n",
    "\n",
    "# # # Modify shapes of the data matrices\n",
    "# # X_train = X_train.T\n",
    "# # X_val = X_val.T\n",
    "# # X_test = X_test.T\n",
    "# # X = X.T\n",
    "\n",
    "# # Number of neurons in the input and output layers\n",
    "# input_nodes = num_features\n",
    "# output_nodes = num_classes\n",
    "\n",
    "# ########################################################################\n",
    "# # Class names\n",
    "# class_names = ['T-shirt/top', 'Trouser', 'Pullover', 'Dress', 'Coat', 'Sandal', 'Shirt', 'Sneaker', 'Bag', 'Ankle boot']\n",
    "\n",
    "# ########################################################################\n",
    "# # Print Sample Images\n",
    "# # Store the index of first occurrence of each class\n",
    "# example_indices = [list(y_train).index(i) for i in range(num_classes)]\n",
    "\n",
    "# fig = plt.figure(figsize=(10, 5))\n",
    "# count = 1\n",
    "# for index in example_indices:\n",
    "#     ax = fig.add_subplot(2, 5, count)\n",
    "#     ax.set_title(class_names[y_train[index]])  # Add title with class name\n",
    "#     ax.imshow(X_train.T[index].reshape((28, 28)), cmap='gray')\n",
    "#     count += 1\n",
    "\n",
    "# plt.tight_layout()\n",
    "# plt.show()\n"
   ]
  },
  {
   "cell_type": "code",
   "execution_count": 59,
   "id": "ac804b7b",
   "metadata": {},
   "outputs": [
    {
     "data": {
      "image/png": "[encoded data removed]",
      "text/plain": [
       "<Figure size 1000x500 with 10 Axes>"
      ]
     },
     "metadata": {},
     "output_type": "display_data"
    }
   ],
   "source": [
    "# Number of neurons in the input and output layers\n",
    "input_nodes = num_features\n",
    "output_nodes = num_classes\n",
    "\n",
    "# Class names dictionary\n",
    "class_labels = {\n",
    "    0: \"T-shirt/top\",\n",
    "    1: \"Trouser\",\n",
    "    2: \"Pullover\",\n",
    "    3: \"Dress\",\n",
    "    4: \"Coat\",\n",
    "    5: \"Sandal\",\n",
    "    6: \"Shirt\",\n",
    "    7: \"Sneaker\",\n",
    "    8: \"Bag\",\n",
    "    9: \"Ankle boot\"\n",
    "}\n",
    "\n",
    "# Print Sample Images\n",
    "# Store the index of first occurrence of each class\n",
    "example_indices = [list(y_train).index(i) for i in range(num_classes)]\n",
    "\n",
    "fig = plt.figure(figsize=(10, 5))\n",
    "count = 1\n",
    "for index in example_indices:\n",
    "    ax = fig.add_subplot(2, 5, count)\n",
    "    ax.set_title(class_labels[y_train[index]])  # Add title with class name\n",
    "    ax.imshow(X_train.T[index].reshape((28, 28)), cmap='gray')\n",
    "    count += 1\n",
    "\n",
    "plt.tight_layout()\n",
    "plt.show()"
   ]
  },
  {
   "cell_type": "code",
   "execution_count": null,
   "id": "98cbe46d",
   "metadata": {},
   "outputs": [],
   "source": []
  },
  {
   "cell_type": "code",
   "execution_count": null,
   "id": "0304cf93",
   "metadata": {},
   "outputs": [],
   "source": []
  },
  {
   "cell_type": "code",
   "execution_count": null,
   "id": "b7b368e6",
   "metadata": {},
   "outputs": [],
   "source": []
  },
  {
   "cell_type": "code",
   "execution_count": 64,
   "id": "e9fea3b3",
   "metadata": {},
   "outputs": [],
   "source": [
    "#################################################################################\n",
    "\n",
    "# Components of the Neural Network Model\n",
    "# Activation functions and their derivatives\n",
    "def sigmoid(x):\n",
    "    return 1. / (1.+np.exp(-x))\n",
    "\n",
    "def sigmoid_derivative(x):\n",
    "    return sigmoid(x) * (1-sigmoid(x))\n",
    "\n",
    "def Relu(x):\n",
    "    return np.maximum(0,x)\n",
    "\n",
    "def Relu_derivative(x):\n",
    "    return 1*(x>0) \n",
    "\n",
    "def tanh(x):\n",
    "    return np.tanh(x)\n",
    "\n",
    "def tanh_derivative(x):\n",
    "    return (1 - (np.tanh(x)**2))\n",
    "\n",
    "def softmax(x):\n",
    "    return np.exp(x) / np.sum(np.exp(x), axis=0)\n",
    "\n",
    "def softmax_derivative(x):\n",
    "    return softmax(x) * (1-softmax(x))\n",
    "\n",
    "def compute_multiclass_loss(Y, Y_hat, batch_size, loss, lamb, parameters):\n",
    "\n",
    "    if loss == 'categorical_crossentropy':\n",
    "         L = (-1.0 * np.sum(np.multiply(Y, np.log(Y_hat))))/batch_size\n",
    "    elif loss == 'mse':\n",
    "         L = (1/2) * np.sum((Y-Y_hat)**2)/batch_size\n",
    "\n",
    "    #Add L2 regularisation\n",
    "    acc = 0\n",
    "    for i in range(1, len(parameters)//2 + 1):\n",
    "        acc += np.sum(parameters[\"W\"+str(i)]**2)\n",
    "\n",
    "    L = L + (lamb/(2*batch_size))*acc\n",
    "\n",
    "    return L"
   ]
  },
  {
   "cell_type": "code",
   "execution_count": 65,
   "id": "2f8b2036",
   "metadata": {},
   "outputs": [],
   "source": [
    "####################################################################################\n",
    "# Initialize parameters\n",
    "def initialize_parameters(layer_dims, init_mode=\"xavier\"):\n",
    "    '''Function to initialise weights, biases and velocities/previous updates of the NN\n",
    "\n",
    "    Parameters\n",
    "    ----------\n",
    "    layer_dims: list\n",
    "        list of number of neurons per layer specifying layer dimensions in the format [#input_features,#hiddenunits...#hiddenunits,#outputclasses]\n",
    "\n",
    "    init_mode: string\n",
    "        initialisation mode, default-\"xavier\"\n",
    "\n",
    "    Returns\n",
    "    -------\n",
    "    params: dict\n",
    "        contains weights and biases. eg params[W1] is weight for layer 1\n",
    "\n",
    "    previous updates: dict\n",
    "        previous updates initialisation. This is used for different perposes for different optimisers.\n",
    "\n",
    "    '''\n",
    "    np.random.seed(42)\n",
    "    params = {}\n",
    "    previous_updates = {}\n",
    "\n",
    "    for i in range(1, len(layer_dims)):\n",
    "        if init_mode == 'random_normal':\n",
    "            params[\"W\"+str(i)] = np.random.randn(layer_dims[i], layer_dims[i-1]) * 0.01\n",
    "        elif init_mode == 'random_uniform':\n",
    "            params[\"W\"+str(i)] = np.random.rand(layer_dims[i], layer_dims[i-1]) * 0.01\n",
    "        elif init_mode == 'xavier':\n",
    "            params[\"W\"+str(i)]= np.random.randn(layer_dims[i],layer_dims[i-1])*np.sqrt(2/(layer_dims[i]+layer_dims[i-1]))\n",
    "            \n",
    "        params[\"b\"+str(i)] = np.zeros((layer_dims[i], 1))\n",
    "        \n",
    "        previous_updates[\"W\"+str(i)] = np.zeros((layer_dims[i], layer_dims[i-1]))\n",
    "        previous_updates[\"b\"+str(i)] = np.zeros((layer_dims[i], 1))\n",
    "\n",
    "    return params,previous_updates"
   ]
  },
  {
   "cell_type": "code",
   "execution_count": 66,
   "id": "d2767c71",
   "metadata": {},
   "outputs": [],
   "source": [
    "######################################################################################################################################\n",
    "\n",
    "# Forward Propagation\n",
    "def forward_propagate(X, params, activation_f):\n",
    "    '''Function to forward propagate a minibatch of data once through the NN\n",
    "\n",
    "    Parameters\n",
    "    ----------\n",
    "    X: numpy array\n",
    "        data in (features,batch_size) format\n",
    "\n",
    "    params: dict\n",
    "        W and b of the NN\n",
    "\n",
    "    activation_f: string\n",
    "        activation function to be used except the output layer\n",
    "\n",
    "    Returns\n",
    "    -------\n",
    "    output: numpy array\n",
    "        contains the output probabilities for each class and each data sample after 1 pass\n",
    "    A: numpy array\n",
    "        contains all post-activations\n",
    "    Z: numpy array\n",
    "        contsins all pre-activations\n",
    "\n",
    "    '''\n",
    "    L = len(params)//2 + 1\n",
    "    A = [None]*L # activations\n",
    "    Z = [None]*L # pre-activations\n",
    "    \n",
    "    A[0] = X\n",
    "    \n",
    "    for l in range(1, L):\n",
    "        W = params[\"W\"+str(l)]\n",
    "        b = params[\"b\"+str(l)]\n",
    "        \n",
    "        Z[l] = np.matmul(W,A[l-1]) + b \n",
    "        \n",
    "        if l == L-1:\n",
    "            A[l] = softmax(Z[l]) # activation function for output layer\n",
    "        else:\n",
    "            if activation_f == 'sigmoid':\n",
    "                A[l] = sigmoid(Z[l])\n",
    "            elif activation_f == 'relu':\n",
    "                A[l] = Relu(Z[l])\n",
    "            elif activation_f == 'tanh':\n",
    "                A[l] = tanh(Z[l])\n",
    "                \n",
    "    output = A[L-1]\n",
    "\n",
    "    return output,A,Z"
   ]
  },
  {
   "cell_type": "code",
   "execution_count": 67,
   "id": "a5debb7f",
   "metadata": {},
   "outputs": [
    {
     "ename": "IndentationError",
     "evalue": "expected an indented block (152619428.py, line 6)",
     "output_type": "error",
     "traceback": [
      "\u001b[1;36m  File \u001b[1;32m\"C:\\Users\\OM\\AppData\\Local\\Temp\\ipykernel_15684\\152619428.py\"\u001b[1;36m, line \u001b[1;32m6\u001b[0m\n\u001b[1;33m    '''Function to calculate gradients for a minibatch of data once through the NN through backpropagation\u001b[0m\n\u001b[1;37m    ^\u001b[0m\n\u001b[1;31mIndentationError\u001b[0m\u001b[1;31m:\u001b[0m expected an indented block\n"
     ]
    }
   ],
   "source": [
    "    ########################################################################################################################\n",
    "\n",
    "\n",
    "# Backpropagation\n",
    "def backprop(y_hat, y,A, Z, params, activation_f, batch_size, loss, lamb):\n",
    "    '''Function to calculate gradients for a minibatch of data once through the NN through backpropagation\n",
    "\n",
    "    Parameters\n",
    "    ----------\n",
    "    y_hat: numpy array\n",
    "        output from forward propagation/ class probabilities\n",
    "\n",
    "    y: numpy array\n",
    "        actual class labels\n",
    "     \n",
    "    A: numpy array\n",
    "        post-activations\n",
    "\n",
    "    Z: numpy array\n",
    "        pre-activations   \n",
    "\n",
    "    params: dict\n",
    "        contains W and b on the NN   \n",
    "\n",
    "    activation_f: string\n",
    "        activation function to be used except the output layer\n",
    "\n",
    "    batch_size: int\n",
    "        mini-batch-size\n",
    "\n",
    "    loss: string\n",
    "        loss function (MSE/Categorical crossentropy)\n",
    "\n",
    "    lamb: float\n",
    "        L2 regularisation lambda\n",
    "\n",
    "    Returns\n",
    "    -------\n",
    "    gradients: dict\n",
    "        gradients wrt weights and biases\n",
    "\n",
    "    '''\n",
    "    L = len(params)//2 #no. of layers\n",
    "    gradients = {}\n",
    "    \n",
    "    #process last layer which has softmax\n",
    "    if loss == 'categorical_crossentropy':\n",
    "        gradients[\"dZ\"+str(L)] = A[L]-y\n",
    "    elif loss == 'mse':\n",
    "        gradients[\"dZ\"+str(L)] = (A[L]-y) * softmax_derivative(Z[L])\n",
    "    \n",
    "    #process other layers\n",
    "    for l in range(L,0,-1):\n",
    "        gradients[\"dW\" + str(l)] = (np.dot(gradients[\"dZ\" + str(l)], A[l-1].T) + lamb*params[\"W\"+str(l)]) / batch_size\n",
    "        gradients[\"db\" + str(l)] = np.sum(gradients[\"dZ\" + str(l)], axis=1, keepdims=True) / batch_size\n",
    "        \n",
    "        if l>1: \n",
    "            if activation_f == 'sigmoid':\n",
    "                gradients[\"dZ\"+str(l-1)] = np.matmul(params[\"W\" + str(l)].T, gradients[\"dZ\" + str(l)]) * sigmoid_derivative(Z[l-1])\n",
    "            elif activation_f == 'relu':\n",
    "                gradients[\"dZ\"+str(l-1)] = np.matmul(params[\"W\" + str(l)].T, gradients[\"dZ\" + str(l)]) * Relu_derivative(Z[l-1])\n",
    "            elif activation_f == 'tanh':\n",
    "                gradients[\"dZ\"+str(l-1)] = np.matmul(params[\"W\" + str(l)].T, gradients[\"dZ\" + str(l)]) * tanh_derivative(Z[l-1])\n",
    "        \n",
    "    return gradients\n",
    "\n",
    "    ############################################################################################################################\n",
    "\n",
    "  # Optimizers\n",
    "  \n",
    "############# This block contains functions that implement stochastic gradient descent, momentum, RMSprop, Adam. Nadam and Nestorov accelerated gradient are implemented inside the NN_fit function.\n",
    "def update_params_sgd(parameters,grads,learning_rate):\n",
    "    ''' Update W and b of the NN according to sgd updates\n",
    "\n",
    "    Parameters\n",
    "    ----------\n",
    "    parameters: dict\n",
    "        contains weights and biases of the NN\n",
    "\n",
    "    grads: dict\n",
    "        contains gradients wrt W and b returned by backpropagation\n",
    "\n",
    "    learning_rate: float\n",
    "        learning rate\n",
    "\n",
    "    Returns\n",
    "    -------\n",
    "    parameters: dict\n",
    "        updated NN parameters\n",
    "\n",
    "    '''\n",
    "    L = len(parameters) // 2 \n",
    "    \n",
    "    for l in range(1, L + 1):\n",
    "        parameters[\"W\" + str(l)] = parameters[\"W\" + str(l)] - learning_rate * grads[\"dW\" + str(l)]\n",
    "        parameters[\"b\" + str(l)] = parameters[\"b\" + str(l)] - learning_rate * grads[\"db\" + str(l)]\n",
    "\n",
    "    return parameters\n",
    "\n",
    "def update_parameters_momentum(parameters, grads, learning_rate, beta, previous_updates):\n",
    "    ''' Update W and b of the NN according to momentum updates\n",
    "\n",
    "    Parameters\n",
    "    ----------\n",
    "    parameters: dict\n",
    "        contains weights and biases of the NN\n",
    "\n",
    "    grads: dict\n",
    "        contains gradients wrt W and b returned by backpropagation\n",
    "\n",
    "    learning_rate: float\n",
    "        learning rate\n",
    "    \n",
    "    beta: float\n",
    "        decay rate\n",
    "\n",
    "    previous_updates: dict\n",
    "        contains previous W and b values, accumulated in a weighted fashion along with the gradients eg.\n",
    "        previous_updates[Wi] = beta*previous_updates[Wi] + (1-beta)*gradient[dWi]\n",
    "\n",
    "    Returns\n",
    "    -------\n",
    "    parameters: dict\n",
    "        updated NN parameters\n",
    "\n",
    "    previous updates: dict\n",
    "        updated previous updates \n",
    "\n",
    "    '''\n",
    "    L = len(parameters) // 2 # number of layers in the neural network\n",
    "\n",
    "    for l in range(1, L + 1):\n",
    "        previous_updates[\"W\"+str(l)] = beta*previous_updates[\"W\"+str(l)] + (1-beta)*grads[\"dW\" + str(l)]\n",
    "        parameters[\"W\" + str(l)] = parameters[\"W\" + str(l)] - learning_rate*previous_updates[\"W\"+str(l)]\n",
    "        \n",
    "        previous_updates[\"b\"+str(l)] = beta*previous_updates[\"b\"+str(l)] + (1-beta)*grads[\"db\" + str(l)]\n",
    "        parameters[\"b\" + str(l)] = parameters[\"b\" + str(l)] - learning_rate*previous_updates[\"b\"+str(l)]\n",
    "\n",
    "    return parameters, previous_updates\n",
    "    \n",
    "def update_parameters_RMSprop(parameters, grads, learning_rate, beta, v):\n",
    "    ''' Update W and b of the NN according to RMSprop updates\n",
    "\n",
    "    Parameters\n",
    "    ----------\n",
    "    parameters: dict\n",
    "        contains weights and biases of the NN\n",
    "\n",
    "    grads: dict\n",
    "        contains gradients wrt W and b returned by backpropagation\n",
    "\n",
    "    learning_rate: float\n",
    "        learning rate\n",
    "    \n",
    "    beta: float\n",
    "        decay rate\n",
    "\n",
    "    v: dict\n",
    "        contains previous W and b values, accumulated in a weighted fashion along with the gradients square eg.\n",
    "        v[Wi] = beta*v[Wi] + (1-beta)*(gradient[dWi]^2)\n",
    "\n",
    "    Returns\n",
    "    -------\n",
    "    parameters: dict\n",
    "        updated NN parameters\n",
    "\n",
    "    v: dict\n",
    "        updated \"velocities\"\n",
    "\n",
    "    '''\n",
    "\n",
    "    L = len(parameters) // 2 # number of layers in the neural network\n",
    "    delta = 1e-6 # for numerical stability\n",
    "\n",
    "    for l in range(1, L + 1):\n",
    "        vdw = beta*v[\"W\" + str(l)] + (1-beta)*np.multiply(grads[\"dW\" + str(l)],grads[\"dW\" + str(l)])\n",
    "        vdb = beta*v[\"b\" + str(l)] + (1-beta)*np.multiply(grads[\"db\" + str(l)],grads[\"db\" + str(l)])\n",
    "\n",
    "        parameters[\"W\" + str(l)] = parameters[\"W\" + str(l)] - learning_rate * grads[\"dW\" + str(l)] / (np.sqrt(vdw)+delta)\n",
    "        parameters[\"b\" + str(l)] = parameters[\"b\" + str(l)] - learning_rate * grads[\"db\" + str(l)] / (np.sqrt(vdb)+delta)\n",
    "\n",
    "        v[\"W\" + str(l)] = vdw\n",
    "        v[\"b\" + str(l)] = vdb\n",
    "\n",
    "    return parameters,v\n",
    "\n",
    "def update_parameters_adam(parameters, grads, learning_rate, v, m, t):\n",
    "    ''' Update W and b of the NN according to adam updates\n",
    "\n",
    "    Parameters\n",
    "    ----------\n",
    "    parameters: dict\n",
    "        contains weights and biases of the NN\n",
    "\n",
    "    grads: dict\n",
    "        contains gradients wrt W and b returned by backpropagation\n",
    "\n",
    "    learning_rate: float\n",
    "        learning rate\n",
    "\n",
    "    v: dict\n",
    "        contains previous W and b values, accumulated in a weighted fashion along with the gradients eg.\n",
    "        v[Wi] = beta1*v[Wi] + (1-beta1)*(gradient[dWi])\n",
    "\n",
    "    m: dict\n",
    "        contains previous W and b values, accumulated in a weighted fashion along with the gradients^2 eg.\n",
    "        v[Wi] = beta2*v[Wi] + (1-beta2)*(gradient[dWi]^2)\n",
    "\n",
    "    t: int\n",
    "        timestep for Adam\n",
    "\n",
    "    Returns\n",
    "    -------\n",
    "    parameters: dict\n",
    "        updated NN parameters\n",
    "\n",
    "    v: dict\n",
    "        updated previous updates\n",
    "\n",
    "    m: dict\n",
    "        updated \"velocities\"\n",
    "\n",
    "    t: int\n",
    "        updated timestep\n",
    "\n",
    "    '''\n",
    "    L = len(parameters) // 2 # number of layers in the neural network\n",
    "    beta1 = 0.9 #default\n",
    "    beta2 = 0.999 #default\n",
    "    epsilon = 1e-8 #for numerical stability\n",
    "\n",
    "    for l in range(1, L+1):\n",
    "        mdw = beta1*m[\"W\"+str(l)] + (1-beta1)*grads[\"dW\"+str(l)]\n",
    "        vdw = beta2*v[\"W\"+str(l)] + (1-beta2)*np.square(grads[\"dW\"+str(l)])\n",
    "        mw_hat = mdw/(1.0 - beta1**t)\n",
    "        vw_hat = vdw/(1.0 - beta2**t)\n",
    "\n",
    "        parameters[\"W\"+str(l)] = parameters[\"W\"+str(l)] - (learning_rate * mw_hat)/np.sqrt(vw_hat + epsilon)\n",
    "\n",
    "        mdb = beta1*m[\"b\"+str(l)] + (1-beta1)*grads[\"db\"+str(l)]\n",
    "        vdb = beta2*v[\"b\"+str(l)] + (1-beta2)*np.square(grads[\"db\"+str(l)])\n",
    "        mb_hat = mdb/(1.0 - beta1**t)\n",
    "        vb_hat = vdb/(1.0 - beta2**t)\n",
    "\n",
    "        parameters[\"b\"+str(l)] = parameters[\"b\"+str(l)] - (learning_rate * mb_hat)/np.sqrt(vb_hat + epsilon)\n",
    "\n",
    "        v[\"dW\"+str(l)] = vdw\n",
    "        m[\"dW\"+str(l)] = mdw\n",
    "        v[\"db\"+str(l)] = vdb\n",
    "        m[\"db\"+str(l)] = mdb\n",
    "\n",
    "    t = t + 1 # timestep\n",
    "    return parameters, v, m, t\n",
    "\n",
    "######## Enter your new optimiser updates function here #############\n",
    "#                                                                   #\n",
    "#####################################################################\n",
    "\n",
    "########################################################################################################################\n",
    "# Function to plot the cost curves\n",
    "def plot_cost_curve(train_costs, val_costs):\n",
    "    '''\n",
    "    Plots the train and validation cost curves\n",
    "    '''\n",
    "    plt.plot(list(range(len(train_costs))), train_costs, 'r', label=\"Training loss\")\n",
    "    plt.plot(list(range(len(val_costs))), val_costs, 'lime', label=\"Validation loss\")\n",
    "    plt.title(\"Training and Validation Loss vs Number of Epochs\", size=14)\n",
    "    plt.xlabel(\"Number of epochs\", size=14)\n",
    "    plt.ylabel(\"Loss\", size=14)\n",
    "    plt.grid()\n",
    "    plt.legend()\n",
    "    plt.show()\n",
    "\n",
    "\n",
    "    ####################################################################################################################\n",
    "\n",
    "# Prediction and Evaluation functions\n",
    "def NN_predict(X_test, params, activation_f):\n",
    "    '''\n",
    "    forward propagate once and calculate labels\n",
    "\n",
    "    '''\n",
    "    output, _, _ = forward_propagate(X_test, params, activation_f)\n",
    "    predictions = np.argmax(output, axis=0)\n",
    "    return predictions\n",
    "\n",
    "def NN_evaluate(X_train, y_train, X_test, y_test, params, activation_f):\n",
    "    '''\n",
    "    print train,test accuracies and the classification report using sklearn\n",
    "\n",
    "    '''\n",
    "    train_predictions = NN_predict(X_train, params, activation_f)\n",
    "    test_predictions = NN_predict(X_test, params, activation_f)\n",
    "\n",
    "    print(\"Training accuracy = {} %\".format(round(accuracy_score(y_train, train_predictions) * 100, 3)))\n",
    "    print(\"Test accuracy = {} %\".format(round(accuracy_score(y_test, test_predictions) * 100, 3)))\n",
    "\n",
    "    print(\"Classification report for the test set:\\n\")\n",
    "    print(classification_report(y_test, test_predictions))\n",
    "\n",
    "    return train_predictions, test_predictions\n",
    "\n",
    "#########################################################################################################################\n",
    "# Training the model with the best combination of hyperparameters\n",
    "\n",
    "# Training on the full dataset\n",
    "\n",
    "def NN_fit(X_train, y_train_one_hot,X_val,y_val_one_hot, learning_rate = 0.001, activation_f = 'tanh', init_mode = 'xavier', \n",
    "                optimizer = 'adam', batch_size = 512, loss = 'categorical_crossentropy', epochs = 20, L2_lamb = 0,\n",
    "                layer_dims=[]):\n",
    "    \"\"\"This function is used to train the neural network on the dataset \n",
    "\n",
    "    X_train: numpy array\n",
    "        train dataset\n",
    "\n",
    "    y_train_one_hot: numpy array\n",
    "        train labels with one-hot encoding\n",
    "\n",
    "    learning_rate: float\n",
    "\n",
    "    activation_f: string\n",
    "        activation functions for all the layers except the last layer which is softmax\n",
    "\n",
    "    init_mode: string\n",
    "        initialization mode\n",
    "    \n",
    "    optimizer: string\n",
    "        optimization routine\n",
    "\n",
    "    bach_size: int\n",
    "        minibatch size\n",
    "\n",
    "    loss: string\n",
    "        loss function\n",
    "\n",
    "    epochs: int\n",
    "        number of epochs to be used\n",
    "\n",
    "    L2_lamb: float\n",
    "        lambda for L2 regularisation of weights\n",
    "\n",
    "    num_neurons: int\n",
    "        number of neurons in every hidden layer\n",
    "\n",
    "    num_hidden: \n",
    "        number of hidden layers\n",
    "\n",
    "    Returns\n",
    "    -------\n",
    "\n",
    "    parameters: dict\n",
    "        weights and biases of the NN model\n",
    "\n",
    "    epoch_cost: list\n",
    "        training costs with every epoch\n",
    "    \n",
    "\n",
    "    \"\"\"\n",
    "\n",
    "\n",
    "    params, previous_updates = initialize_parameters(layer_dims, init_mode) # initialize the parameters and past updates matrices\n",
    "    \n",
    "    epoch_cost = []\n",
    "    validation_epoch_cost=[]\n",
    "    \n",
    "    count = 1\n",
    "    t = 1 # initialize timestep for Adam optimizer\n",
    "    v = previous_updates.copy()\n",
    "    m = previous_updates.copy()\n",
    "    params_look_ahead = params.copy() # initialization for nestorov\n",
    "    beta = 0.9\n",
    "    loss = 'categorical_crossentropy'    \n",
    "\n",
    "    while count<=epochs:\n",
    "        count = count + 1 # increment the number of epochs\n",
    "\n",
    "        for i in range(0, X_train.shape[1], batch_size):\n",
    "            batch_count = batch_size\n",
    "\n",
    "            if i + batch_size > X_train.shape[1]: # the last mini-batch might contain fewer than \"batch_size\" examples\n",
    "                batch_count = X_train.shape[1] - i + 1\n",
    "            \n",
    "            #process all nesterov accelerated optimisers\n",
    "\n",
    "            #NAG\n",
    "            if optimizer == 'nesterov':\n",
    "                L = len(params)//2\n",
    "\n",
    "                #look ahead logic\n",
    "                for l in range(1, L+1):\n",
    "                    params_look_ahead[\"W\"+str(l)] = params[\"W\"+str(l)] - beta*previous_updates[\"W\"+str(l)]\n",
    "                    params_look_ahead[\"b\"+str(l)] = params[\"b\"+str(l)] - beta*previous_updates[\"b\"+str(l)]\n",
    "                    \n",
    "                output,A,Z = forward_propagate(X_train[:,i:i+batch_size],params_look_ahead,activation_f)\n",
    "                gradients = backprop(output,y_train_one_hot[:,i:i+batch_size],A,Z,params_look_ahead,activation_f, batch_count, loss, L2_lamb)\n",
    "\n",
    "                #call momentum\n",
    "                params,previous_updates = update_parameters_momentum(params, gradients, learning_rate, beta, previous_updates)\n",
    "\n",
    "            #nadam\n",
    "            elif optimizer=='nadam':\n",
    "                L = len(params)//2\n",
    "\n",
    "                #look ahead logic\n",
    "                for l in range(1, L+1):\n",
    "                    params_look_ahead[\"W\"+str(l)] = params[\"W\"+str(l)] - beta*previous_updates[\"W\"+str(l)]\n",
    "                    params_look_ahead[\"b\"+str(l)] = params[\"b\"+str(l)] - beta*previous_updates[\"b\"+str(l)]\n",
    "\n",
    "                output,A,Z = forward_propagate(X_train[:,i:i+batch_size],params_look_ahead,activation_f)\n",
    "                gradients = backprop(output,y_train_one_hot[:,i:i+batch_size],A,Z,params_look_ahead,activation_f, batch_count, loss, L2_lamb)\n",
    "\n",
    "                #call adam\n",
    "                params, v, m, t = update_parameters_adam(params, gradients, learning_rate, v, m, t)\n",
    "\n",
    "            #custom\n",
    "            elif optimizer == 'insert your nesterov accelerated optimiser here':\n",
    "                #insert your optimiser here if it is nesterov accelerated\n",
    "                \n",
    "\n",
    "                #insert lookahead logic here\n",
    "\n",
    "                #for weight updates, call that optimiser's weight update code here\n",
    "                pass\n",
    "\n",
    "            #process all other optimisers\n",
    "\n",
    "            else:\n",
    "                output,A,Z = forward_propagate(X_train[:,i:i+batch_size],params,activation_f)\n",
    "                gradients = backprop(output,y_train_one_hot[:,i:i+batch_size],A,Z,params,activation_f, batch_count, loss, L2_lamb)\n",
    "\n",
    "                if optimizer == 'sgd':\n",
    "                    params = update_params_sgd(params,gradients,learning_rate)\n",
    "                elif optimizer == 'momentum':\n",
    "                    params,previous_updates = update_parameters_momentum(params, gradients, learning_rate, beta, previous_updates)\n",
    "                elif optimizer == 'RMSprop':\n",
    "                    params,previous_updates = update_parameters_RMSprop(params, gradients, learning_rate, beta, previous_updates)\n",
    "                elif optimizer == 'adam':\n",
    "                    params, v, m, t = update_parameters_adam(params, gradients, learning_rate, v, m, t)\n",
    "\n",
    "                #custom\n",
    "                elif optimizer == 'insert your optimiser here':\n",
    "                    #insert your optimiser update routine only if it does not have nesterov \n",
    "                    pass\n",
    "\n",
    "                    \n",
    "        # Mean loss for the full training set\n",
    "        full_output, _, _ = forward_propagate(X_train, params, activation_f)\n",
    "        cost = compute_multiclass_loss(y_train_one_hot, full_output, M, loss, L2_lamb, params)\n",
    "        epoch_cost.append(cost)\n",
    "        \n",
    "        # Mean loss for the validation set\n",
    "        out, _, _ = forward_propagate(X_val, params, activation_f)\n",
    "        val_cost = compute_multiclass_loss(y_val_one_hot, out, Mval, loss, L2_lamb, params)\n",
    "        validation_epoch_cost.append(val_cost)\n",
    "\n",
    "        if (count % 2 == 0):\n",
    "            print(\"Epoch number: \", count, \"\\tTraining cost:\", cost)\n",
    "\n",
    "\n",
    "    \n",
    "    # Plot the training and validation cost curves\n",
    "    plot_cost_curve(epoch_cost, validation_epoch_cost)\n",
    "\n",
    "\n",
    "    return params, epoch_cost"
   ]
  },
  {
   "cell_type": "code",
   "execution_count": 68,
   "id": "84e85da9",
   "metadata": {},
   "outputs": [],
   "source": [
    "    ############################################################################################################\n",
    "\n",
    "#hyperparameters\n",
    "\n",
    "LEARNING_RATE = 0.001\n",
    "ACTIVATION = \"relu\"\n",
    "INITIALIZER = \"xavier\"\n",
    "OPTIMIZER = \"RMSprop\"\n",
    "BATCH_SIZE = 512\n",
    "EPOCHS = 40\n",
    "L2_lambda = 0.0005\n",
    "LAYER_DIMS = [784,64,32,64,10]\n",
    "\n",
    "LOSS = 'categorical_crossentropy'"
   ]
  },
  {
   "cell_type": "code",
   "execution_count": 69,
   "id": "6596e2e8",
   "metadata": {},
   "outputs": [
    {
     "name": "stdout",
     "output_type": "stream",
     "text": [
      "Epoch number:  2 \tTraining cost: 0.5769202950354183\n",
      "Epoch number:  4 \tTraining cost: 0.42310584037859006\n",
      "Epoch number:  6 \tTraining cost: 0.41721814323807416\n",
      "Epoch number:  8 \tTraining cost: 0.3468131490818894\n",
      "Epoch number:  10 \tTraining cost: 0.3367803637005607\n",
      "Epoch number:  12 \tTraining cost: 0.34752457614297527\n",
      "Epoch number:  14 \tTraining cost: 0.3035296228358496\n",
      "Epoch number:  16 \tTraining cost: 0.3228395789364383\n",
      "Epoch number:  18 \tTraining cost: 0.31161156165868803\n",
      "Epoch number:  20 \tTraining cost: 0.2698953092192508\n",
      "Epoch number:  22 \tTraining cost: 0.2752346694779267\n",
      "Epoch number:  24 \tTraining cost: 0.2612397689751799\n",
      "Epoch number:  26 \tTraining cost: 0.27151002573518607\n",
      "Epoch number:  28 \tTraining cost: 0.275168578487699\n",
      "Epoch number:  30 \tTraining cost: 0.2422530637336903\n",
      "Epoch number:  32 \tTraining cost: 0.23912280543241748\n",
      "Epoch number:  34 \tTraining cost: 0.23745700379582185\n",
      "Epoch number:  36 \tTraining cost: 0.2650429101676332\n",
      "Epoch number:  38 \tTraining cost: 0.26492851177167603\n",
      "Epoch number:  40 \tTraining cost: 0.2504183355508099\n"
     ]
    },
    {
     "data": {
      "image/png": "[encoded data removed]",
      "text/plain": [
       "<Figure size 640x480 with 1 Axes>"
      ]
     },
     "metadata": {},
     "output_type": "display_data"
    }
   ],
   "source": [
    "# ###################################################################################################################\n",
    "\n",
    "\n",
    "# learned_parameters, epoch_cost = NN_fit(X_train, y_train_one_hot,\n",
    "#                             X_val,y_val_one_hot,\n",
    "#                             learning_rate=LEARNING_RATE,\n",
    "#                             activation_f = ACTIVATION,\n",
    "#                             init_mode = INITIALIZER,\n",
    "#                             optimizer = OPTIMIZER,\n",
    "#                             batch_size = BATCH_SIZE,\n",
    "#                             loss = LOSS,\n",
    "#                             epochs = EPOCHS,\n",
    "#                             L2_lamb = L2_lambda,\n",
    "#                             layer_dims = LAYER_DIMS)\n",
    "\n",
    "\n",
    "learned_parameters, epoch_cost = NN_fit(X_train, y_train_one_hot,\n",
    "                            X_val,y_val_one_hot,\n",
    "                            learning_rate=LEARNING_RATE,\n",
    "                            activation_f = ACTIVATION,\n",
    "                            init_mode = INITIALIZER,\n",
    "                            optimizer = OPTIMIZER,\n",
    "                            batch_size = BATCH_SIZE,\n",
    "                            loss = LOSS,\n",
    "                            epochs = EPOCHS,\n",
    "                            L2_lamb = L2_lambda,\n",
    "                            layer_dims = LAYER_DIMS)"
   ]
  },
  {
   "cell_type": "code",
   "execution_count": 70,
   "id": "7201a7e2",
   "metadata": {},
   "outputs": [
    {
     "name": "stdout",
     "output_type": "stream",
     "text": [
      "Training accuracy = 92.074 %\n",
      "Test accuracy = 87.48 %\n",
      "Classification report for the test set:\n",
      "\n",
      "              precision    recall  f1-score   support\n",
      "\n",
      "           0       0.85      0.77      0.81      1000\n",
      "           1       0.99      0.97      0.98      1000\n",
      "           2       0.84      0.73      0.78      1000\n",
      "           3       0.88      0.89      0.89      1000\n",
      "           4       0.71      0.88      0.79      1000\n",
      "           5       0.98      0.95      0.96      1000\n",
      "           6       0.68      0.68      0.68      1000\n",
      "           7       0.92      0.97      0.95      1000\n",
      "           8       0.97      0.96      0.97      1000\n",
      "           9       0.97      0.94      0.96      1000\n",
      "\n",
      "    accuracy                           0.87     10000\n",
      "   macro avg       0.88      0.87      0.88     10000\n",
      "weighted avg       0.88      0.87      0.88     10000\n",
      "\n"
     ]
    }
   ],
   "source": [
    "##########################################################################################################################\n",
    "# Model Evaluation with X_test dataset\n",
    "train_predictions, test_predictions = NN_evaluate(X_train, y_train, X_test, y_test, learned_parameters, ACTIVATION)"
   ]
  },
  {
   "cell_type": "code",
   "execution_count": 71,
   "id": "cbedbe0d",
   "metadata": {},
   "outputs": [
    {
     "data": {
      "image/png": "[encoded data removed]",
      "text/plain": [
       "<Figure size 1000x700 with 2 Axes>"
      ]
     },
     "metadata": {},
     "output_type": "display_data"
    }
   ],
   "source": [
    "###############################################################################\n",
    "\n",
    "# Confusion matrix\n",
    "\n",
    "cm = confusion_matrix(y_test, test_predictions)\n",
    "\n",
    "plt.figure(figsize=(10, 7))\n",
    "sns.heatmap(cm, annot=True, fmt=\"d\", cmap=\"coolwarm\", xticklabels=class_names, yticklabels=class_names)\n",
    "plt.xlabel('Predicted labels')\n",
    "plt.ylabel('True labels')\n",
    "plt.title('Confusion Matrix')\n",
    "plt.show()"
   ]
  },
  {
   "cell_type": "code",
   "execution_count": 72,
   "id": "a4109467",
   "metadata": {},
   "outputs": [
    {
     "name": "stdout",
     "output_type": "stream",
     "text": [
      "Note: you may need to restart the kernel to use updated packages.\n",
      "Requirement already satisfied: wandb in c:\\users\\om\\anaconda3\\lib\\site-packages (0.16.3)\n",
      "Requirement already satisfied: requests<3,>=2.0.0 in c:\\users\\om\\anaconda3\\lib\\site-packages (from wandb) (2.28.1)\n",
      "Requirement already satisfied: docker-pycreds>=0.4.0 in c:\\users\\om\\anaconda3\\lib\\site-packages (from wandb) (0.4.0)\n",
      "Requirement already satisfied: PyYAML in c:\\users\\om\\anaconda3\\lib\\site-packages (from wandb) (6.0)\n",
      "Requirement already satisfied: GitPython!=3.1.29,>=1.0.0 in c:\\users\\om\\anaconda3\\lib\\site-packages (from wandb) (3.1.42)\n",
      "Requirement already satisfied: sentry-sdk>=1.0.0 in c:\\users\\om\\anaconda3\\lib\\site-packages (from wandb) (1.40.5)\n",
      "Requirement already satisfied: Click!=8.0.0,>=7.1 in c:\\users\\om\\anaconda3\\lib\\site-packages (from wandb) (8.0.4)\n",
      "Requirement already satisfied: typing-extensions in c:\\users\\om\\anaconda3\\lib\\site-packages (from wandb) (4.9.0)\n",
      "Requirement already satisfied: appdirs>=1.4.3 in c:\\users\\om\\anaconda3\\lib\\site-packages (from wandb) (1.4.4)\n",
      "Requirement already satisfied: setproctitle in c:\\users\\om\\anaconda3\\lib\\site-packages (from wandb) (1.3.3)\n",
      "Requirement already satisfied: protobuf!=4.21.0,<5,>=3.19.0 in c:\\users\\om\\anaconda3\\lib\\site-packages (from wandb) (4.24.3)\n",
      "Requirement already satisfied: psutil>=5.0.0 in c:\\users\\om\\anaconda3\\lib\\site-packages (from wandb) (5.9.0)\n",
      "Requirement already satisfied: setuptools in c:\\users\\om\\anaconda3\\lib\\site-packages (from wandb) (63.4.1)\n",
      "Requirement already satisfied: colorama in c:\\users\\om\\anaconda3\\lib\\site-packages (from Click!=8.0.0,>=7.1->wandb) (0.4.5)\n",
      "Requirement already satisfied: six>=1.4.0 in c:\\users\\om\\anaconda3\\lib\\site-packages (from docker-pycreds>=0.4.0->wandb) (1.16.0)\n",
      "Requirement already satisfied: gitdb<5,>=4.0.1 in c:\\users\\om\\anaconda3\\lib\\site-packages (from GitPython!=3.1.29,>=1.0.0->wandb) (4.0.11)\n",
      "Requirement already satisfied: certifi>=2017.4.17 in c:\\users\\om\\anaconda3\\lib\\site-packages (from requests<3,>=2.0.0->wandb) (2022.9.14)\n",
      "Requirement already satisfied: urllib3<1.27,>=1.21.1 in c:\\users\\om\\anaconda3\\lib\\site-packages (from requests<3,>=2.0.0->wandb) (1.26.11)\n",
      "Requirement already satisfied: idna<4,>=2.5 in c:\\users\\om\\anaconda3\\lib\\site-packages (from requests<3,>=2.0.0->wandb) (3.3)\n",
      "Requirement already satisfied: charset-normalizer<3,>=2 in c:\\users\\om\\anaconda3\\lib\\site-packages (from requests<3,>=2.0.0->wandb) (2.0.4)\n",
      "Requirement already satisfied: smmap<6,>=3.0.1 in c:\\users\\om\\anaconda3\\lib\\site-packages (from gitdb<5,>=4.0.1->GitPython!=3.1.29,>=1.0.0->wandb) (5.0.1)\n"
     ]
    },
    {
     "name": "stderr",
     "output_type": "stream",
     "text": [
      "WARNING: Ignoring invalid distribution -pencv-python (c:\\users\\om\\anaconda3\\lib\\site-packages)\n",
      "WARNING: Ignoring invalid distribution -pencv-python (c:\\users\\om\\anaconda3\\lib\\site-packages)\n",
      "WARNING: Ignoring invalid distribution -pencv-python (c:\\users\\om\\anaconda3\\lib\\site-packages)\n",
      "WARNING: Ignoring invalid distribution -pencv-python (c:\\users\\om\\anaconda3\\lib\\site-packages)\n",
      "WARNING: Ignoring invalid distribution -pencv-python (c:\\users\\om\\anaconda3\\lib\\site-packages)\n",
      "WARNING: Ignoring invalid distribution -pencv-python (c:\\users\\om\\anaconda3\\lib\\site-packages)\n"
     ]
    }
   ],
   "source": [
    "pip install wandb"
   ]
  },
  {
   "cell_type": "code",
   "execution_count": 75,
   "id": "739d50d8",
   "metadata": {},
   "outputs": [
    {
     "name": "stderr",
     "output_type": "stream",
     "text": [
      "wandb: Appending key for api.wandb.ai to your netrc file: C:\\Users\\OM\\.netrc\n"
     ]
    }
   ],
   "source": [
    "!wandb login 3793af9070b30c0e8f547fa4b4698af966eb8e0f"
   ]
  },
  {
   "cell_type": "code",
   "execution_count": 77,
   "id": "a8dea18c",
   "metadata": {},
   "outputs": [
    {
     "data": {
      "text/html": [
       "wandb version 0.16.4 is available!  To upgrade, please run:\n",
       " $ pip install wandb --upgrade"
      ],
      "text/plain": [
       "<IPython.core.display.HTML object>"
      ]
     },
     "metadata": {},
     "output_type": "display_data"
    },
    {
     "data": {
      "text/html": [
       "Tracking run with wandb version 0.16.3"
      ],
      "text/plain": [
       "<IPython.core.display.HTML object>"
      ]
     },
     "metadata": {},
     "output_type": "display_data"
    },
    {
     "data": {
      "text/html": [
       "Run data is saved locally in <code>C:\\Users\\OM\\Desktop\\ABHIJEET\\IITM\\FoDL\\Assignments FoDL\\wandb\\run-20240306_221829-t9tp6ufa</code>"
      ],
      "text/plain": [
       "<IPython.core.display.HTML object>"
      ]
     },
     "metadata": {},
     "output_type": "display_data"
    },
    {
     "data": {
      "text/html": [
       "Syncing run <strong><a href='https://wandb.ai/abhijeet001/my-awesome-project/runs/t9tp6ufa' target=\"_blank\">stilted-jazz-2</a></strong> to <a href='https://wandb.ai/abhijeet001/my-awesome-project' target=\"_blank\">Weights & Biases</a> (<a href='https://wandb.me/run' target=\"_blank\">docs</a>)<br/>"
      ],
      "text/plain": [
       "<IPython.core.display.HTML object>"
      ]
     },
     "metadata": {},
     "output_type": "display_data"
    },
    {
     "data": {
      "text/html": [
       " View project at <a href='https://wandb.ai/abhijeet001/my-awesome-project' target=\"_blank\">https://wandb.ai/abhijeet001/my-awesome-project</a>"
      ],
      "text/plain": [
       "<IPython.core.display.HTML object>"
      ]
     },
     "metadata": {},
     "output_type": "display_data"
    },
    {
     "data": {
      "text/html": [
       " View run at <a href='https://wandb.ai/abhijeet001/my-awesome-project/runs/t9tp6ufa' target=\"_blank\">https://wandb.ai/abhijeet001/my-awesome-project/runs/t9tp6ufa</a>"
      ],
      "text/plain": [
       "<IPython.core.display.HTML object>"
      ]
     },
     "metadata": {},
     "output_type": "display_data"
    },
    {
     "data": {
      "application/vnd.jupyter.widget-view+json": {
       "model_id": "",
       "version_major": 2,
       "version_minor": 0
      },
      "text/plain": [
       "VBox(children=(Label(value='0.000 MB of 0.000 MB uploaded\\r'), FloatProgress(value=1.0, max=1.0)))"
      ]
     },
     "metadata": {},
     "output_type": "display_data"
    },
    {
     "data": {
      "text/html": [
       "<style>\n",
       "    table.wandb td:nth-child(1) { padding: 0 10px; text-align: left ; width: auto;} td:nth-child(2) {text-align: left ; width: 100%}\n",
       "    .wandb-row { display: flex; flex-direction: row; flex-wrap: wrap; justify-content: flex-start; width: 100% }\n",
       "    .wandb-col { display: flex; flex-direction: column; flex-basis: 100%; flex: 1; padding: 10px; }\n",
       "    </style>\n",
       "<div class=\"wandb-row\"><div class=\"wandb-col\"><h3>Run history:</h3><br/><table class=\"wandb\"><tr><td>acc</td><td>▁▂▆▆▆▆▇▆█▇▇███▇██▇</td></tr><tr><td>loss</td><td>█▄▂▂▂▂▂▂▂▂▂▁▁▁▂▁▁▁</td></tr></table><br/></div><div class=\"wandb-col\"><h3>Run summary:</h3><br/><table class=\"wandb\"><tr><td>acc</td><td>0.90412</td></tr><tr><td>loss</td><td>0.07792</td></tr></table><br/></div></div>"
      ],
      "text/plain": [
       "<IPython.core.display.HTML object>"
      ]
     },
     "metadata": {},
     "output_type": "display_data"
    },
    {
     "data": {
      "text/html": [
       " View run <strong style=\"color:#cdcd00\">stilted-jazz-2</strong> at: <a href='https://wandb.ai/abhijeet001/my-awesome-project/runs/t9tp6ufa' target=\"_blank\">https://wandb.ai/abhijeet001/my-awesome-project/runs/t9tp6ufa</a><br/>Synced 5 W&B file(s), 0 media file(s), 0 artifact file(s) and 0 other file(s)"
      ],
      "text/plain": [
       "<IPython.core.display.HTML object>"
      ]
     },
     "metadata": {},
     "output_type": "display_data"
    },
    {
     "data": {
      "text/html": [
       "Find logs at: <code>.\\wandb\\run-20240306_221829-t9tp6ufa\\logs</code>"
      ],
      "text/plain": [
       "<IPython.core.display.HTML object>"
      ]
     },
     "metadata": {},
     "output_type": "display_data"
    }
   ],
   "source": [
    "import wandb\n",
    "import random\n",
    "\n",
    "# start a new wandb run to track this script\n",
    "wandb.init(\n",
    "    # set the wandb project where this run will be logged\n",
    "    project=\"my-awesome-project\",\n",
    "    \n",
    "    # track hyperparameters and run metadata\n",
    "    config={\n",
    "    \"learning_rate\": 0.01,\n",
    "    \"architecture\": \"CNN-v2\",\n",
    "    \"dataset\": \"CIFAR-100\",\n",
    "    \"epochs\": 20,\n",
    "    }\n",
    ")\n",
    "\n",
    "# simulate training\n",
    "epochs = 20\n",
    "offset = random.random() / 5\n",
    "for epoch in range(2, epochs):\n",
    "    \n",
    "    acc = 1 - 2 ** -epoch - random.random() / epoch - offset\n",
    "    loss = 2 ** -epoch + random.random() / epoch + offset\n",
    "    \n",
    "    # log metrics to wandb\n",
    "    wandb.log({\"acc\": acc, \"loss\": loss})\n",
    "    \n",
    "# [optional] finish the wandb run, necessary in notebooks\n",
    "wandb.finish()"
   ]
  },
  {
   "cell_type": "code",
   "execution_count": null,
   "id": "0a91cf8f",
   "metadata": {},
   "outputs": [],
   "source": []
  }
 ],
 "metadata": {
  "kernelspec": {
   "display_name": "Python 3 (ipykernel)",
   "language": "python",
   "name": "python3"
  },
  "language_info": {
   "codemirror_mode": {
    "name": "ipython",
    "version": 3
   },
   "file_extension": ".py",
   "mimetype": "text/x-python",
   "name": "python",
   "nbconvert_exporter": "python",
   "pygments_lexer": "ipython3",
   "version": "3.9.13"
  }
 },
 "nbformat": 4,
 "nbformat_minor": 5
}
